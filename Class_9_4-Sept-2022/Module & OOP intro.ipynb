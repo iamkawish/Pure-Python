{
 "cells": [
  {
   "cell_type": "markdown",
   "id": "64ad8b11",
   "metadata": {},
   "source": [
    "# Module and Object Oriented Programming"
   ]
  },
  {
   "cell_type": "raw",
   "id": "3428a1fd",
   "metadata": {},
   "source": [
    "What is a module in python?\n",
    "Ans : A module in python in just python file (Any file with extension.py)"
   ]
  },
  {
   "cell_type": "raw",
   "id": "bc7f0c7b",
   "metadata": {},
   "source": [
    "# What a module actually hold?\n",
    "# Function , Class , Attributes"
   ]
  },
  {
   "cell_type": "raw",
   "id": "f4a38fc2",
   "metadata": {},
   "source": [
    "# Built in Module \n",
    "# Math , os, Numpy , pandas , Tensorflow"
   ]
  },
  {
   "cell_type": "code",
   "execution_count": 3,
   "id": "b9dd264a",
   "metadata": {},
   "outputs": [],
   "source": [
    "import math as m"
   ]
  },
  {
   "cell_type": "code",
   "execution_count": 5,
   "id": "7556365a",
   "metadata": {},
   "outputs": [
    {
     "data": {
      "text/plain": [
       "120"
      ]
     },
     "execution_count": 5,
     "metadata": {},
     "output_type": "execute_result"
    }
   ],
   "source": [
    "x=m.factorial(5)\n",
    "x"
   ]
  },
  {
   "cell_type": "code",
   "execution_count": 13,
   "id": "fd7cc0dc",
   "metadata": {},
   "outputs": [
    {
     "data": {
      "text/plain": [
       "48"
      ]
     },
     "execution_count": 13,
     "metadata": {},
     "output_type": "execute_result"
    }
   ],
   "source": [
    "import kawish as kaw\n",
    "#import myModule\n",
    "\n",
    "kaw.division(12,4)"
   ]
  },
  {
   "cell_type": "code",
   "execution_count": 2,
   "id": "306eab8c",
   "metadata": {},
   "outputs": [
    {
     "name": "stdout",
     "output_type": "stream",
     "text": [
      "9\n"
     ]
    }
   ],
   "source": [
    "print(myModule.add(4,5))"
   ]
  },
  {
   "cell_type": "code",
   "execution_count": null,
   "id": "e5301d65",
   "metadata": {},
   "outputs": [],
   "source": []
  },
  {
   "cell_type": "code",
   "execution_count": 1,
   "id": "7c6ce85a",
   "metadata": {},
   "outputs": [],
   "source": [
    "# %load myModule.py\n",
    "# a Module can have function, classes, variable\n",
    "def add(num1,num2):\n",
    "    \"\"\"Docstring:\n",
    "add(value1,value2)\n",
    "\n",
    "Sums the values.\n",
    "return and numerical value incase of integers are supplied \n",
    "return string value in case of string are supplied\"\"\"\n",
    "    return num1+ num2\n",
    "\n",
    "\n",
    "def sub(num3,num4):\n",
    "    \"\"\"Docstring:\n",
    "add(value1,value2)\n",
    "\n",
    "Subtract the values.\n",
    "return and numerical value incase of integers are supplied \n",
    "return string value in case of string are supplied\"\"\"\n",
    "    return num3-num4\n",
    "\n",
    "\n",
    "def circumference(radius):\n",
    "    return (2*3.142*radius)"
   ]
  },
  {
   "cell_type": "code",
   "execution_count": 2,
   "id": "e14e93dc",
   "metadata": {},
   "outputs": [],
   "source": [
    "%run myModule.py"
   ]
  },
  {
   "cell_type": "code",
   "execution_count": 3,
   "id": "aa7dd8f3",
   "metadata": {},
   "outputs": [],
   "source": [
    "from myModule import circumference"
   ]
  },
  {
   "cell_type": "code",
   "execution_count": 4,
   "id": "e1cc47ba",
   "metadata": {},
   "outputs": [
    {
     "data": {
      "text/plain": [
       "75.408"
      ]
     },
     "execution_count": 4,
     "metadata": {},
     "output_type": "execute_result"
    }
   ],
   "source": [
    "circumference(12)"
   ]
  },
  {
   "cell_type": "code",
   "execution_count": 9,
   "id": "8ac3df48",
   "metadata": {},
   "outputs": [],
   "source": [
    "import myModule"
   ]
  },
  {
   "cell_type": "code",
   "execution_count": 10,
   "id": "555893ca",
   "metadata": {},
   "outputs": [
    {
     "data": {
      "text/plain": [
       "15"
      ]
     },
     "execution_count": 10,
     "metadata": {},
     "output_type": "execute_result"
    }
   ],
   "source": [
    "myModule.add(12,3)"
   ]
  },
  {
   "cell_type": "code",
   "execution_count": 11,
   "id": "8493c10b",
   "metadata": {},
   "outputs": [],
   "source": [
    "import myModule1"
   ]
  },
  {
   "cell_type": "code",
   "execution_count": 12,
   "id": "cdc1b07f",
   "metadata": {},
   "outputs": [
    {
     "data": {
      "text/plain": [
       "('The Km is Convert to Meter', 14000)"
      ]
     },
     "execution_count": 12,
     "metadata": {},
     "output_type": "execute_result"
    }
   ],
   "source": [
    "myModule1.conversion(14)"
   ]
  },
  {
   "cell_type": "markdown",
   "id": "01137e89",
   "metadata": {},
   "source": [
    "# Object Oriented Programming"
   ]
  },
  {
   "cell_type": "raw",
   "id": "671b6563",
   "metadata": {},
   "source": [
    "- Object\n",
    "- Classes\n",
    "- Pillars of OOp's\n",
    "- Methods\n",
    "- Attributes"
   ]
  },
  {
   "cell_type": "markdown",
   "id": "59cce870",
   "metadata": {},
   "source": [
    "# What is OOP's\n",
    "Answer: It is a programming paradigm/style that allows us to bind data and methods together"
   ]
  },
  {
   "cell_type": "raw",
   "id": "864503bf",
   "metadata": {},
   "source": [
    "Object: Everything in python is object\n",
    "    - Every Object belong to a Class"
   ]
  },
  {
   "cell_type": "raw",
   "id": "9949aca1",
   "metadata": {},
   "source": [
    "1st Samsung Galaxy S7 designed and developed in lab and lunch in a ceremony : Class\n",
    "    copies : objects/Instance\n",
    "    Every Object will be Same\n",
    "    "
   ]
  },
  {
   "cell_type": "code",
   "execution_count": 21,
   "id": "ed0c7f3e",
   "metadata": {},
   "outputs": [],
   "source": [
    "class SamsungGalaxyS7:\n",
    "    # Attributes / Characteristics\n",
    "    # For example \n",
    "# Class Level Attributes\n",
    "    ram = \"4GB\"\n",
    "    Wight = \"120g\"\n",
    "    Processor = \"Snapdragon\"\n",
    "    Screen = \"6*4\"\n",
    "# Instance level attributes\n",
    "    Color= \"Grey\"\n",
    "        \n",
    "    # Behaviour / Action /Funtion                # Function inside the class>>method\n",
    "    def makecall(self):\n",
    "        print(\"Calling\")\n",
    "    def recvCall(self):\n",
    "        print(\"Recieving Call\")\n",
    "    def takepic(self):\n",
    "        print(\"Smile Please\")\n",
    "    def decCall(self):\n",
    "        print(\"Declined Call\")\n",
    "    def sendtxt(self,msg):\n",
    "        print(msg)\n"
   ]
  },
  {
   "cell_type": "code",
   "execution_count": 22,
   "id": "ac6f8e97",
   "metadata": {},
   "outputs": [],
   "source": [
    "# Creating Copy of my phone (Objects)\n",
    "MeraSumsung=SamsungGalaxyS7()\n"
   ]
  },
  {
   "cell_type": "code",
   "execution_count": 23,
   "id": "b6cd7604",
   "metadata": {},
   "outputs": [
    {
     "data": {
      "text/plain": [
       "'4GB'"
      ]
     },
     "execution_count": 23,
     "metadata": {},
     "output_type": "execute_result"
    }
   ],
   "source": [
    "MeraSumsung.ram"
   ]
  },
  {
   "cell_type": "code",
   "execution_count": 27,
   "id": "b0ffb6cc",
   "metadata": {},
   "outputs": [
    {
     "name": "stdout",
     "output_type": "stream",
     "text": [
      "Calling\n"
     ]
    }
   ],
   "source": [
    "MeraSumsung.makecall()"
   ]
  },
  {
   "cell_type": "code",
   "execution_count": 28,
   "id": "aad857e7",
   "metadata": {},
   "outputs": [
    {
     "name": "stdout",
     "output_type": "stream",
     "text": [
      "Kaha Ho jaldi Mobile Lao\n"
     ]
    }
   ],
   "source": [
    "MeraSumsung.sendtxt(\"Kaha Ho jaldi Mobile Lao\")"
   ]
  },
  {
   "cell_type": "code",
   "execution_count": 29,
   "id": "8f3bb017",
   "metadata": {},
   "outputs": [],
   "source": [
    "meraSumsung=SamsungGalaxyS7()"
   ]
  },
  {
   "cell_type": "code",
   "execution_count": 30,
   "id": "bec8f626",
   "metadata": {},
   "outputs": [],
   "source": [
    "tumharaSumsung= SamsungGalaxyS7()"
   ]
  },
  {
   "cell_type": "code",
   "execution_count": 31,
   "id": "7364e3b6",
   "metadata": {},
   "outputs": [
    {
     "data": {
      "text/plain": [
       "'Grey'"
      ]
     },
     "execution_count": 31,
     "metadata": {},
     "output_type": "execute_result"
    }
   ],
   "source": [
    "tumharaSumsung.Color"
   ]
  },
  {
   "cell_type": "raw",
   "id": "77254401",
   "metadata": {},
   "source": [
    "Every Object has Everything that is inside its Class"
   ]
  },
  {
   "cell_type": "code",
   "execution_count": 10,
   "id": "8623aff8",
   "metadata": {},
   "outputs": [],
   "source": [
    "class Patient():\n",
    "    # Some Attributes value are some for Every Object. ( class Attributes)\n",
    "    # some attributes value are different for every obj (object/instance attributes) \n",
    "    def __init__(self,patient_id,name,age,gender,disease,contact):\n",
    "    ############ instance Level / Object level Attributes   \n",
    "    # initializer khate haii python mai or (Dusre Programming maii Contructor khate haii)\n",
    "        self.name=name\n",
    "        self.age=age\n",
    "        self.gender=gender\n",
    "        self.disease=disease\n",
    "        self.contact=contact\n",
    "        self.patient_id=patient_id\n",
    "    def admission(self):\n",
    "        print(f\"{self.name} is admitted in disease {self.disease}\")\n",
    "    def treatment(self):\n",
    "        print(f\"{self.name} is being treated his age is {self.age}\")\n",
    "    def discharge(self,bill):\n",
    "        if bill == True:\n",
    "            print(f\"{self.name} is being discharged\")\n",
    "        else:\n",
    "        \n",
    "            print(f\"Please Clear your due date before\")\n",
    "    def patientProfile(self):\n",
    "        print(f\"\"\"\n",
    "                Patient Card\n",
    "       *************************************\n",
    "        Patiend ID: {self.patient_id}\n",
    "        Patient Name: {self.name}\n",
    "        Patient Disease: {self.disease}\n",
    "        Patient Age : {self.age}\n",
    "        \"\"\")\n"
   ]
  },
  {
   "cell_type": "code",
   "execution_count": 11,
   "id": "7bc7f248",
   "metadata": {},
   "outputs": [],
   "source": [
    "p1=Patient(111,'Lala',30,'M','Cancer',2358723456)"
   ]
  },
  {
   "cell_type": "code",
   "execution_count": null,
   "id": "c6709cd2",
   "metadata": {},
   "outputs": [],
   "source": []
  },
  {
   "cell_type": "code",
   "execution_count": 14,
   "id": "eaaddcec",
   "metadata": {},
   "outputs": [],
   "source": [
    "p2=Patient(1134,'Kinza',50,'Female','Stomach','034578976578')"
   ]
  },
  {
   "cell_type": "code",
   "execution_count": 15,
   "id": "aa76ad23",
   "metadata": {},
   "outputs": [
    {
     "data": {
      "text/plain": [
       "'Lala'"
      ]
     },
     "execution_count": 15,
     "metadata": {},
     "output_type": "execute_result"
    }
   ],
   "source": [
    "p1.name\n"
   ]
  },
  {
   "cell_type": "code",
   "execution_count": 16,
   "id": "a2aa84b0",
   "metadata": {},
   "outputs": [
    {
     "data": {
      "text/plain": [
       "50"
      ]
     },
     "execution_count": 16,
     "metadata": {},
     "output_type": "execute_result"
    }
   ],
   "source": [
    "p2.age"
   ]
  },
  {
   "cell_type": "code",
   "execution_count": 17,
   "id": "4dd1a8f9",
   "metadata": {},
   "outputs": [
    {
     "data": {
      "text/plain": [
       "'Cancer'"
      ]
     },
     "execution_count": 17,
     "metadata": {},
     "output_type": "execute_result"
    }
   ],
   "source": [
    "p1.disease"
   ]
  },
  {
   "cell_type": "code",
   "execution_count": 18,
   "id": "9ae9b147",
   "metadata": {},
   "outputs": [
    {
     "data": {
      "text/plain": [
       "'M'"
      ]
     },
     "execution_count": 18,
     "metadata": {},
     "output_type": "execute_result"
    }
   ],
   "source": [
    "p1.gender"
   ]
  },
  {
   "cell_type": "code",
   "execution_count": 19,
   "id": "f24beb29",
   "metadata": {},
   "outputs": [],
   "source": [
    "p3 =Patient(234,'Mr. Kawish',22,'Male','Koi Bimarii Nahe','03491253236')"
   ]
  },
  {
   "cell_type": "code",
   "execution_count": 20,
   "id": "394506c3",
   "metadata": {},
   "outputs": [],
   "source": [
    "p4 =Patient(234,'Mr. Kawish',22,'Male','Koi Bimarii Nahe',234657668)"
   ]
  },
  {
   "cell_type": "code",
   "execution_count": 21,
   "id": "dfeab31e",
   "metadata": {},
   "outputs": [
    {
     "name": "stdout",
     "output_type": "stream",
     "text": [
      "Mr. Kawish is being discharged\n"
     ]
    }
   ],
   "source": [
    "p4.discharge(True)"
   ]
  },
  {
   "cell_type": "code",
   "execution_count": 22,
   "id": "1ce4b119",
   "metadata": {},
   "outputs": [
    {
     "name": "stdout",
     "output_type": "stream",
     "text": [
      "Please Clear your due date before\n"
     ]
    }
   ],
   "source": [
    "p3.discharge(False)"
   ]
  },
  {
   "cell_type": "code",
   "execution_count": 23,
   "id": "4d4954f2",
   "metadata": {},
   "outputs": [
    {
     "name": "stdout",
     "output_type": "stream",
     "text": [
      "\n",
      "                Patient Card\n",
      "       *************************************\n",
      "        Patiend ID: 111\n",
      "        Patient Name: Lala\n",
      "        Patient Disease: Cancer\n",
      "        Patient Age : 30\n",
      "        \n"
     ]
    }
   ],
   "source": [
    "p1.patientProfile()"
   ]
  },
  {
   "cell_type": "markdown",
   "id": "2c7b89db",
   "metadata": {},
   "source": [
    "# Mobile Class Redefined"
   ]
  },
  {
   "cell_type": "code",
   "execution_count": 88,
   "id": "77a6b0ed",
   "metadata": {},
   "outputs": [],
   "source": [
    "class SamsungGalaxyS7:\n",
    "    # Attributes / Characteristics\n",
    "    # For example \n",
    "# Class Level Attributes\n",
    "    ram = \"4GB\"\n",
    "    Wight = \"120g\"\n",
    "    Processor = \"Snapdragon\"\n",
    "    Screen = \"6*4\"\n",
    "# Instance level attributes\n",
    "    def __init__(self,color):\n",
    "        self.color=color\n",
    "        \n",
    "    # Behaviour / Action /Funtion                # Function inside the class>>method\n",
    "    def makecall(self):\n",
    "        print(\"Calling\")\n",
    "    def recvCall(self):\n",
    "        print(\"Recieving Call\")\n",
    "    def takepic(self):\n",
    "        print(\"Smile Please\")\n",
    "    def decCall(self):\n",
    "        print(\"Declined Call\")\n",
    "    def sendtxt(self,msg):\n",
    "        print(msg)\n"
   ]
  },
  {
   "cell_type": "code",
   "execution_count": 93,
   "id": "48f43856",
   "metadata": {},
   "outputs": [],
   "source": [
    "mobile= SamsungGalaxyS7('Red')"
   ]
  },
  {
   "cell_type": "code",
   "execution_count": 94,
   "id": "8c76c10c",
   "metadata": {},
   "outputs": [
    {
     "data": {
      "text/plain": [
       "'Red'"
      ]
     },
     "execution_count": 94,
     "metadata": {},
     "output_type": "execute_result"
    }
   ],
   "source": [
    "mobile.color"
   ]
  },
  {
   "cell_type": "code",
   "execution_count": null,
   "id": "db260e96",
   "metadata": {},
   "outputs": [],
   "source": []
  },
  {
   "cell_type": "code",
   "execution_count": null,
   "id": "7012309d",
   "metadata": {},
   "outputs": [],
   "source": []
  },
  {
   "cell_type": "code",
   "execution_count": null,
   "id": "23a703cb",
   "metadata": {},
   "outputs": [],
   "source": []
  },
  {
   "cell_type": "code",
   "execution_count": null,
   "id": "7df380f9",
   "metadata": {},
   "outputs": [],
   "source": []
  }
 ],
 "metadata": {
  "kernelspec": {
   "display_name": "Python 3 (ipykernel)",
   "language": "python",
   "name": "python3"
  },
  "language_info": {
   "codemirror_mode": {
    "name": "ipython",
    "version": 3
   },
   "file_extension": ".py",
   "mimetype": "text/x-python",
   "name": "python",
   "nbconvert_exporter": "python",
   "pygments_lexer": "ipython3",
   "version": "3.9.13"
  },
  "vscode": {
   "interpreter": {
    "hash": "0a2d638824a2ad290c9ac05239feb22282adb1924c627c0b83738684b82ffa3e"
   }
  }
 },
 "nbformat": 4,
 "nbformat_minor": 5
}
