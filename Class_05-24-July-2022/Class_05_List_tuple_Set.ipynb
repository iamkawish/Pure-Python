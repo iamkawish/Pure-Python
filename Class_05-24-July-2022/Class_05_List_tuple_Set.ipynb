{
 "cells": [
  {
   "cell_type": "markdown",
   "id": "d8fbef1c",
   "metadata": {},
   "source": [
    "\n",
    "# Python Data Structure\n",
    "- List\n",
    "- Set\n",
    "- Tuple\n",
    "- Dictionary"
   ]
  },
  {
   "cell_type": "markdown",
   "id": "3929052e",
   "metadata": {},
   "source": [
    "## Python List"
   ]
  },
  {
   "cell_type": "code",
   "execution_count": 2,
   "id": "a2750b34",
   "metadata": {},
   "outputs": [
    {
     "name": "stdout",
     "output_type": "stream",
     "text": [
      "['Kawish', 'Arsal', 'Asif', 'Shabbir', 'Kashif']\n"
     ]
    },
    {
     "data": {
      "text/plain": [
       "list"
      ]
     },
     "execution_count": 2,
     "metadata": {},
     "output_type": "execute_result"
    }
   ],
   "source": [
    "# Creating a list with some value\n",
    "friends = ['Kawish','Arsal','Asif','Shabbir','Kashif']\n",
    "print(friends)\n",
    "type(friends)"
   ]
  },
  {
   "cell_type": "code",
   "execution_count": 101,
   "id": "797252fd",
   "metadata": {},
   "outputs": [
    {
     "data": {
      "text/plain": [
       "[0.1, True, False, 'kawish', 'Asif']"
      ]
     },
     "execution_count": 101,
     "metadata": {},
     "output_type": "execute_result"
    }
   ],
   "source": [
    "any_value= [0.1,True,False,'kawish','Asif']\n",
    "any_value\n"
   ]
  },
  {
   "cell_type": "code",
   "execution_count": 102,
   "id": "5d4bd48f",
   "metadata": {},
   "outputs": [
    {
     "data": {
      "text/plain": [
       "list"
      ]
     },
     "execution_count": 102,
     "metadata": {},
     "output_type": "execute_result"
    }
   ],
   "source": [
    "# Creating a Empty List\n",
    "empty_list=[]\n",
    "type(empty_list)"
   ]
  },
  {
   "cell_type": "code",
   "execution_count": 103,
   "id": "8ceb3d70",
   "metadata": {},
   "outputs": [
    {
     "data": {
      "text/plain": [
       "[]"
      ]
     },
     "execution_count": 103,
     "metadata": {},
     "output_type": "execute_result"
    }
   ],
   "source": [
    "empty_list\n"
   ]
  },
  {
   "cell_type": "code",
   "execution_count": 104,
   "id": "b0f55288",
   "metadata": {},
   "outputs": [
    {
     "data": {
      "text/plain": [
       "list"
      ]
     },
     "execution_count": 104,
     "metadata": {},
     "output_type": "execute_result"
    }
   ],
   "source": [
    "type(friends)"
   ]
  },
  {
   "cell_type": "code",
   "execution_count": 105,
   "id": "3a0f09ac",
   "metadata": {},
   "outputs": [
    {
     "data": {
      "text/plain": [
       "5"
      ]
     },
     "execution_count": 105,
     "metadata": {},
     "output_type": "execute_result"
    }
   ],
   "source": [
    "len(friends)"
   ]
  },
  {
   "cell_type": "code",
   "execution_count": 4,
   "id": "d1a397e0",
   "metadata": {},
   "outputs": [],
   "source": [
    "friends[0]='Kainat'"
   ]
  },
  {
   "cell_type": "code",
   "execution_count": 106,
   "id": "faf38c85",
   "metadata": {},
   "outputs": [
    {
     "data": {
      "text/plain": [
       "0"
      ]
     },
     "execution_count": 106,
     "metadata": {},
     "output_type": "execute_result"
    }
   ],
   "source": [
    "len(empty_list)"
   ]
  },
  {
   "cell_type": "code",
   "execution_count": 5,
   "id": "45539fe9",
   "metadata": {},
   "outputs": [
    {
     "data": {
      "text/plain": [
       "['Kainat', 'Arsal', 'Asif', 'Shabbir', 'Kashif']"
      ]
     },
     "execution_count": 5,
     "metadata": {},
     "output_type": "execute_result"
    }
   ],
   "source": [
    "friends"
   ]
  },
  {
   "cell_type": "markdown",
   "id": "c463bdb0",
   "metadata": {},
   "source": [
    "### Indexing\n",
    "- Every python entity that is iterable must have indexes\n",
    "- Example: Pakistan>>>>> Position/Index of P>>>>0 , a>>>>1 ,N>>>>7"
   ]
  },
  {
   "cell_type": "code",
   "execution_count": 107,
   "id": "be78d98a",
   "metadata": {},
   "outputs": [],
   "source": [
    "# Right to Left negative indexing form -1 onwords\n",
    "# index      -5        -4      -3      -2       -1 \n",
    "friends = ['Kawish','Arsal','Asif','Shabbir','Kashif']\n",
    "# left to Right positive indexing form 0 onwords\n",
    "# index       0       1        2      3          4"
   ]
  },
  {
   "cell_type": "code",
   "execution_count": 108,
   "id": "efbbe568",
   "metadata": {},
   "outputs": [
    {
     "data": {
      "text/plain": [
       "'Kawish'"
      ]
     },
     "execution_count": 108,
     "metadata": {},
     "output_type": "execute_result"
    }
   ],
   "source": [
    "# Retrieving data form List via index\n",
    "friends[0]"
   ]
  },
  {
   "cell_type": "code",
   "execution_count": 109,
   "id": "52c84e56",
   "metadata": {},
   "outputs": [
    {
     "data": {
      "text/plain": [
       "'Kawish'"
      ]
     },
     "execution_count": 109,
     "metadata": {},
     "output_type": "execute_result"
    }
   ],
   "source": [
    "friends[-5]"
   ]
  },
  {
   "cell_type": "raw",
   "id": "e2942adb",
   "metadata": {},
   "source": [
    "Adding new member to my existing list\n",
    "     two method\n",
    " - adding member to last of the list  >>>>>>>>>append()\n",
    " - adding members of any position on index in the list >>>>>>insert()"
   ]
  },
  {
   "cell_type": "code",
   "execution_count": 110,
   "id": "e8216297",
   "metadata": {},
   "outputs": [
    {
     "data": {
      "text/plain": [
       "['Kawish', 'Arsal', 'Asif', 'Shabbir', 'Kashif']"
      ]
     },
     "execution_count": 110,
     "metadata": {},
     "output_type": "execute_result"
    }
   ],
   "source": [
    "# append\n",
    "friends"
   ]
  },
  {
   "cell_type": "code",
   "execution_count": 111,
   "id": "9ed7aeaa",
   "metadata": {},
   "outputs": [],
   "source": [
    "friends.append('Rahil')\n"
   ]
  },
  {
   "cell_type": "code",
   "execution_count": 112,
   "id": "35df69ac",
   "metadata": {},
   "outputs": [
    {
     "data": {
      "text/plain": [
       "['Kawish', 'Arsal', 'Asif', 'Shabbir', 'Kashif', 'Rahil']"
      ]
     },
     "execution_count": 112,
     "metadata": {},
     "output_type": "execute_result"
    }
   ],
   "source": [
    "friends"
   ]
  },
  {
   "cell_type": "code",
   "execution_count": 113,
   "id": "4c5cb7a2",
   "metadata": {},
   "outputs": [],
   "source": [
    "friends.insert(4,\"Arsalan\")"
   ]
  },
  {
   "cell_type": "code",
   "execution_count": 114,
   "id": "9fd19647",
   "metadata": {},
   "outputs": [
    {
     "data": {
      "text/plain": [
       "['Kawish', 'Arsal', 'Asif', 'Shabbir', 'Arsalan', 'Kashif', 'Rahil']"
      ]
     },
     "execution_count": 114,
     "metadata": {},
     "output_type": "execute_result"
    }
   ],
   "source": [
    "friends"
   ]
  },
  {
   "cell_type": "code",
   "execution_count": 115,
   "id": "76b7990a",
   "metadata": {},
   "outputs": [],
   "source": [
    "marks=[1,2,3,4]"
   ]
  },
  {
   "cell_type": "code",
   "execution_count": 116,
   "id": "c0c794fe",
   "metadata": {},
   "outputs": [
    {
     "data": {
      "text/plain": [
       "[1, 2, 3, 4]"
      ]
     },
     "execution_count": 116,
     "metadata": {},
     "output_type": "execute_result"
    }
   ],
   "source": [
    "marks"
   ]
  },
  {
   "cell_type": "code",
   "execution_count": null,
   "id": "e4d2e803",
   "metadata": {},
   "outputs": [],
   "source": []
  },
  {
   "cell_type": "markdown",
   "id": "485444ef",
   "metadata": {},
   "source": [
    "### Removing member form existing list\n",
    "- del command\n",
    "- remove function\n",
    "- pop function"
   ]
  },
  {
   "cell_type": "code",
   "execution_count": 117,
   "id": "8d25561e",
   "metadata": {},
   "outputs": [],
   "source": [
    "# Note we have to multiple data type in a list together\n",
    "misclist=['PIAIC',12,34.6,True,[10,25]]"
   ]
  },
  {
   "cell_type": "code",
   "execution_count": 118,
   "id": "3870de6e",
   "metadata": {},
   "outputs": [
    {
     "data": {
      "text/plain": [
       "['Kawish', 'Arsal', 'Asif', 'Shabbir', 'Arsalan', 'Kashif', 'Rahil']"
      ]
     },
     "execution_count": 118,
     "metadata": {},
     "output_type": "execute_result"
    }
   ],
   "source": [
    "friends"
   ]
  },
  {
   "cell_type": "code",
   "execution_count": 119,
   "id": "53f7ab3f",
   "metadata": {},
   "outputs": [],
   "source": [
    "del friends[-1]"
   ]
  },
  {
   "cell_type": "code",
   "execution_count": 120,
   "id": "4680a52d",
   "metadata": {},
   "outputs": [
    {
     "data": {
      "text/plain": [
       "['Kawish', 'Arsal', 'Asif', 'Shabbir', 'Arsalan', 'Kashif']"
      ]
     },
     "execution_count": 120,
     "metadata": {},
     "output_type": "execute_result"
    }
   ],
   "source": [
    "friends"
   ]
  },
  {
   "cell_type": "raw",
   "id": "c13493db",
   "metadata": {},
   "source": [
    "Note: Del remove the member permanent via index\n",
    "      remove() remove the member permanently via value"
   ]
  },
  {
   "cell_type": "code",
   "execution_count": 121,
   "id": "13a86941",
   "metadata": {},
   "outputs": [],
   "source": [
    "friends.remove('Asif')"
   ]
  },
  {
   "cell_type": "code",
   "execution_count": 122,
   "id": "c87f2adf",
   "metadata": {},
   "outputs": [
    {
     "data": {
      "text/plain": [
       "['Kawish', 'Arsal', 'Shabbir', 'Arsalan', 'Kashif']"
      ]
     },
     "execution_count": 122,
     "metadata": {},
     "output_type": "execute_result"
    }
   ],
   "source": [
    "friends"
   ]
  },
  {
   "cell_type": "code",
   "execution_count": 123,
   "id": "68eab358",
   "metadata": {},
   "outputs": [
    {
     "data": {
      "text/plain": [
       "['Kawish', 'Asif', 'Arsal', 'Arsal', 'Kashif', 'Shabbir', 'Arsalan', 'Kashif']"
      ]
     },
     "execution_count": 123,
     "metadata": {},
     "output_type": "execute_result"
    }
   ],
   "source": [
    "# adding duplicate member in the list\n",
    "friends.insert(2,'Kashif')\n",
    "friends.insert(1,'Asif')\n",
    "friends.insert(3,'Arsal')\n",
    "friends"
   ]
  },
  {
   "cell_type": "code",
   "execution_count": 124,
   "id": "38294a63",
   "metadata": {},
   "outputs": [
    {
     "data": {
      "text/plain": [
       "['Kawish', 'Asif', 'Arsal', 'Kashif', 'Shabbir', 'Arsalan', 'Kashif']"
      ]
     },
     "execution_count": 124,
     "metadata": {},
     "output_type": "execute_result"
    }
   ],
   "source": [
    "friends.remove('Arsal')\n",
    "friends"
   ]
  },
  {
   "cell_type": "markdown",
   "id": "39cf29a7",
   "metadata": {},
   "source": [
    "- pop function remove a permanently but it return the removed \n",
    "so that you can utilize if later if u need it.\n",
    "- By default pop() removes value form end of the list but if you supply index like\n",
    "-pop(3) it will remove the same index value\n"
   ]
  },
  {
   "cell_type": "code",
   "execution_count": 125,
   "id": "0da5c9f4",
   "metadata": {},
   "outputs": [
    {
     "data": {
      "text/plain": [
       "'Arsal'"
      ]
     },
     "execution_count": 125,
     "metadata": {},
     "output_type": "execute_result"
    }
   ],
   "source": [
    "friends.pop(2)"
   ]
  },
  {
   "cell_type": "code",
   "execution_count": 126,
   "id": "a205f40a",
   "metadata": {},
   "outputs": [],
   "source": [
    "popped_values=friends.pop()"
   ]
  },
  {
   "cell_type": "code",
   "execution_count": 127,
   "id": "006e3dc6",
   "metadata": {},
   "outputs": [
    {
     "data": {
      "text/plain": [
       "'Kashif'"
      ]
     },
     "execution_count": 127,
     "metadata": {},
     "output_type": "execute_result"
    }
   ],
   "source": [
    "popped_values"
   ]
  },
  {
   "cell_type": "code",
   "execution_count": 128,
   "id": "3e370933",
   "metadata": {},
   "outputs": [
    {
     "data": {
      "text/plain": [
       "'Arsalan'"
      ]
     },
     "execution_count": 128,
     "metadata": {},
     "output_type": "execute_result"
    }
   ],
   "source": [
    "friends.pop()"
   ]
  },
  {
   "cell_type": "code",
   "execution_count": 129,
   "id": "b0011f41",
   "metadata": {},
   "outputs": [
    {
     "data": {
      "text/plain": [
       "['Kawish', 'Asif', 'Kashif', 'Shabbir']"
      ]
     },
     "execution_count": 129,
     "metadata": {},
     "output_type": "execute_result"
    }
   ],
   "source": [
    "friends"
   ]
  },
  {
   "cell_type": "code",
   "execution_count": 130,
   "id": "c9e9d1a5",
   "metadata": {},
   "outputs": [],
   "source": [
    "friends.clear()\n",
    "\n"
   ]
  },
  {
   "cell_type": "markdown",
   "id": "1298a79f",
   "metadata": {},
   "source": [
    "### Copying a list\n",
    "- direct assignment >>>> blist=alist\n",
    "- copy()\n",
    "- [:]"
   ]
  },
  {
   "cell_type": "code",
   "execution_count": 131,
   "id": "0b1e4d10",
   "metadata": {},
   "outputs": [],
   "source": [
    "alist=[11,22,33,44,55]"
   ]
  },
  {
   "cell_type": "code",
   "execution_count": 132,
   "id": "e4599e58",
   "metadata": {},
   "outputs": [],
   "source": [
    "# this type of making copy is : pass by reference\n",
    "blist=alist"
   ]
  },
  {
   "cell_type": "code",
   "execution_count": 133,
   "id": "4eeb1c09",
   "metadata": {},
   "outputs": [
    {
     "data": {
      "text/plain": [
       "[11, 22, 33, 44, 55]"
      ]
     },
     "execution_count": 133,
     "metadata": {},
     "output_type": "execute_result"
    }
   ],
   "source": [
    "blist"
   ]
  },
  {
   "cell_type": "code",
   "execution_count": 134,
   "id": "59480c8f",
   "metadata": {},
   "outputs": [
    {
     "data": {
      "text/plain": [
       "[11, 22, 33, 44, 55, 66]"
      ]
     },
     "execution_count": 134,
     "metadata": {},
     "output_type": "execute_result"
    }
   ],
   "source": [
    "alist.append(66)\n",
    "alist"
   ]
  },
  {
   "cell_type": "code",
   "execution_count": 135,
   "id": "e1a06249",
   "metadata": {},
   "outputs": [
    {
     "data": {
      "text/plain": [
       "[11, 22, 33, 44, 55, 66]"
      ]
     },
     "execution_count": 135,
     "metadata": {},
     "output_type": "execute_result"
    }
   ],
   "source": [
    "blist"
   ]
  },
  {
   "cell_type": "code",
   "execution_count": 136,
   "id": "dce42796",
   "metadata": {},
   "outputs": [
    {
     "data": {
      "text/plain": [
       "[11, 22, 33, 44, 55, 66]"
      ]
     },
     "execution_count": 136,
     "metadata": {},
     "output_type": "execute_result"
    }
   ],
   "source": [
    "clist=alist.copy()\n",
    "clist"
   ]
  },
  {
   "cell_type": "code",
   "execution_count": 137,
   "id": "ee55bfb0",
   "metadata": {},
   "outputs": [
    {
     "data": {
      "text/plain": [
       "[]"
      ]
     },
     "execution_count": 137,
     "metadata": {},
     "output_type": "execute_result"
    }
   ],
   "source": [
    "clist.clear()\n",
    "clist"
   ]
  },
  {
   "cell_type": "code",
   "execution_count": 138,
   "id": "692d7f8e",
   "metadata": {},
   "outputs": [
    {
     "name": "stdout",
     "output_type": "stream",
     "text": [
      "[11, 22, 33, 44, 55, 66]\n"
     ]
    }
   ],
   "source": [
    "print(alist)"
   ]
  },
  {
   "cell_type": "code",
   "execution_count": 139,
   "id": "eb3922d0",
   "metadata": {},
   "outputs": [
    {
     "data": {
      "text/plain": [
       "1"
      ]
     },
     "execution_count": 139,
     "metadata": {},
     "output_type": "execute_result"
    }
   ],
   "source": [
    "alist.count(11)"
   ]
  },
  {
   "cell_type": "code",
   "execution_count": 140,
   "id": "60d450fa",
   "metadata": {},
   "outputs": [
    {
     "data": {
      "text/plain": [
       "4"
      ]
     },
     "execution_count": 140,
     "metadata": {},
     "output_type": "execute_result"
    }
   ],
   "source": [
    "alist.index(55)"
   ]
  },
  {
   "cell_type": "code",
   "execution_count": 141,
   "id": "d8f882a1",
   "metadata": {},
   "outputs": [],
   "source": [
    "alist.reverse()"
   ]
  },
  {
   "cell_type": "code",
   "execution_count": 142,
   "id": "9c4f856e",
   "metadata": {},
   "outputs": [
    {
     "data": {
      "text/plain": [
       "[66, 55, 44, 33, 22, 11]"
      ]
     },
     "execution_count": 142,
     "metadata": {},
     "output_type": "execute_result"
    }
   ],
   "source": [
    "alist"
   ]
  },
  {
   "cell_type": "code",
   "execution_count": 143,
   "id": "52bdd92b",
   "metadata": {},
   "outputs": [],
   "source": [
    "alist.sort()"
   ]
  },
  {
   "cell_type": "code",
   "execution_count": 144,
   "id": "1a069c5f",
   "metadata": {},
   "outputs": [
    {
     "data": {
      "text/plain": [
       "[11, 22, 33, 44, 55, 66]"
      ]
     },
     "execution_count": 144,
     "metadata": {},
     "output_type": "execute_result"
    }
   ],
   "source": [
    "alist"
   ]
  },
  {
   "cell_type": "markdown",
   "id": "5d79bfb6",
   "metadata": {},
   "source": [
    "### Extend/Append"
   ]
  },
  {
   "cell_type": "code",
   "execution_count": 145,
   "id": "b9a1ad4d",
   "metadata": {},
   "outputs": [
    {
     "data": {
      "text/plain": [
       "[]"
      ]
     },
     "execution_count": 145,
     "metadata": {},
     "output_type": "execute_result"
    }
   ],
   "source": [
    "friends"
   ]
  },
  {
   "cell_type": "code",
   "execution_count": 146,
   "id": "c29a19dc",
   "metadata": {},
   "outputs": [
    {
     "data": {
      "text/plain": [
       "[['Nabeel', 'Asad', 'Faizan']]"
      ]
     },
     "execution_count": 146,
     "metadata": {},
     "output_type": "execute_result"
    }
   ],
   "source": [
    "\n",
    "friends.append(['Nabeel','Asad','Faizan'])\n",
    "friends"
   ]
  },
  {
   "cell_type": "code",
   "execution_count": 147,
   "id": "911c65de",
   "metadata": {},
   "outputs": [
    {
     "data": {
      "text/plain": [
       "[['Nabeel', 'Asad', 'Faizan'], 'Google', 'Facebook', 'Youtube']"
      ]
     },
     "execution_count": 147,
     "metadata": {},
     "output_type": "execute_result"
    }
   ],
   "source": [
    "# extend ka matlab haii kay list mai bare bare aiye ga lekin append karwane sai ek dafa mai pura aiye ga wo bhi square bracket mai\n",
    "friends.extend(['Google','Facebook','Youtube'])\n",
    "friends"
   ]
  },
  {
   "cell_type": "markdown",
   "id": "f476d5a0",
   "metadata": {},
   "source": [
    "### update or replace "
   ]
  },
  {
   "cell_type": "code",
   "execution_count": 148,
   "id": "4d8fd5f7",
   "metadata": {},
   "outputs": [
    {
     "data": {
      "text/plain": [
       "[['Nabeel', 'Asad', 'Faizan'], 'Google', 'Facebook', 'Youtube']"
      ]
     },
     "execution_count": 148,
     "metadata": {},
     "output_type": "execute_result"
    }
   ],
   "source": [
    "friends"
   ]
  },
  {
   "cell_type": "code",
   "execution_count": 149,
   "id": "a1388ba6",
   "metadata": {},
   "outputs": [],
   "source": [
    "friends[0]='Narmeen'"
   ]
  },
  {
   "cell_type": "code",
   "execution_count": 150,
   "id": "16ce1476",
   "metadata": {},
   "outputs": [
    {
     "data": {
      "text/plain": [
       "['Narmeen', 'Google', 'Facebook', 'Youtube']"
      ]
     },
     "execution_count": 150,
     "metadata": {},
     "output_type": "execute_result"
    }
   ],
   "source": [
    "friends"
   ]
  },
  {
   "cell_type": "markdown",
   "id": "bb82f0a0",
   "metadata": {},
   "source": [
    "## Slicing a List"
   ]
  },
  {
   "cell_type": "code",
   "execution_count": 165,
   "id": "4b1492d0",
   "metadata": {},
   "outputs": [
    {
     "data": {
      "text/plain": [
       "[66, 55, 44, 33, 22, 11]"
      ]
     },
     "execution_count": 165,
     "metadata": {},
     "output_type": "execute_result"
    }
   ],
   "source": [
    "alist.sort(reverse=True)\n",
    "alist"
   ]
  },
  {
   "cell_type": "code",
   "execution_count": 166,
   "id": "2377a76a",
   "metadata": {},
   "outputs": [
    {
     "data": {
      "text/plain": [
       "[11, 22, 33, 44, 55, 66]"
      ]
     },
     "execution_count": 166,
     "metadata": {},
     "output_type": "execute_result"
    }
   ],
   "source": [
    "alist.sort(reverse=False)\n",
    "alist"
   ]
  },
  {
   "cell_type": "raw",
   "id": "a4f1a4b4",
   "metadata": {},
   "source": [
    "Slice basically copy and return the part of list "
   ]
  },
  {
   "cell_type": "code",
   "execution_count": 167,
   "id": "925d3295",
   "metadata": {},
   "outputs": [
    {
     "data": {
      "text/plain": [
       "33"
      ]
     },
     "execution_count": 167,
     "metadata": {},
     "output_type": "execute_result"
    }
   ],
   "source": [
    "#  indexing\n",
    "alist[2]"
   ]
  },
  {
   "cell_type": "code",
   "execution_count": 154,
   "id": "328a5a64",
   "metadata": {},
   "outputs": [],
   "source": [
    "# alist[start:end-1]\n",
    "sliced=alist[0:4]"
   ]
  },
  {
   "cell_type": "code",
   "execution_count": 155,
   "id": "a2a716d6",
   "metadata": {},
   "outputs": [
    {
     "data": {
      "text/plain": [
       "[11, 22, 33, 44]"
      ]
     },
     "execution_count": 155,
     "metadata": {},
     "output_type": "execute_result"
    }
   ],
   "source": [
    "sliced"
   ]
  },
  {
   "cell_type": "code",
   "execution_count": 156,
   "id": "74356475",
   "metadata": {},
   "outputs": [
    {
     "data": {
      "text/plain": [
       "[66]"
      ]
     },
     "execution_count": 156,
     "metadata": {},
     "output_type": "execute_result"
    }
   ],
   "source": [
    "alist[5:8]"
   ]
  },
  {
   "cell_type": "code",
   "execution_count": 157,
   "id": "63202f1c",
   "metadata": {},
   "outputs": [
    {
     "data": {
      "text/plain": [
       "[44, 55, 66]"
      ]
     },
     "execution_count": 157,
     "metadata": {},
     "output_type": "execute_result"
    }
   ],
   "source": [
    "alist[-3:]"
   ]
  },
  {
   "cell_type": "code",
   "execution_count": 158,
   "id": "fd4d5e79",
   "metadata": {},
   "outputs": [
    {
     "data": {
      "text/plain": [
       "[11, 22, 33, 44, 55, 66]"
      ]
     },
     "execution_count": 158,
     "metadata": {},
     "output_type": "execute_result"
    }
   ],
   "source": [
    "alist[0:8]"
   ]
  },
  {
   "cell_type": "code",
   "execution_count": 159,
   "id": "6eae4630",
   "metadata": {},
   "outputs": [],
   "source": [
    "clist = alist[:]"
   ]
  },
  {
   "cell_type": "code",
   "execution_count": 160,
   "id": "26e7fd2b",
   "metadata": {},
   "outputs": [
    {
     "data": {
      "text/plain": [
       "[11, 22, 33, 44, 55, 66]"
      ]
     },
     "execution_count": 160,
     "metadata": {},
     "output_type": "execute_result"
    }
   ],
   "source": [
    "clist"
   ]
  },
  {
   "cell_type": "code",
   "execution_count": 161,
   "id": "e7787e3c",
   "metadata": {},
   "outputs": [
    {
     "data": {
      "text/plain": [
       "[55, 66]"
      ]
     },
     "execution_count": 161,
     "metadata": {},
     "output_type": "execute_result"
    }
   ],
   "source": [
    "alist[4:]"
   ]
  },
  {
   "cell_type": "code",
   "execution_count": 162,
   "id": "20f09ccf",
   "metadata": {},
   "outputs": [
    {
     "data": {
      "text/plain": [
       "[11, 22, 33, 44]"
      ]
     },
     "execution_count": 162,
     "metadata": {},
     "output_type": "execute_result"
    }
   ],
   "source": [
    "alist[:4]"
   ]
  },
  {
   "cell_type": "code",
   "execution_count": 163,
   "id": "0c51235e",
   "metadata": {},
   "outputs": [
    {
     "data": {
      "text/plain": [
       "[]"
      ]
     },
     "execution_count": 163,
     "metadata": {},
     "output_type": "execute_result"
    }
   ],
   "source": [
    "alist[6:1]"
   ]
  },
  {
   "cell_type": "raw",
   "id": "ffb37309",
   "metadata": {},
   "source": [
    "Third parameter: step"
   ]
  },
  {
   "cell_type": "code",
   "execution_count": 168,
   "id": "ee7cd836",
   "metadata": {},
   "outputs": [
    {
     "data": {
      "text/plain": [
       "[11, 22, 33, 44, 55, 66]"
      ]
     },
     "execution_count": 168,
     "metadata": {},
     "output_type": "execute_result"
    }
   ],
   "source": [
    "alist"
   ]
  },
  {
   "cell_type": "code",
   "execution_count": 169,
   "id": "0e4fa013",
   "metadata": {},
   "outputs": [
    {
     "data": {
      "text/plain": [
       "[11, 22, 33, 44, 55, 66]"
      ]
     },
     "execution_count": 169,
     "metadata": {},
     "output_type": "execute_result"
    }
   ],
   "source": [
    "alist[::1]"
   ]
  },
  {
   "cell_type": "code",
   "execution_count": 134,
   "id": "1c4fb3d9",
   "metadata": {},
   "outputs": [
    {
     "data": {
      "text/plain": [
       "[11, 33, 55, 66]"
      ]
     },
     "execution_count": 134,
     "metadata": {},
     "output_type": "execute_result"
    }
   ],
   "source": [
    "alist[::2]"
   ]
  },
  {
   "cell_type": "code",
   "execution_count": 135,
   "id": "e594d18a",
   "metadata": {},
   "outputs": [
    {
     "data": {
      "text/plain": [
       "[11, 44, 66]"
      ]
     },
     "execution_count": 135,
     "metadata": {},
     "output_type": "execute_result"
    }
   ],
   "source": [
    "alist[::3]"
   ]
  },
  {
   "cell_type": "code",
   "execution_count": 136,
   "id": "d4cc969c",
   "metadata": {},
   "outputs": [
    {
     "data": {
      "text/plain": [
       "[11, 22, 33, 44, 55, 66, 66]"
      ]
     },
     "execution_count": 136,
     "metadata": {},
     "output_type": "execute_result"
    }
   ],
   "source": [
    "alist"
   ]
  },
  {
   "cell_type": "code",
   "execution_count": 139,
   "id": "cdd4664f",
   "metadata": {},
   "outputs": [
    {
     "data": {
      "text/plain": [
       "[]"
      ]
     },
     "execution_count": 139,
     "metadata": {},
     "output_type": "execute_result"
    }
   ],
   "source": [
    "alist[-5:-6]\n",
    "# diection of slice is right to left not possible in this case "
   ]
  },
  {
   "cell_type": "code",
   "execution_count": 141,
   "id": "9b34d8c7",
   "metadata": {},
   "outputs": [
    {
     "data": {
      "text/plain": [
       "[22, 33, 44]"
      ]
     },
     "execution_count": 141,
     "metadata": {},
     "output_type": "execute_result"
    }
   ],
   "source": [
    "alist[-6:-3]\n",
    "#direction of slice is left to right which is ok"
   ]
  },
  {
   "cell_type": "code",
   "execution_count": 142,
   "id": "880c7aa9",
   "metadata": {},
   "outputs": [
    {
     "data": {
      "text/plain": [
       "[66, 66, 55, 44]"
      ]
     },
     "execution_count": 142,
     "metadata": {},
     "output_type": "execute_result"
    }
   ],
   "source": [
    "alist[-1:-5:-1]\n",
    "# positive steeping means movement from left to right \n",
    "# where as negative ateeping allows movement from right to left"
   ]
  },
  {
   "cell_type": "code",
   "execution_count": 143,
   "id": "338c6c9a",
   "metadata": {},
   "outputs": [
    {
     "data": {
      "text/plain": [
       "[11, 22, 33, 44, 55, 66, 66]"
      ]
     },
     "execution_count": 143,
     "metadata": {},
     "output_type": "execute_result"
    }
   ],
   "source": [
    "alist"
   ]
  },
  {
   "cell_type": "code",
   "execution_count": 144,
   "id": "4bd1d790",
   "metadata": {},
   "outputs": [
    {
     "data": {
      "text/plain": [
       "[66, 66, 55, 44, 33, 22, 11]"
      ]
     },
     "execution_count": 144,
     "metadata": {},
     "output_type": "execute_result"
    }
   ],
   "source": [
    "alist[::-1]"
   ]
  },
  {
   "cell_type": "code",
   "execution_count": 145,
   "id": "09cab11b",
   "metadata": {},
   "outputs": [
    {
     "data": {
      "text/plain": [
       "[66, 55, 33, 11]"
      ]
     },
     "execution_count": 145,
     "metadata": {},
     "output_type": "execute_result"
    }
   ],
   "source": [
    "alist[::-2]"
   ]
  },
  {
   "cell_type": "code",
   "execution_count": 146,
   "id": "e12880ac",
   "metadata": {},
   "outputs": [
    {
     "data": {
      "text/plain": [
       "[33, 44, 55]"
      ]
     },
     "execution_count": 146,
     "metadata": {},
     "output_type": "execute_result"
    }
   ],
   "source": [
    "alist[2:-2]"
   ]
  },
  {
   "cell_type": "code",
   "execution_count": 147,
   "id": "f3258407",
   "metadata": {},
   "outputs": [
    {
     "data": {
      "text/plain": [
       "[55, 44, 33]"
      ]
     },
     "execution_count": 147,
     "metadata": {},
     "output_type": "execute_result"
    }
   ],
   "source": [
    "alist[-3:1:-1]"
   ]
  },
  {
   "cell_type": "markdown",
   "id": "4492fdb2",
   "metadata": {},
   "source": [
    "# Tuple\n",
    "- Immutable (unchangeable)"
   ]
  },
  {
   "cell_type": "code",
   "execution_count": 7,
   "id": "e98beee0",
   "metadata": {},
   "outputs": [
    {
     "data": {
      "text/plain": [
       "(22, 45, 78, 'kawish')"
      ]
     },
     "execution_count": 7,
     "metadata": {},
     "output_type": "execute_result"
    }
   ],
   "source": [
    "tup= (22,45,78,'kawish')\n",
    "tup"
   ]
  },
  {
   "cell_type": "code",
   "execution_count": 8,
   "id": "b1bbdbc2",
   "metadata": {},
   "outputs": [
    {
     "data": {
      "text/plain": [
       "1"
      ]
     },
     "execution_count": 8,
     "metadata": {},
     "output_type": "execute_result"
    }
   ],
   "source": [
    "tup.count('kawish')"
   ]
  },
  {
   "cell_type": "code",
   "execution_count": 9,
   "id": "3f2d1d2d",
   "metadata": {},
   "outputs": [
    {
     "data": {
      "text/plain": [
       "(22, 45, 78, 'kawish')"
      ]
     },
     "execution_count": 9,
     "metadata": {},
     "output_type": "execute_result"
    }
   ],
   "source": [
    "tup"
   ]
  },
  {
   "cell_type": "code",
   "execution_count": 10,
   "id": "3d342ecf",
   "metadata": {},
   "outputs": [
    {
     "ename": "TypeError",
     "evalue": "'tuple' object does not support item assignment",
     "output_type": "error",
     "traceback": [
      "\u001b[1;31m---------------------------------------------------------------------------\u001b[0m",
      "\u001b[1;31mTypeError\u001b[0m                                 Traceback (most recent call last)",
      "\u001b[1;32m~\\AppData\\Local\\Temp\\ipykernel_2948\\662302964.py\u001b[0m in \u001b[0;36m<module>\u001b[1;34m\u001b[0m\n\u001b[1;32m----> 1\u001b[1;33m \u001b[0mtup\u001b[0m\u001b[1;33m[\u001b[0m\u001b[1;36m3\u001b[0m\u001b[1;33m]\u001b[0m\u001b[1;33m=\u001b[0m\u001b[1;34m'Farzana'\u001b[0m\u001b[1;33m\u001b[0m\u001b[1;33m\u001b[0m\u001b[0m\n\u001b[0m",
      "\u001b[1;31mTypeError\u001b[0m: 'tuple' object does not support item assignment"
     ]
    }
   ],
   "source": [
    "tup[3]='Farzana'"
   ]
  },
  {
   "cell_type": "code",
   "execution_count": 3,
   "id": "e5506b81",
   "metadata": {},
   "outputs": [
    {
     "data": {
      "text/plain": [
       "(22, 45)"
      ]
     },
     "execution_count": 3,
     "metadata": {},
     "output_type": "execute_result"
    }
   ],
   "source": [
    "tup[:2]"
   ]
  },
  {
   "cell_type": "code",
   "execution_count": 4,
   "id": "64f7748c",
   "metadata": {},
   "outputs": [
    {
     "data": {
      "text/plain": [
       "tuple"
      ]
     },
     "execution_count": 4,
     "metadata": {},
     "output_type": "execute_result"
    }
   ],
   "source": [
    "type(tup)"
   ]
  },
  {
   "cell_type": "markdown",
   "id": "6378ae97",
   "metadata": {},
   "source": [
    "# Set\n",
    "- Collection that holds unique value"
   ]
  },
  {
   "cell_type": "code",
   "execution_count": 179,
   "id": "41d1fb2f",
   "metadata": {},
   "outputs": [],
   "source": [
    "aset={1,23,4,6}"
   ]
  },
  {
   "cell_type": "code",
   "execution_count": 180,
   "id": "4ca4044c",
   "metadata": {},
   "outputs": [
    {
     "data": {
      "text/plain": [
       "{1, 4, 6, 23}"
      ]
     },
     "execution_count": 180,
     "metadata": {},
     "output_type": "execute_result"
    }
   ],
   "source": [
    "aset"
   ]
  },
  {
   "cell_type": "code",
   "execution_count": 7,
   "id": "9e3d2b40",
   "metadata": {},
   "outputs": [],
   "source": [
    "bset={1,2,3,4,56,3,4,7,1,2}"
   ]
  },
  {
   "cell_type": "code",
   "execution_count": 8,
   "id": "31e5ee38",
   "metadata": {},
   "outputs": [
    {
     "data": {
      "text/plain": [
       "{1, 2, 3, 4, 7, 56}"
      ]
     },
     "execution_count": 8,
     "metadata": {},
     "output_type": "execute_result"
    }
   ],
   "source": [
    "bset"
   ]
  },
  {
   "cell_type": "code",
   "execution_count": 209,
   "id": "3a6c394d",
   "metadata": {},
   "outputs": [
    {
     "data": {
      "text/plain": [
       "{1, 2, 3}"
      ]
     },
     "execution_count": 209,
     "metadata": {},
     "output_type": "execute_result"
    }
   ],
   "source": [
    "# to add one item to a set use the add() method\n",
    "set1={1,2,3}\n",
    "set1"
   ]
  },
  {
   "cell_type": "code",
   "execution_count": 210,
   "id": "6de04505",
   "metadata": {},
   "outputs": [
    {
     "data": {
      "text/plain": [
       "{1, 2, 3, 5}"
      ]
     },
     "execution_count": 210,
     "metadata": {},
     "output_type": "execute_result"
    }
   ],
   "source": [
    "set1.add(5)\n",
    "set1"
   ]
  },
  {
   "cell_type": "code",
   "execution_count": 212,
   "id": "b6dd8364",
   "metadata": {},
   "outputs": [
    {
     "data": {
      "text/plain": [
       "{1, 2, 3, 5, 7, 8}"
      ]
     },
     "execution_count": 212,
     "metadata": {},
     "output_type": "execute_result"
    }
   ],
   "source": [
    "# to add more than one item to a set use the add() method\n",
    "set1.update([7,5,8])\n",
    "set1"
   ]
  },
  {
   "cell_type": "code",
   "execution_count": 213,
   "id": "3767d21e",
   "metadata": {},
   "outputs": [
    {
     "data": {
      "text/plain": [
       "{1, 2, 3, 5, 7, 8}"
      ]
     },
     "execution_count": 213,
     "metadata": {},
     "output_type": "execute_result"
    }
   ],
   "source": [
    "# Copy\n",
    "set2=set1.copy()\n",
    "set2"
   ]
  },
  {
   "cell_type": "code",
   "execution_count": 214,
   "id": "04660352",
   "metadata": {},
   "outputs": [
    {
     "data": {
      "text/plain": [
       "{1, 2, 3, 5, 7, 8}"
      ]
     },
     "execution_count": 214,
     "metadata": {},
     "output_type": "execute_result"
    }
   ],
   "source": [
    "set1"
   ]
  },
  {
   "cell_type": "code",
   "execution_count": 216,
   "id": "4e06f202",
   "metadata": {},
   "outputs": [
    {
     "name": "stdout",
     "output_type": "stream",
     "text": [
      "{2, 3, 7, 8}\n"
     ]
    }
   ],
   "source": [
    "# TO remove an item in a set use the remove(), or discord() method\n",
    "set1.remove(5)   # iss mai value  batana hoga...\n",
    "print(set1)"
   ]
  },
  {
   "cell_type": "code",
   "execution_count": 221,
   "id": "09600dff",
   "metadata": {},
   "outputs": [
    {
     "data": {
      "text/plain": [
       "{2, 3, 8}"
      ]
     },
     "execution_count": 221,
     "metadata": {},
     "output_type": "execute_result"
    }
   ],
   "source": [
    "set1.discard(7)\n",
    "set1"
   ]
  },
  {
   "cell_type": "code",
   "execution_count": 223,
   "id": "a586d80e",
   "metadata": {},
   "outputs": [],
   "source": [
    "set1.clear()"
   ]
  },
  {
   "cell_type": "code",
   "execution_count": 224,
   "id": "965e9904",
   "metadata": {},
   "outputs": [
    {
     "data": {
      "text/plain": [
       "set()"
      ]
     },
     "execution_count": 224,
     "metadata": {},
     "output_type": "execute_result"
    }
   ],
   "source": [
    "set1"
   ]
  },
  {
   "cell_type": "code",
   "execution_count": 225,
   "id": "95f2d705",
   "metadata": {},
   "outputs": [
    {
     "data": {
      "text/plain": [
       "{6, 7, 8, 9, 11, 23, 56}"
      ]
     },
     "execution_count": 225,
     "metadata": {},
     "output_type": "execute_result"
    }
   ],
   "source": [
    "set4={11,23,56,6,7,8,9}\n",
    "set4"
   ]
  },
  {
   "cell_type": "code",
   "execution_count": 227,
   "id": "7d364b1e",
   "metadata": {},
   "outputs": [
    {
     "data": {
      "text/plain": [
       "{11, 45, 56, 89}"
      ]
     },
     "execution_count": 227,
     "metadata": {},
     "output_type": "execute_result"
    }
   ],
   "source": [
    "set3={11,56,89,45}\n",
    "set3"
   ]
  },
  {
   "cell_type": "code",
   "execution_count": 229,
   "id": "ddc2f9c1",
   "metadata": {},
   "outputs": [
    {
     "data": {
      "text/plain": [
       "{6, 7, 8, 9, 23}"
      ]
     },
     "execution_count": 229,
     "metadata": {},
     "output_type": "execute_result"
    }
   ],
   "source": [
    "set4.difference(set3)"
   ]
  },
  {
   "cell_type": "code",
   "execution_count": 230,
   "id": "65370970",
   "metadata": {},
   "outputs": [
    {
     "data": {
      "text/plain": [
       "{6, 7, 8, 9, 11, 23, 56}"
      ]
     },
     "execution_count": 230,
     "metadata": {},
     "output_type": "execute_result"
    }
   ],
   "source": [
    "set4"
   ]
  },
  {
   "cell_type": "code",
   "execution_count": 231,
   "id": "361b8eee",
   "metadata": {},
   "outputs": [
    {
     "data": {
      "text/plain": [
       "{11, 45, 56, 89}"
      ]
     },
     "execution_count": 231,
     "metadata": {},
     "output_type": "execute_result"
    }
   ],
   "source": [
    "set3"
   ]
  },
  {
   "cell_type": "code",
   "execution_count": 232,
   "id": "d61dafd0",
   "metadata": {},
   "outputs": [
    {
     "data": {
      "text/plain": [
       "{6, 7, 8, 9, 11, 23, 45, 56, 89}"
      ]
     },
     "execution_count": 232,
     "metadata": {},
     "output_type": "execute_result"
    }
   ],
   "source": [
    "set3.union(set4)"
   ]
  },
  {
   "cell_type": "code",
   "execution_count": 237,
   "id": "1c8df8c6",
   "metadata": {},
   "outputs": [
    {
     "name": "stdout",
     "output_type": "stream",
     "text": [
      "{56, 89, 11, 45}\n",
      "{23, 6, 7, 8, 9, 56, 11}\n"
     ]
    }
   ],
   "source": [
    "print(set3)\n",
    "print(set4)\n"
   ]
  },
  {
   "cell_type": "code",
   "execution_count": 238,
   "id": "36ae9ebd",
   "metadata": {},
   "outputs": [
    {
     "data": {
      "text/plain": [
       "{11, 56}"
      ]
     },
     "execution_count": 238,
     "metadata": {},
     "output_type": "execute_result"
    }
   ],
   "source": [
    "set3.intersection(set4)"
   ]
  },
  {
   "cell_type": "code",
   "execution_count": 239,
   "id": "b4af1803",
   "metadata": {},
   "outputs": [
    {
     "data": {
      "text/plain": [
       "56"
      ]
     },
     "execution_count": 239,
     "metadata": {},
     "output_type": "execute_result"
    }
   ],
   "source": [
    "set3.pop()"
   ]
  },
  {
   "cell_type": "code",
   "execution_count": 240,
   "id": "46a31fa1",
   "metadata": {},
   "outputs": [
    {
     "data": {
      "text/plain": [
       "{11, 45, 89}"
      ]
     },
     "execution_count": 240,
     "metadata": {},
     "output_type": "execute_result"
    }
   ],
   "source": [
    "set3"
   ]
  },
  {
   "cell_type": "raw",
   "id": "ad1003d5",
   "metadata": {},
   "source": [
    "difference_update\n",
    "intersection_update\n",
    "isdisjoint\n",
    "issubset\n",
    "issuperset\n",
    "symmetric_difference\n",
    "symmetric_difference_update"
   ]
  },
  {
   "cell_type": "code",
   "execution_count": null,
   "id": "8c918844",
   "metadata": {},
   "outputs": [],
   "source": []
  }
 ],
 "metadata": {
  "kernelspec": {
   "display_name": "Python 3 (ipykernel)",
   "language": "python",
   "name": "python3"
  },
  "language_info": {
   "codemirror_mode": {
    "name": "ipython",
    "version": 3
   },
   "file_extension": ".py",
   "mimetype": "text/x-python",
   "name": "python",
   "nbconvert_exporter": "python",
   "pygments_lexer": "ipython3",
   "version": "3.9.13"
  }
 },
 "nbformat": 4,
 "nbformat_minor": 5
}
