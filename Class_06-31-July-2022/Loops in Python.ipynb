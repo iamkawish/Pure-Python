{
 "cells": [
  {
   "cell_type": "markdown",
   "id": "d18dac29",
   "metadata": {},
   "source": [
    "# Python Loops\n",
    "- For loop\n",
    "- While Loop"
   ]
  },
  {
   "cell_type": "code",
   "execution_count": 9,
   "id": "7500cd62",
   "metadata": {},
   "outputs": [],
   "source": [
    "# Re-useability\n",
    "# Reduce Line of Code\n",
    "# Well Structure"
   ]
  },
  {
   "cell_type": "code",
   "execution_count": 10,
   "id": "d4ae6ab6",
   "metadata": {},
   "outputs": [
    {
     "name": "stdout",
     "output_type": "stream",
     "text": [
      "Hello World\n",
      "Hello World\n",
      "Hello World\n",
      "Hello World\n",
      "Hello World\n",
      "Hello World\n",
      "Hello World\n",
      "Hello World\n",
      "Hello World\n",
      "Hello World\n",
      "Hello World\n"
     ]
    }
   ],
   "source": [
    "print(\"Hello World\")\n",
    "print(\"Hello World\")\n",
    "print(\"Hello World\")\n",
    "print(\"Hello World\")\n",
    "print(\"Hello World\")\n",
    "print(\"Hello World\")\n",
    "print(\"Hello World\")\n",
    "print(\"Hello World\")\n",
    "print(\"Hello World\")\n",
    "print(\"Hello World\")\n",
    "print(\"Hello World\")\n"
   ]
  },
  {
   "cell_type": "markdown",
   "id": "a7c61c15",
   "metadata": {},
   "source": [
    "### For Loop"
   ]
  },
  {
   "cell_type": "code",
   "execution_count": 1,
   "id": "02f89b41",
   "metadata": {
    "scrolled": false
   },
   "outputs": [
    {
     "name": "stdout",
     "output_type": "stream",
     "text": [
      "Hello World\n",
      "Hello World\n",
      "Hello World\n",
      "Hello World\n",
      "Hello World\n",
      "Hello World\n",
      "Hello World\n",
      "Hello World\n",
      "Hello World\n"
     ]
    }
   ],
   "source": [
    "for num in range(1,10):\n",
    "    print('Hello World')"
   ]
  },
  {
   "cell_type": "code",
   "execution_count": null,
   "id": "3c75253c",
   "metadata": {},
   "outputs": [],
   "source": []
  },
  {
   "cell_type": "code",
   "execution_count": 12,
   "id": "353c0ac3",
   "metadata": {},
   "outputs": [
    {
     "name": "stdout",
     "output_type": "stream",
     "text": [
      "1 Hello World\n",
      "3 Hello World\n",
      "5 Hello World\n",
      "7 Hello World\n",
      "9 Hello World\n"
     ]
    }
   ],
   "source": [
    "for num in range(1,10,2):    # (Start,end-1,step)\n",
    "    print(num,'Hello World')"
   ]
  },
  {
   "cell_type": "code",
   "execution_count": 13,
   "id": "92dc194a",
   "metadata": {},
   "outputs": [
    {
     "name": "stdout",
     "output_type": "stream",
     "text": [
      "10\n",
      "8\n",
      "6\n",
      "4\n",
      "2\n"
     ]
    }
   ],
   "source": [
    "for num in range(10,0,-2):\n",
    "    print(num)"
   ]
  },
  {
   "cell_type": "code",
   "execution_count": 14,
   "id": "1171fce6",
   "metadata": {},
   "outputs": [
    {
     "name": "stdout",
     "output_type": "stream",
     "text": [
      "P\n",
      "a\n",
      "k\n",
      "i\n",
      "s\n",
      "t\n",
      "a\n",
      "n\n"
     ]
    }
   ],
   "source": [
    "for char in 'Pakistan':\n",
    "    print(char)"
   ]
  },
  {
   "cell_type": "code",
   "execution_count": 15,
   "id": "42767c51",
   "metadata": {},
   "outputs": [
    {
     "name": "stdout",
     "output_type": "stream",
     "text": [
      "KEYBOARD\n",
      "MOUSE\n",
      "COMPUTER\n",
      "LCD\n"
     ]
    }
   ],
   "source": [
    "for item in ['keyboard','Mouse','Computer','LCD']:\n",
    "    print(item.upper())\n",
    "    "
   ]
  },
  {
   "cell_type": "code",
   "execution_count": 16,
   "id": "8d545d50",
   "metadata": {},
   "outputs": [
    {
     "ename": "TypeError",
     "evalue": "'int' object is not iterable",
     "output_type": "error",
     "traceback": [
      "\u001b[1;31m---------------------------------------------------------------------------\u001b[0m",
      "\u001b[1;31mTypeError\u001b[0m                                 Traceback (most recent call last)",
      "\u001b[1;32m~\\AppData\\Local\\Temp\\ipykernel_12800\\3371902228.py\u001b[0m in \u001b[0;36m<module>\u001b[1;34m\u001b[0m\n\u001b[1;32m----> 1\u001b[1;33m \u001b[1;32mfor\u001b[0m \u001b[0mnum\u001b[0m \u001b[1;32min\u001b[0m \u001b[1;36m5005\u001b[0m\u001b[1;33m:\u001b[0m\u001b[1;33m\u001b[0m\u001b[1;33m\u001b[0m\u001b[0m\n\u001b[0m\u001b[0;32m      2\u001b[0m     \u001b[0mprint\u001b[0m\u001b[1;33m(\u001b[0m\u001b[0mnum\u001b[0m\u001b[1;33m)\u001b[0m\u001b[1;33m\u001b[0m\u001b[1;33m\u001b[0m\u001b[0m\n",
      "\u001b[1;31mTypeError\u001b[0m: 'int' object is not iterable"
     ]
    }
   ],
   "source": [
    "for num in 5005:\n",
    "    print(num)"
   ]
  },
  {
   "cell_type": "code",
   "execution_count": 17,
   "id": "9757378f",
   "metadata": {},
   "outputs": [
    {
     "name": "stdout",
     "output_type": "stream",
     "text": [
      "5\n",
      "0\n",
      "0\n",
      "5\n"
     ]
    }
   ],
   "source": [
    "for num in '5005':\n",
    "    print(num)"
   ]
  },
  {
   "cell_type": "code",
   "execution_count": 8,
   "id": "ddfb92b3",
   "metadata": {},
   "outputs": [
    {
     "data": {
      "text/plain": [
       "str"
      ]
     },
     "execution_count": 8,
     "metadata": {},
     "output_type": "execute_result"
    }
   ],
   "source": [
    "type(num)"
   ]
  },
  {
   "cell_type": "code",
   "execution_count": 2,
   "id": "cf67b087",
   "metadata": {},
   "outputs": [],
   "source": [
    "items = ['Keyboard','Mouse','Joystick','Headphone','Monitor','Headfree','USB']"
   ]
  },
  {
   "cell_type": "code",
   "execution_count": 3,
   "id": "d8ee9c34",
   "metadata": {},
   "outputs": [
    {
     "name": "stdout",
     "output_type": "stream",
     "text": [
      "KEYBOARD\n",
      "MOUSE\n",
      "JOYSTICK\n",
      "HEADPHONE\n"
     ]
    }
   ],
   "source": [
    "for item in items[0:4]:\n",
    "    print(item.upper())\n"
   ]
  },
  {
   "cell_type": "code",
   "execution_count": 4,
   "id": "77b5d7a0",
   "metadata": {},
   "outputs": [],
   "source": [
    "items = ['Bag','SSD','RAM','GPU','Keyboard','Mouse','Joystick','Headphone','Monitor','Headfree','USB']"
   ]
  },
  {
   "cell_type": "code",
   "execution_count": 5,
   "id": "42fbcba6",
   "metadata": {},
   "outputs": [
    {
     "data": {
      "text/plain": [
       "['Bag',\n",
       " 'SSD',\n",
       " 'RAM',\n",
       " 'GPU',\n",
       " 'Keyboard',\n",
       " 'Mouse',\n",
       " 'Joystick',\n",
       " 'Headphone',\n",
       " 'Monitor',\n",
       " 'Headfree',\n",
       " 'USB']"
      ]
     },
     "execution_count": 5,
     "metadata": {},
     "output_type": "execute_result"
    }
   ],
   "source": [
    "items"
   ]
  },
  {
   "cell_type": "code",
   "execution_count": 7,
   "id": "b33a33bd",
   "metadata": {},
   "outputs": [
    {
     "name": "stdout",
     "output_type": "stream",
     "text": [
      "Mouse\n",
      "Headphone\n",
      "Headfree\n"
     ]
    }
   ],
   "source": [
    "for item in items:\n",
    "    if item.endswith('e'):\n",
    "        print(item)\n",
    "        "
   ]
  },
  {
   "cell_type": "code",
   "execution_count": 8,
   "id": "c2d83165",
   "metadata": {},
   "outputs": [
    {
     "name": "stdout",
     "output_type": "stream",
     "text": [
      "Mouse\n",
      "Monitor\n"
     ]
    }
   ],
   "source": [
    "for item in items:\n",
    "    if item.startswith('M'):\n",
    "        print(item)"
   ]
  },
  {
   "cell_type": "code",
   "execution_count": 7,
   "id": "267b9277",
   "metadata": {},
   "outputs": [
    {
     "name": "stdout",
     "output_type": "stream",
     "text": [
      "Headphone\n",
      "Headfree\n"
     ]
    }
   ],
   "source": [
    "# First Condition\n",
    "for item in items:\n",
    "    if (item.endswith('e')) and (len(item)>5):\n",
    "        print(item)\n",
    "   "
   ]
  },
  {
   "cell_type": "code",
   "execution_count": 18,
   "id": "7dccd817",
   "metadata": {},
   "outputs": [
    {
     "name": "stdout",
     "output_type": "stream",
     "text": [
      "Headphone\n",
      "Headfree\n"
     ]
    }
   ],
   "source": [
    "# Second Condition\n",
    "for item in items:\n",
    "    if (item[-1]=='e') and (len(item)>5):\n",
    "        print(item)\n",
    "   "
   ]
  },
  {
   "cell_type": "code",
   "execution_count": 19,
   "id": "b64b43a9",
   "metadata": {},
   "outputs": [
    {
     "name": "stdout",
     "output_type": "stream",
     "text": [
      "Bag\n",
      "SSD\n",
      "RAM\n",
      "GPU\n",
      "Mouse\n",
      "Headphone\n",
      "Headfree\n",
      "USB\n"
     ]
    }
   ],
   "source": [
    "for item in items:\n",
    "    if (item[-1]=='e') or (len(item)<5):\n",
    "        print(item)\n"
   ]
  },
  {
   "cell_type": "raw",
   "id": "ae1b9547",
   "metadata": {},
   "source": [
    "Task: We need to make a list of friends to invite in a party.\n",
    "    take friends name as input and add in guest list. "
   ]
  },
  {
   "cell_type": "code",
   "execution_count": 8,
   "id": "9f10c31a",
   "metadata": {},
   "outputs": [
    {
     "name": "stdout",
     "output_type": "stream",
     "text": [
      "Enter Friends Name: kawish\n",
      "Enter Friends Name: Arsal\n",
      "Enter Friends Name: Kashif\n",
      "Enter Friends Name: Nabeel\n",
      "Enter Friends Name: Ali\n"
     ]
    },
    {
     "data": {
      "text/plain": [
       "['kawish', 'Arsal', 'Kashif', 'Nabeel', 'Ali']"
      ]
     },
     "execution_count": 8,
     "metadata": {},
     "output_type": "execute_result"
    }
   ],
   "source": [
    "# Without Loop task\n",
    "fnd1=input(\"Enter Friends Name: \")\n",
    "fnd2=input(\"Enter Friends Name: \")\n",
    "fnd3=input(\"Enter Friends Name: \")\n",
    "fnd4=input(\"Enter Friends Name: \")\n",
    "fnd5=input(\"Enter Friends Name: \")\n",
    "guest_list=[fnd1,fnd2,fnd3,fnd4,fnd5]\n",
    "guest_list\n"
   ]
  },
  {
   "cell_type": "code",
   "execution_count": 9,
   "id": "adedc461",
   "metadata": {},
   "outputs": [
    {
     "name": "stdout",
     "output_type": "stream",
     "text": [
      "Please Enter your namekawish\n",
      "Please Enter your nameShabbir\n",
      "Please Enter your nameIman\n",
      "Please Enter your nameShahid\n",
      "Please Enter your nameAsghar\n",
      "['kawish', 'Shabbir', 'Iman', 'Shahid', 'Asghar']\n"
     ]
    }
   ],
   "source": [
    "# with loop\n",
    "guest_list1=[]\n",
    "for i in range(5):\n",
    "    name=input(\"Please Enter your name\")\n",
    "    guest_list1.append(name)\n",
    "print(guest_list1)"
   ]
  },
  {
   "cell_type": "markdown",
   "id": "4b29967a",
   "metadata": {},
   "source": [
    "### Break , Continue"
   ]
  },
  {
   "cell_type": "code",
   "execution_count": 3,
   "id": "685ef8de",
   "metadata": {},
   "outputs": [
    {
     "name": "stdout",
     "output_type": "stream",
     "text": [
      "0\n",
      "1\n",
      "2\n",
      "3\n",
      "4\n"
     ]
    }
   ],
   "source": [
    "# Break Example\n",
    "for i in range(10):\n",
    "    if i==5:\n",
    "        break\n",
    "    print(i)"
   ]
  },
  {
   "cell_type": "code",
   "execution_count": 31,
   "id": "1cc8fd64",
   "metadata": {},
   "outputs": [
    {
     "name": "stdout",
     "output_type": "stream",
     "text": [
      "0\n",
      "1\n",
      "2\n",
      "3\n",
      "4\n",
      "5\n"
     ]
    }
   ],
   "source": [
    "for i in range(10):\n",
    "    print(i)    \n",
    "    if i==5:    \n",
    "        break\n",
    "    "
   ]
  },
  {
   "cell_type": "code",
   "execution_count": 29,
   "id": "76657d8a",
   "metadata": {},
   "outputs": [
    {
     "name": "stdout",
     "output_type": "stream",
     "text": [
      "0\n",
      "1\n",
      "2\n",
      "3\n",
      "4\n",
      "6\n",
      "7\n",
      "8\n",
      "9\n"
     ]
    }
   ],
   "source": [
    "# Continue Example\n",
    "for i in range(10):\n",
    "    if i==5:\n",
    "        continue\n",
    "    print(i)"
   ]
  },
  {
   "cell_type": "raw",
   "id": "07b3810c",
   "metadata": {},
   "source": [
    "Task: take 10 integers as input and find the sum of all integer supplied."
   ]
  },
  {
   "cell_type": "code",
   "execution_count": 60,
   "id": "aea337f3",
   "metadata": {
    "scrolled": true
   },
   "outputs": [
    {
     "name": "stdout",
     "output_type": "stream",
     "text": [
      "Enter The Number:12\n",
      "Enter The Number:23\n",
      "Enter The Number:45\n",
      "Enter The Number:67\n",
      "Enter The Number:56\n",
      "Enter The Number:34\n",
      "Enter The Number:67\n",
      "Enter The Number:45\n",
      "Enter The Number:67\n",
      "Enter The Number:45\n",
      "The sum of total Number is: 461\n"
     ]
    }
   ],
   "source": [
    "sum=0\n",
    "for no in range(10):\n",
    "    number=int(input('Enter The Number:'))\n",
    "    sum= sum+number\n",
    "print(f'The sum of total Number is: {sum}')   \n"
   ]
  },
  {
   "cell_type": "code",
   "execution_count": 10,
   "id": "8026ed6d",
   "metadata": {},
   "outputs": [
    {
     "name": "stdout",
     "output_type": "stream",
     "text": [
      "Enter Number of your choice comma separated: 12\n",
      "The sum of total Number is: 12\n"
     ]
    }
   ],
   "source": [
    "nums = input('Enter Number of your choice comma separated: ').split(',')\n",
    "tot=0\n",
    "for num in nums:\n",
    "        tot+=int(num)\n",
    "print(f'The sum of total Number is: {tot}')\n",
    "        \n",
    "    "
   ]
  },
  {
   "cell_type": "markdown",
   "id": "6b16bac2",
   "metadata": {},
   "source": [
    "## While loop"
   ]
  },
  {
   "cell_type": "code",
   "execution_count": 2,
   "id": "e988cec8",
   "metadata": {},
   "outputs": [
    {
     "name": "stdout",
     "output_type": "stream",
     "text": [
      "0\n",
      "1\n",
      "2\n",
      "3\n",
      "4\n",
      "5\n",
      "6\n",
      "7\n",
      "8\n",
      "9\n"
     ]
    }
   ],
   "source": [
    "a=0\n",
    "while a<=10:  # True\n",
    "    print(a)\n",
    "    a+=1\n",
    "    "
   ]
  },
  {
   "cell_type": "code",
   "execution_count": 4,
   "id": "55838188",
   "metadata": {},
   "outputs": [
    {
     "name": "stdout",
     "output_type": "stream",
     "text": [
      "10\n",
      "9\n",
      "8\n",
      "7\n",
      "6\n",
      "5\n",
      "4\n",
      "3\n",
      "2\n",
      "1\n",
      "0\n",
      "-1\n",
      "-2\n",
      "-3\n",
      "-4\n",
      "-5\n",
      "-6\n",
      "-7\n",
      "-8\n",
      "-9\n",
      "-10\n"
     ]
    }
   ],
   "source": [
    "a=10\n",
    "while a>=-10:\n",
    "    print(a)\n",
    "    a-=1"
   ]
  },
  {
   "cell_type": "code",
   "execution_count": 4,
   "id": "44fbe1b2",
   "metadata": {},
   "outputs": [
    {
     "name": "stdout",
     "output_type": "stream",
     "text": [
      "Enter a guest name or pess 'q' to exit: kaw\n",
      "Enter a guest name or pess 'q' to exit: fgj\n",
      "Enter a guest name or pess 'q' to exit: q\n"
     ]
    },
    {
     "data": {
      "text/plain": [
       "['kaw', 'fgj']"
      ]
     },
     "execution_count": 4,
     "metadata": {},
     "output_type": "execute_result"
    }
   ],
   "source": [
    "myguests=[]\n",
    "\n",
    "flag=True\n",
    "while flag:\n",
    "    guestsName=input(\"Enter a guest name or pess 'q' to exit: \")\n",
    "    if guestsName=='q':\n",
    "\n",
    "        flag=False\n",
    "    else:\n",
    "        myguests.append(guestsName)\n",
    "myguests\n",
    "    "
   ]
  },
  {
   "cell_type": "markdown",
   "id": "03bfb18a",
   "metadata": {},
   "source": [
    "## List Comprehension"
   ]
  },
  {
   "cell_type": "code",
   "execution_count": 11,
   "id": "968da15c",
   "metadata": {},
   "outputs": [
    {
     "data": {
      "text/plain": [
       "[0, 2, 4, 6, 8, 10, 12, 14, 16, 18]"
      ]
     },
     "execution_count": 11,
     "metadata": {},
     "output_type": "execute_result"
    }
   ],
   "source": [
    "even=[]\n",
    "for num in range(20):\n",
    "    if num%2==0:\n",
    "        even.append(num)\n",
    "even"
   ]
  },
  {
   "cell_type": "code",
   "execution_count": 13,
   "id": "fc040479",
   "metadata": {},
   "outputs": [
    {
     "name": "stdout",
     "output_type": "stream",
     "text": [
      "[0, 2, 4, 6, 8, 10, 12, 14, 16, 18]\n"
     ]
    }
   ],
   "source": [
    "my_even=[num for num in range(20) if num%2==0]\n",
    "print(my_even)"
   ]
  },
  {
   "cell_type": "code",
   "execution_count": 14,
   "id": "654fa543",
   "metadata": {},
   "outputs": [
    {
     "data": {
      "text/plain": [
       "[1, 3, 5, 7, 9, 11, 13, 15, 17, 19]"
      ]
     },
     "execution_count": 14,
     "metadata": {},
     "output_type": "execute_result"
    }
   ],
   "source": [
    "odds=[]\n",
    "for num in range(20):\n",
    "    if num%2!=0:\n",
    "        odds.append(num)\n",
    "odds"
   ]
  },
  {
   "cell_type": "code",
   "execution_count": 16,
   "id": "b63c65e6",
   "metadata": {},
   "outputs": [
    {
     "data": {
      "text/plain": [
       "[1, 3, 5, 7, 9, 11, 13, 15, 17, 19]"
      ]
     },
     "execution_count": 16,
     "metadata": {},
     "output_type": "execute_result"
    }
   ],
   "source": [
    "my_odds=[num for num in range(20) if num%2!=0]\n",
    "my_odds"
   ]
  },
  {
   "cell_type": "code",
   "execution_count": 17,
   "id": "cd8e1ced",
   "metadata": {},
   "outputs": [
    {
     "data": {
      "text/plain": [
       "[11, 13, 15, 17, 19]"
      ]
     },
     "execution_count": 17,
     "metadata": {},
     "output_type": "execute_result"
    }
   ],
   "source": [
    "my_odds=[num for num in range(20) if num%2!=0 if num>10]\n",
    "my_odds"
   ]
  },
  {
   "cell_type": "code",
   "execution_count": 36,
   "id": "5116253d",
   "metadata": {},
   "outputs": [
    {
     "data": {
      "text/plain": [
       "[(0, 'A'),\n",
       " (0, 'B'),\n",
       " (0, 'C'),\n",
       " (0, 'D'),\n",
       " (0, 'E'),\n",
       " (1, 'A'),\n",
       " (1, 'B'),\n",
       " (1, 'C'),\n",
       " (1, 'D'),\n",
       " (1, 'E'),\n",
       " (2, 'A'),\n",
       " (2, 'B'),\n",
       " (2, 'C'),\n",
       " (2, 'D'),\n",
       " (2, 'E'),\n",
       " (3, 'A'),\n",
       " (3, 'B'),\n",
       " (3, 'C'),\n",
       " (3, 'D'),\n",
       " (3, 'E'),\n",
       " (4, 'A'),\n",
       " (4, 'B'),\n",
       " (4, 'C'),\n",
       " (4, 'D'),\n",
       " (4, 'E')]"
      ]
     },
     "execution_count": 36,
     "metadata": {},
     "output_type": "execute_result"
    }
   ],
   "source": [
    "[(x,y) for x in range(5) for y in 'ABCDE' ]"
   ]
  },
  {
   "cell_type": "code",
   "execution_count": 38,
   "id": "cbb4973c",
   "metadata": {},
   "outputs": [
    {
     "data": {
      "text/plain": [
       "[(1, 'A'),\n",
       " (1, 'B'),\n",
       " (1, 'C'),\n",
       " (2, 'A'),\n",
       " (2, 'B'),\n",
       " (2, 'C'),\n",
       " (3, 'A'),\n",
       " (3, 'B'),\n",
       " (3, 'C'),\n",
       " (4, 'A'),\n",
       " (4, 'B'),\n",
       " (4, 'C')]"
      ]
     },
     "execution_count": 38,
     "metadata": {},
     "output_type": "execute_result"
    }
   ],
   "source": [
    "[(x,y) for x in range(5) for y in 'ABC' if x>0 ]"
   ]
  },
  {
   "cell_type": "markdown",
   "id": "aa25ae30",
   "metadata": {},
   "source": [
    "### if else in list comprehension"
   ]
  },
  {
   "cell_type": "markdown",
   "id": "b89e6486",
   "metadata": {},
   "source": [
    "### Nested For Loop\n"
   ]
  },
  {
   "cell_type": "code",
   "execution_count": 25,
   "id": "f0e95c74",
   "metadata": {},
   "outputs": [
    {
     "data": {
      "text/plain": [
       "['0 is even',\n",
       " '1 is odd:',\n",
       " '2 is even',\n",
       " '3 is odd:',\n",
       " '4 is even',\n",
       " '5 is odd:',\n",
       " '6 is even',\n",
       " '7 is odd:',\n",
       " '8 is even',\n",
       " '9 is odd:',\n",
       " '10 is even',\n",
       " '11 is odd:',\n",
       " '12 is even',\n",
       " '13 is odd:',\n",
       " '14 is even',\n",
       " '15 is odd:',\n",
       " '16 is even',\n",
       " '17 is odd:',\n",
       " '18 is even',\n",
       " '19 is odd:']"
      ]
     },
     "execution_count": 25,
     "metadata": {},
     "output_type": "execute_result"
    }
   ],
   "source": [
    "[f'{nu} is even'if nu%2==0 else f'{nu} is odd:'for nu in range(20)]"
   ]
  },
  {
   "cell_type": "code",
   "execution_count": 5,
   "id": "5dce156c",
   "metadata": {
    "scrolled": true
   },
   "outputs": [
    {
     "name": "stdout",
     "output_type": "stream",
     "text": [
      "2 * 1 = 2\n",
      "2 * 2 = 4\n",
      "2 * 3 = 6\n",
      "2 * 4 = 8\n",
      "2 * 5 = 10\n",
      "2 * 6 = 12\n",
      "2 * 7 = 14\n",
      "2 * 8 = 16\n",
      "2 * 9 = 18\n",
      "2 * 10 = 20\n",
      "3 * 1 = 3\n",
      "3 * 2 = 6\n",
      "3 * 3 = 9\n",
      "3 * 4 = 12\n",
      "3 * 5 = 15\n",
      "3 * 6 = 18\n",
      "3 * 7 = 21\n",
      "3 * 8 = 24\n",
      "3 * 9 = 27\n",
      "3 * 10 = 30\n",
      "4 * 1 = 4\n",
      "4 * 2 = 8\n",
      "4 * 3 = 12\n",
      "4 * 4 = 16\n",
      "4 * 5 = 20\n",
      "4 * 6 = 24\n",
      "4 * 7 = 28\n",
      "4 * 8 = 32\n",
      "4 * 9 = 36\n",
      "4 * 10 = 40\n",
      "5 * 1 = 5\n",
      "5 * 2 = 10\n",
      "5 * 3 = 15\n",
      "5 * 4 = 20\n",
      "5 * 5 = 25\n",
      "5 * 6 = 30\n",
      "5 * 7 = 35\n",
      "5 * 8 = 40\n",
      "5 * 9 = 45\n",
      "5 * 10 = 50\n"
     ]
    }
   ],
   "source": [
    "for table_num in range(2,6):\n",
    "    for num in range(1,11):\n",
    "        print(f'{table_num} * {num} = {table_num*num}')\n",
    "    "
   ]
  },
  {
   "cell_type": "code",
   "execution_count": 6,
   "id": "c960482f",
   "metadata": {},
   "outputs": [
    {
     "data": {
      "text/plain": [
       "[1,\n",
       " 2,\n",
       " 3,\n",
       " 4,\n",
       " 6,\n",
       " 8,\n",
       " 9,\n",
       " 11,\n",
       " 12,\n",
       " 13,\n",
       " 16,\n",
       " 17,\n",
       " 18,\n",
       " 19,\n",
       " 22,\n",
       " 23,\n",
       " 24,\n",
       " 26,\n",
       " 27,\n",
       " 29,\n",
       " 31,\n",
       " 32,\n",
       " 33,\n",
       " 34,\n",
       " 36,\n",
       " 37,\n",
       " 38,\n",
       " 39,\n",
       " 41,\n",
       " 43,\n",
       " 44,\n",
       " 46,\n",
       " 47,\n",
       " 48,\n",
       " 51,\n",
       " 52,\n",
       " 53,\n",
       " 54,\n",
       " 57,\n",
       " 58,\n",
       " 59,\n",
       " 61,\n",
       " 62,\n",
       " 64,\n",
       " 66,\n",
       " 67,\n",
       " 68,\n",
       " 69,\n",
       " 71,\n",
       " 72,\n",
       " 73,\n",
       " 74,\n",
       " 76,\n",
       " 78,\n",
       " 79,\n",
       " 81,\n",
       " 82,\n",
       " 83,\n",
       " 86,\n",
       " 87,\n",
       " 88,\n",
       " 89,\n",
       " 92,\n",
       " 93,\n",
       " 94,\n",
       " 96,\n",
       " 97,\n",
       " 99]"
      ]
     },
     "execution_count": 6,
     "metadata": {},
     "output_type": "execute_result"
    }
   ],
   "source": [
    "[a for a in range(1,100) if (a%7!=0 and a%5!=0)]"
   ]
  },
  {
   "cell_type": "code",
   "execution_count": 13,
   "id": "12bca574",
   "metadata": {},
   "outputs": [
    {
     "data": {
      "text/plain": [
       "[0, 1, 4, 9, 16, 25, 36, 49, 64, 81]"
      ]
     },
     "execution_count": 13,
     "metadata": {},
     "output_type": "execute_result"
    }
   ],
   "source": [
    "\n",
    "[a**2 for a in range(10)]"
   ]
  },
  {
   "cell_type": "code",
   "execution_count": 16,
   "id": "80168bec",
   "metadata": {},
   "outputs": [
    {
     "name": "stdout",
     "output_type": "stream",
     "text": [
      "Enter a number: 4\n",
      "The square root 4 is 16:\n"
     ]
    }
   ],
   "source": [
    "num= int(input('Enter a number: '))\n",
    "power=num**2\n",
    "print(f\"The square root {num} is {power}:\")\n",
    "         "
   ]
  },
  {
   "cell_type": "markdown",
   "id": "634dd88b",
   "metadata": {},
   "source": [
    "### Dictionary"
   ]
  },
  {
   "cell_type": "code",
   "execution_count": 10,
   "id": "455b9c0c",
   "metadata": {},
   "outputs": [],
   "source": [
    "adict={1,2,3}\n",
    "aset={'name':'kaw'}\n"
   ]
  },
  {
   "cell_type": "code",
   "execution_count": 11,
   "id": "be919af8",
   "metadata": {},
   "outputs": [
    {
     "data": {
      "text/plain": [
       "set"
      ]
     },
     "execution_count": 11,
     "metadata": {},
     "output_type": "execute_result"
    }
   ],
   "source": [
    "type(adict)"
   ]
  },
  {
   "cell_type": "code",
   "execution_count": 21,
   "id": "a7e4f291",
   "metadata": {},
   "outputs": [
    {
     "data": {
      "text/plain": [
       "dict"
      ]
     },
     "execution_count": 21,
     "metadata": {},
     "output_type": "execute_result"
    }
   ],
   "source": [
    "type(aset)"
   ]
  },
  {
   "cell_type": "code",
   "execution_count": 22,
   "id": "6eb1c6e6",
   "metadata": {},
   "outputs": [],
   "source": [
    "\n",
    "# A dictionary has a key value pair"
   ]
  },
  {
   "cell_type": "code",
   "execution_count": 12,
   "id": "4dcdae10",
   "metadata": {},
   "outputs": [],
   "source": [
    "astudent={'name':'Kawish','Roll no': '123','Father_name':'Akber Ali'}"
   ]
  },
  {
   "cell_type": "code",
   "execution_count": 14,
   "id": "b0d66064",
   "metadata": {},
   "outputs": [
    {
     "data": {
      "text/plain": [
       "dict_keys(['name', 'Roll no', 'Father_name'])"
      ]
     },
     "execution_count": 14,
     "metadata": {},
     "output_type": "execute_result"
    }
   ],
   "source": [
    "astudent.keys()"
   ]
  },
  {
   "cell_type": "code",
   "execution_count": 25,
   "id": "8df3d91a",
   "metadata": {},
   "outputs": [],
   "source": [
    "# There is no indexing concept in dictionary"
   ]
  },
  {
   "cell_type": "code",
   "execution_count": 28,
   "id": "956206c8",
   "metadata": {},
   "outputs": [
    {
     "data": {
      "text/plain": [
       "'Kawish'"
      ]
     },
     "execution_count": 28,
     "metadata": {},
     "output_type": "execute_result"
    }
   ],
   "source": [
    "astudent['name']"
   ]
  },
  {
   "cell_type": "code",
   "execution_count": 29,
   "id": "1268748f",
   "metadata": {},
   "outputs": [],
   "source": [
    "# add two member / new key in existing dict"
   ]
  },
  {
   "cell_type": "code",
   "execution_count": 30,
   "id": "0fd15a49",
   "metadata": {},
   "outputs": [],
   "source": [
    "astudent['gmail']='iamkawishakber@gmail.com'"
   ]
  },
  {
   "cell_type": "code",
   "execution_count": 31,
   "id": "e8ee56de",
   "metadata": {},
   "outputs": [
    {
     "data": {
      "text/plain": [
       "{'name': 'Kawish',\n",
       " 'Roll no': '123',\n",
       " 'Father_name': 'Akber Ali',\n",
       " 'gmail': 'iamkawishakber@gmail.com'}"
      ]
     },
     "execution_count": 31,
     "metadata": {},
     "output_type": "execute_result"
    }
   ],
   "source": [
    "astudent"
   ]
  },
  {
   "cell_type": "code",
   "execution_count": 35,
   "id": "c664db3d",
   "metadata": {},
   "outputs": [
    {
     "name": "stdout",
     "output_type": "stream",
     "text": [
      "name\n",
      "Roll no\n",
      "Father_name\n",
      "gmail\n"
     ]
    }
   ],
   "source": [
    "# if we iterate directly on dictionary it will return key only\n",
    "for a in astudent:\n",
    "    print(a)"
   ]
  },
  {
   "cell_type": "code",
   "execution_count": 36,
   "id": "0af98a56",
   "metadata": {},
   "outputs": [
    {
     "name": "stdout",
     "output_type": "stream",
     "text": [
      "name\n",
      "Roll no\n",
      "Father_name\n",
      "gmail\n"
     ]
    }
   ],
   "source": [
    "# if we iterate on dictionary.keys() it will return keys.\n",
    "for a in astudent.keys():\n",
    "    print(a)"
   ]
  },
  {
   "cell_type": "code",
   "execution_count": 41,
   "id": "4dd048ab",
   "metadata": {},
   "outputs": [
    {
     "name": "stdout",
     "output_type": "stream",
     "text": [
      "name Kawish\n",
      "Roll no 123\n",
      "Father_name Akber Ali\n",
      "gmail iamkawishakber@gmail.com\n"
     ]
    }
   ],
   "source": [
    "# we can get value by key\n",
    "for a in astudent.keys():\n",
    "    print(a, astudent[a])"
   ]
  },
  {
   "cell_type": "code",
   "execution_count": 44,
   "id": "a1898bd3",
   "metadata": {},
   "outputs": [],
   "source": [
    "# we can get values against keys by get()"
   ]
  },
  {
   "cell_type": "code",
   "execution_count": 49,
   "id": "37ecb291",
   "metadata": {},
   "outputs": [
    {
     "name": "stdout",
     "output_type": "stream",
     "text": [
      "Kawish\n",
      "123\n",
      "Akber Ali\n",
      "iamkawishakber@gmail.com\n"
     ]
    }
   ],
   "source": [
    "for a in astudent.keys():\n",
    "    print(astudent.get(a))"
   ]
  },
  {
   "cell_type": "code",
   "execution_count": 50,
   "id": "b2da5613",
   "metadata": {},
   "outputs": [
    {
     "name": "stdout",
     "output_type": "stream",
     "text": [
      "Kawish\n",
      "123\n",
      "Akber Ali\n",
      "iamkawishakber@gmail.com\n"
     ]
    }
   ],
   "source": [
    "# We can get value directly\n",
    "for vals in astudent.values():\n",
    "    print(vals)"
   ]
  },
  {
   "cell_type": "code",
   "execution_count": 51,
   "id": "b0ffb5e0",
   "metadata": {},
   "outputs": [
    {
     "name": "stdout",
     "output_type": "stream",
     "text": [
      "('name', 'Kawish')\n",
      "('Roll no', '123')\n",
      "('Father_name', 'Akber Ali')\n",
      "('gmail', 'iamkawishakber@gmail.com')\n"
     ]
    }
   ],
   "source": [
    "# if we need key & value together\n",
    "for a in astudent.items():\n",
    "    print(a)"
   ]
  },
  {
   "cell_type": "code",
   "execution_count": null,
   "id": "97172369",
   "metadata": {},
   "outputs": [],
   "source": []
  }
 ],
 "metadata": {
  "kernelspec": {
   "display_name": "Python 3 (ipykernel)",
   "language": "python",
   "name": "python3"
  },
  "language_info": {
   "codemirror_mode": {
    "name": "ipython",
    "version": 3
   },
   "file_extension": ".py",
   "mimetype": "text/x-python",
   "name": "python",
   "nbconvert_exporter": "python",
   "pygments_lexer": "ipython3",
   "version": "3.9.13"
  }
 },
 "nbformat": 4,
 "nbformat_minor": 5
}
