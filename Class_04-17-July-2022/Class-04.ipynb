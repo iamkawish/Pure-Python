{
 "cells": [
  {
   "cell_type": "markdown",
   "id": "bb2e5419",
   "metadata": {},
   "source": [
    "# If Clause / Statement"
   ]
  },
  {
   "cell_type": "code",
   "execution_count": 1,
   "id": "9d589c0a",
   "metadata": {},
   "outputs": [
    {
     "name": "stdout",
     "output_type": "stream",
     "text": [
      "Enter age:22\n",
      "He is younger\n",
      "I am out of block\n"
     ]
    }
   ],
   "source": [
    "age = int(input(\"Enter age:\"))\n",
    "if (age>18):\n",
    "    print(\"He is younger\")\n",
    "print(\"I am out of block\")"
   ]
  },
  {
   "cell_type": "markdown",
   "id": "f714e12a",
   "metadata": {},
   "source": [
    "\n",
    "# Else Block"
   ]
  },
  {
   "cell_type": "code",
   "execution_count": 2,
   "id": "5b8a9c6c",
   "metadata": {},
   "outputs": [
    {
     "name": "stdout",
     "output_type": "stream",
     "text": [
      "Tamater kiya Hisab hai12\n",
      "5 kg\n"
     ]
    }
   ],
   "source": [
    "tomoto_price=int(input(\"Tamater kiya Hisab hai\"))\n",
    "if(tomoto_price<=50):\n",
    "    print(\"5 kg\")\n",
    "else:\n",
    "    print(\"2 kg\")"
   ]
  },
  {
   "cell_type": "markdown",
   "id": "313170a3",
   "metadata": {},
   "source": [
    "# Nested If Clause"
   ]
  },
  {
   "cell_type": "code",
   "execution_count": 3,
   "id": "fdb2a5a7",
   "metadata": {},
   "outputs": [],
   "source": [
    "#  Jab maii kabra kharedna jao ga toh kiya kiya dekho ga\n",
    "# Brand\n",
    "# Color\n",
    "# Size\n",
    "# Price\n",
    "# Yes / No"
   ]
  },
  {
   "cell_type": "code",
   "execution_count": 4,
   "id": "351e1009",
   "metadata": {},
   "outputs": [
    {
     "name": "stdout",
     "output_type": "stream",
     "text": [
      "Please Brand name: !\"\n",
      "Please Brand Shirt Color: \n",
      "Please Shirt size\"\n",
      "Entwer Shirt Price\n"
     ]
    },
    {
     "ename": "ValueError",
     "evalue": "invalid literal for int() with base 10: ''",
     "output_type": "error",
     "traceback": [
      "\u001b[1;31m---------------------------------------------------------------------------\u001b[0m",
      "\u001b[1;31mValueError\u001b[0m                                Traceback (most recent call last)",
      "\u001b[1;32m~\\AppData\\Local\\Temp\\ipykernel_1640\\3546148801.py\u001b[0m in \u001b[0;36m<module>\u001b[1;34m\u001b[0m\n\u001b[0;32m      2\u001b[0m \u001b[0mbrand_color\u001b[0m \u001b[1;33m=\u001b[0m \u001b[0minput\u001b[0m\u001b[1;33m(\u001b[0m\u001b[1;34m\"Please Brand Shirt Color: \"\u001b[0m\u001b[1;33m)\u001b[0m\u001b[1;33m\u001b[0m\u001b[1;33m\u001b[0m\u001b[0m\n\u001b[0;32m      3\u001b[0m \u001b[0mbrand_size\u001b[0m \u001b[1;33m=\u001b[0m \u001b[0minput\u001b[0m\u001b[1;33m(\u001b[0m\u001b[1;34m\"Please Shirt size\"\u001b[0m\u001b[1;33m)\u001b[0m\u001b[1;33m\u001b[0m\u001b[1;33m\u001b[0m\u001b[0m\n\u001b[1;32m----> 4\u001b[1;33m \u001b[0mcloth_price\u001b[0m  \u001b[1;33m=\u001b[0m\u001b[0mint\u001b[0m\u001b[1;33m(\u001b[0m\u001b[0minput\u001b[0m\u001b[1;33m(\u001b[0m\u001b[1;34m\"Entwer Shirt Price\"\u001b[0m\u001b[1;33m)\u001b[0m\u001b[1;33m)\u001b[0m\u001b[1;33m\u001b[0m\u001b[1;33m\u001b[0m\u001b[0m\n\u001b[0m\u001b[0;32m      5\u001b[0m \u001b[1;33m\u001b[0m\u001b[0m\n\u001b[0;32m      6\u001b[0m \u001b[1;32mif\u001b[0m \u001b[0mbrand_name\u001b[0m \u001b[1;33m==\u001b[0m \u001b[1;34m'Gul-Ahmed'\u001b[0m\u001b[1;33m:\u001b[0m\u001b[1;33m\u001b[0m\u001b[1;33m\u001b[0m\u001b[0m\n",
      "\u001b[1;31mValueError\u001b[0m: invalid literal for int() with base 10: ''"
     ]
    }
   ],
   "source": [
    "brand_name = input(\"Please Brand name: \")\n",
    "brand_color = input(\"Please Brand Shirt Color: \")\n",
    "brand_size = input(\"Please Shirt size\")\n",
    "cloth_price  =int(input(\"Entwer Shirt Price\"))\n",
    "\n",
    "if brand_name == 'Gul-Ahmed':\n",
    "    if brand_color == 'Blue':\n",
    "        if brand_size == 'M':\n",
    "            if cloth_price <=1200:\n",
    "                print(\"Pack this Item\")\n"
   ]
  },
  {
   "cell_type": "markdown",
   "id": "8cf4218f",
   "metadata": {},
   "source": [
    "##### Redefined the above code"
   ]
  },
  {
   "cell_type": "code",
   "execution_count": null,
   "id": "74ccd063",
   "metadata": {},
   "outputs": [],
   "source": [
    "brand_name = input(\"Please Brand name: \")\n",
    "if brand_name == 'Gul-Ahmed':\n",
    "    brand_color = input(\"Please Brand Shirt Color: \")\n",
    "    if brand_color == 'Blue':\n",
    "        brand_size = input(\"Please Shirt size\")\n",
    "        if brand_size == 'M':\n",
    "            cloth_price  =int(input(\"Entwer Shirt Price\"))\n",
    "            if cloth_price <=1200:\n",
    "                print(\"Pack this Item\")\n"
   ]
  },
  {
   "cell_type": "markdown",
   "id": "d1fd4201",
   "metadata": {},
   "source": [
    "### Nested if with Else\n",
    "- in Nested it's every clause must be true to reach target answer  \n",
    "- If any of the if clause fails it will move to respective else block."
   ]
  },
  {
   "cell_type": "code",
   "execution_count": null,
   "id": "fc0ed9c3",
   "metadata": {},
   "outputs": [],
   "source": [
    "Shopping_Cart=None\n",
    "brand_name = input(\"Please Brand Name: \")\n",
    "if brand_name=='Satrangi':\n",
    "    brand_color = input(\"Please Brand Shirt Color: \")\n",
    "    if brand_color == 'Blue':\n",
    "        brand_size = input(\"Please Shirt size\")\n",
    "        if brand_size == 'M':\n",
    "            cloth_price  =int(input(\"Entwer Shirt Price\"))\n",
    "            if cloth_price <=1200:\n",
    "                Shopping_Cart =  f\"{brand_name},{brand_color},{brand_size},{cloth_price}\"\n",
    "                else:\n",
    "                    Shopping_Cart(\"Out of My budget\")\n",
    "            else:\n",
    "                Shopping_Cart(\"Shirt Size Not Available\")\n",
    "    else:\n",
    "        Shopping_Cart(\"Shirt Color Not Available\")\n",
    "else: \n",
    "    Shopping_Cart(\"Brand Not Available\")"
   ]
  },
  {
   "cell_type": "code",
   "execution_count": null,
   "id": "7cafdcc7",
   "metadata": {},
   "outputs": [],
   "source": [
    "shopping_cart = None\n",
    "brand_name = input(\"Enter brand: \")\n",
    "if brand_name == \"polo\":\n",
    "    shirt_color = input(\"Shirt color: \")\n",
    "    if shirt_color == \"red\": \n",
    "        shirt_size = input(\"Shirt size: \")\n",
    "        if shirt_size == \"M\":\n",
    "            shirt_price = int(input(\"Enter price: \"))\n",
    "            if shirt_price < 1500:\n",
    "                shopping_cart = f'{brand_name},{shirt_color},{shirt_size},{shirt_price}'\n",
    "            else:\n",
    "                \n",
    "                shopping_cart = \"Out of my budget\"\n",
    "        else:\n",
    "            shopping_cart = \"Size not available\"\n",
    "        \n",
    "    else:\n",
    "        shopping_cart = \"Color not available\"\n",
    "else:\n",
    "    shopping_cart = \"Brand not avaiable\"\n",
    "print(f\"\"\"\n",
    "         ABC Shopping Centre\n",
    "         ___________________\n",
    "         \n",
    "         Item Brand  : {brand_name}\n",
    "         Item Color  : {shirt_color}\n",
    "         Item Size   : {shirt_size}\n",
    "         Item price  : {shirt_price}\n",
    "         \n",
    "         Thank your for shopping with us\n",
    "         ________________________________\n",
    "\"\"\")"
   ]
  },
  {
   "cell_type": "markdown",
   "id": "03d55e2b",
   "metadata": {},
   "source": [
    "# Multiple if Clause"
   ]
  },
  {
   "cell_type": "code",
   "execution_count": null,
   "id": "294860f7",
   "metadata": {},
   "outputs": [],
   "source": [
    "# if elif else\n",
    "C= float(input(\"Enter C Marks: \"))\n",
    "Java= float(input(\"Enter Java Marks: \"))\n",
    "Php=float(input(\"Enter Php Marks: \"))\n",
    "Python= float(input(\"Enter Python Marks: \"))\n",
    "Javascript= float(input(\"Enter Javascript Marks: \"))\n",
    "Grade=None\n",
    "obt_marks = C+Java+Python+Javascript+Php\n",
    "percentage = obt_marks/500*100\n",
    "if percentage>=80:\n",
    "    Grade=\"A+1\"\n",
    "elif percentage>=70:\n",
    "    Grade=\"A\"\n",
    "elif percentage>=60:\n",
    "    Grade=\"B\"\n",
    "elif percentage>=50:\n",
    "    Grade=\"C\"\n",
    "elif percentage>=80:\n",
    "    Grade=\"D\"\n",
    "else: \n",
    "    Grade=\"Fail\"\n",
    "print(f\"\"\"\n",
    "        Result Card:\n",
    "---------------------------\n",
    "Obtained Marks :{obt_marks}\n",
    "Percentage :{percentage}\n",
    "Grage :{Grade\n",
    "}\n",
    "\n",
    "\n",
    "\n",
    "\n",
    "\n",
    "\"\"\")\n",
    "\n"
   ]
  },
  {
   "cell_type": "raw",
   "id": "d58990ba",
   "metadata": {},
   "source": [
    "Nested if clauses >>>>>>>>>> and operator\n",
    "Multiple if clauses >>>>>>>> or operator"
   ]
  },
  {
   "cell_type": "code",
   "execution_count": null,
   "id": "885b16e1",
   "metadata": {},
   "outputs": [],
   "source": [
    "# User Intentity Card\n",
    "user_id='Kawish'\n",
    "password='abcd1234'\n",
    "usId = input(\"Enter User id: \")\n",
    "pwd=input(\"Enter Password:\")\n",
    "if(user_id==usId and password==pwd):\n",
    "    print(\"Well come to Login page\")\n",
    "else:\n",
    "    print('User or Password wrong')"
   ]
  },
  {
   "cell_type": "code",
   "execution_count": 6,
   "id": "3995a6c4",
   "metadata": {},
   "outputs": [
    {
     "name": "stdout",
     "output_type": "stream",
     "text": [
      "Enter User id: kawish\n",
      "Enter Password:akbc\n",
      "User or Password wrong\n"
     ]
    }
   ],
   "source": [
    "user_id='Kawish'\n",
    "password='abcd1234'\n",
    "usId = input(\"Enter User id: \")\n",
    "pwd=input(\"Enter Password:\")\n",
    "\n",
    "if(user_id==usId):\n",
    "    if(password==pwd):\n",
    "        print(\"Well come to Login page\")\n",
    "else:\n",
    "    print('User or Password wrong')"
   ]
  },
  {
   "cell_type": "code",
   "execution_count": 7,
   "id": "ba92ae74",
   "metadata": {},
   "outputs": [
    {
     "name": "stdout",
     "output_type": "stream",
     "text": [
      "Do you have CNIC:  Yes\n",
      "Do you have Passport:  No\n",
      "You can not a driving License\n",
      "<built-in method lower of str object at 0x0000025013FF4630>\n"
     ]
    }
   ],
   "source": [
    "hasCNIC = input(\"Do you have CNIC:  \").lower\n",
    "hasPasspord  = input(\"Do you have Passport:  \").lower\n",
    "if hasCNIC =='yes' or hasPasspord=='yes':\n",
    "    print('You can have a driving License ')\n",
    "else:\n",
    "    print('You can not a driving License')\n",
    "print(hasCNIC)"
   ]
  },
  {
   "cell_type": "code",
   "execution_count": 8,
   "id": "64ef24e8",
   "metadata": {},
   "outputs": [
    {
     "name": "stdout",
     "output_type": "stream",
     "text": [
      "How many servive you have been in Company: 6\n",
      "Enter your Salary:10000\n",
      " You are bonus is:500.0\n"
     ]
    }
   ],
   "source": [
    "service_year=float(input(\"How many servive you have been in Company: \"))\n",
    "salary=int(input(\"Enter your Salary:\"))\n",
    "bonus=0\n",
    "if service_year>5:\n",
    "  bonus=salary*.05\n",
    "else:\n",
    "  bonus=0\n",
    "print(f' You are bonus is:{bonus}' )\n",
    "  "
   ]
  },
  {
   "cell_type": "code",
   "execution_count": null,
   "id": "8ba16577",
   "metadata": {},
   "outputs": [],
   "source": []
  },
  {
   "cell_type": "code",
   "execution_count": null,
   "id": "4e675ec1",
   "metadata": {},
   "outputs": [],
   "source": []
  },
  {
   "cell_type": "code",
   "execution_count": null,
   "id": "fa9a54fe",
   "metadata": {},
   "outputs": [],
   "source": []
  },
  {
   "cell_type": "code",
   "execution_count": null,
   "id": "96612ee2",
   "metadata": {},
   "outputs": [],
   "source": []
  }
 ],
 "metadata": {
  "kernelspec": {
   "display_name": "Python 3 (ipykernel)",
   "language": "python",
   "name": "python3"
  },
  "language_info": {
   "codemirror_mode": {
    "name": "ipython",
    "version": 3
   },
   "file_extension": ".py",
   "mimetype": "text/x-python",
   "name": "python",
   "nbconvert_exporter": "python",
   "pygments_lexer": "ipython3",
   "version": "3.9.13"
  }
 },
 "nbformat": 4,
 "nbformat_minor": 5
}
