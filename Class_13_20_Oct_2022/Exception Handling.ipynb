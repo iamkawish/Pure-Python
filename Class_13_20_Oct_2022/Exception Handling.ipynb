{
 "cells": [
  {
   "cell_type": "code",
   "execution_count": 1,
   "id": "e63d152b",
   "metadata": {
    "id": "e63d152b",
    "outputId": "b91735fd-1325-438a-b5a8-9211c1d355bc"
   },
   "outputs": [
    {
     "data": {
      "text/plain": [
       "16.0"
      ]
     },
     "execution_count": 1,
     "metadata": {},
     "output_type": "execute_result"
    }
   ],
   "source": [
    "#PYthon#  a number can divide a number\n",
    "32/2"
   ]
  },
  {
   "cell_type": "code",
   "execution_count": 2,
   "id": "4446492a",
   "metadata": {
    "id": "4446492a",
    "outputId": "66513743-513f-48d9-a7ae-e384e8e0d064"
   },
   "outputs": [
    {
     "data": {
      "text/plain": [
       "4.0"
      ]
     },
     "execution_count": 2,
     "metadata": {},
     "output_type": "execute_result"
    }
   ],
   "source": [
    "12/3\n"
   ]
  },
  {
   "cell_type": "code",
   "execution_count": 3,
   "id": "52d17914",
   "metadata": {
    "id": "52d17914",
    "outputId": "f1ece026-2708-4630-fabc-0c44cc6581f6"
   },
   "outputs": [
    {
     "ename": "ZeroDivisionError",
     "evalue": "division by zero",
     "output_type": "error",
     "traceback": [
      "\u001b[1;31m---------------------------------------------------------------------------\u001b[0m",
      "\u001b[1;31mZeroDivisionError\u001b[0m                         Traceback (most recent call last)",
      "\u001b[1;32m~\\AppData\\Local\\Temp\\ipykernel_4680\\21889111.py\u001b[0m in \u001b[0;36m<module>\u001b[1;34m\u001b[0m\n\u001b[1;32m----> 1\u001b[1;33m \u001b[1;36m12\u001b[0m\u001b[1;33m/\u001b[0m\u001b[1;36m0\u001b[0m\u001b[1;33m\u001b[0m\u001b[1;33m\u001b[0m\u001b[0m\n\u001b[0m",
      "\u001b[1;31mZeroDivisionError\u001b[0m: division by zero"
     ]
    }
   ],
   "source": [
    "12/0"
   ]
  },
  {
   "cell_type": "code",
   "execution_count": null,
   "id": "a63caa1f",
   "metadata": {
    "id": "a63caa1f",
    "outputId": "ffad5d18-a604-4d04-99d1-c81c7141e7a1"
   },
   "outputs": [
    {
     "ename": "TypeError",
     "evalue": "unsupported operand type(s) for /: 'int' and 'str'",
     "output_type": "error",
     "traceback": [
      "\u001b[1;31m---------------------------------------\u001b[0m",
      "\u001b[1;31mTypeError\u001b[0mTraceback (most recent call last)",
      "\u001b[1;32m<ipython-input-6-516f8802638a>\u001b[0m in \u001b[0;36m<module>\u001b[1;34m\u001b[0m\n\u001b[1;32m----> 1\u001b[1;33m \u001b[1;36m34\u001b[0m\u001b[1;33m/\u001b[0m\u001b[1;34m\"r\"\u001b[0m\u001b[1;33m\u001b[0m\u001b[1;33m\u001b[0m\u001b[0m\n\u001b[0m",
      "\u001b[1;31mTypeError\u001b[0m: unsupported operand type(s) for /: 'int' and 'str'"
     ]
    }
   ],
   "source": [
    "34/\"r\""
   ]
  },
  {
   "cell_type": "code",
   "execution_count": null,
   "id": "8c115ecf",
   "metadata": {
    "id": "8c115ecf",
    "outputId": "2f4ebb29-0ee9-4196-e6ee-4be97dfa5c99"
   },
   "outputs": [
    {
     "name": "stdout",
     "output_type": "stream",
     "text": [
      "Enter a number0\n",
      "Enter a number5\n",
      "0.0\n"
     ]
    }
   ],
   "source": [
    "# Syntax error & logical/Runtime error\n",
    "a = int(input(\"Enter a number\"))\n",
    "b =int(input(\"Enter a number\"))\n",
    "c =a/b\n",
    "print(c)\n",
    "# >>input 0\n",
    "# >>input string value\n",
    "# >>> empty string"
   ]
  },
  {
   "cell_type": "code",
   "execution_count": 9,
   "id": "8320287d",
   "metadata": {
    "id": "8320287d",
    "outputId": "f3a4b509-dc8e-4d15-e7d4-09dc89bcfb1f"
   },
   "outputs": [
    {
     "name": "stdout",
     "output_type": "stream",
     "text": [
      "Enter a number2\n",
      "Enter a number3\n",
      "0.6666666666666666\n"
     ]
    }
   ],
   "source": [
    "\n",
    "try:\n",
    "    a =int(input(\"Enter a number\"))\n",
    "    b =int(input(\"Enter a number\"))\n",
    "    e= a/b\n",
    "except ZeroDivisionError:\n",
    "    print(\"You cannot divide a number by 0\")\n",
    "except ValueError:\n",
    "    print(\"Please supply a valid integer value\")\n",
    "else: \n",
    "    print(e)"
   ]
  },
  {
   "cell_type": "code",
   "execution_count": 10,
   "id": "00dde76b",
   "metadata": {
    "id": "00dde76b",
    "outputId": "887907b3-f7e3-4cd2-f5ac-f8a43ca6600f"
   },
   "outputs": [
    {
     "name": "stdout",
     "output_type": "stream",
     "text": [
      "Enter a number2\n",
      "Enter a number3\n",
      "Code ahead... 3\n"
     ]
    }
   ],
   "source": [
    "aa=[2,3]\n",
    "try:\n",
    "    a =int(input(\"Enter a number\"))\n",
    "    b =int(input(\"Enter a number\"))\n",
    "    c = a/b\n",
    "    s = aa[1]\n",
    "    # value error\n",
    "    # zeero div\n",
    "except ZeroDivisionError:\n",
    "    print(\"Zeero Division Error generated and caught\")\n",
    "except ValueError:\n",
    "    print('Value error generated and caught')\n",
    "except IndexError:\n",
    "    print(\"You have a short list\")\n",
    "\n",
    "else:\n",
    "    print(\"Code ahead...\", s)"
   ]
  },
  {
   "cell_type": "code",
   "execution_count": null,
   "id": "509cd2ad",
   "metadata": {
    "id": "509cd2ad",
    "outputId": "8005ce01-cb51-4104-bb8c-edf1dbcdb6c7"
   },
   "outputs": [
    {
     "name": "stdout",
     "output_type": "stream",
     "text": [
      "Enter a number5\n",
      "Enter a number0\n",
      "Handled ZeroDivisionError\n",
      "hello\n"
     ]
    }
   ],
   "source": [
    "a =int(input(\"Enter a number\"))\n",
    "b =int(input(\"Enter a number\"))\n",
    "try:\n",
    "    c = a/b\n",
    "except ZeroDivisionError:\n",
    "    print(\"Handled ZeroDivisionError\")\n",
    "else:\n",
    "    print(\"Else \" +str(c))\n",
    "print(\"hello\")"
   ]
  },
  {
   "cell_type": "code",
   "execution_count": null,
   "id": "86e116c0",
   "metadata": {
    "id": "86e116c0",
    "outputId": "d05a1c5c-b489-41e5-b5c4-b0da1bcef75d"
   },
   "outputs": [
    {
     "name": "stdout",
     "output_type": "stream",
     "text": [
      "First\n",
      "Enter a number5\n",
      "Enter a number4\n",
      "Enter a index2\n",
      "1.25 3\n"
     ]
    }
   ],
   "source": [
    "print(\"First\")\n",
    "d = [1,2,3,4,5,6,7,9]\n",
    "try:\n",
    "    a =int(input(\"Enter a number\"))\n",
    "    b =int(input(\"Enter a number\"))\n",
    "    index = int(input(\"Enter a index\"))\n",
    "    c = a/b\n",
    "    e = d[index]\n",
    "except ZeroDivisionError:\n",
    "    print(\"Handled ZeroDivisionError\")\n",
    "except ValueError:\n",
    "    print(\"Value eror reported\")\n",
    "except IndexError:\n",
    "    print(\"INdex error reported\")\n",
    "except:\n",
    "    print(\"Caught\")\n",
    "else:\n",
    "    print(c, e )"
   ]
  },
  {
   "cell_type": "code",
   "execution_count": null,
   "id": "0150fc7e",
   "metadata": {
    "id": "0150fc7e",
    "outputId": "b6bc121c-ea7d-4d50-b065-8e899f3621e1"
   },
   "outputs": [
    {
     "name": "stdout",
     "output_type": "stream",
     "text": [
      "Enter a number5\n",
      "Enter a number4\n",
      "Exception is caught\n"
     ]
    }
   ],
   "source": [
    "d = []\n",
    "try:\n",
    "    a =int(input(\"Enter a number\")) # to except null value and value tpye errors\n",
    "    b =int(input(\"Enter a number\")) # we kept these inputs also in try block\n",
    "    c = a/b\n",
    "    e = d\n",
    "except:           # here we did not explain the type of exception. Genral exception will\n",
    "                  # be used. means it will catch every kind of exception\n",
    "    print(\"Exception is caught\")\n",
    "else:\n",
    "    print(c)\n"
   ]
  },
  {
   "cell_type": "code",
   "execution_count": 11,
   "id": "e2553549",
   "metadata": {
    "id": "e2553549",
    "outputId": "f7cf9004-7cb7-4f17-ad87-63d903095052"
   },
   "outputs": [
    {
     "name": "stdout",
     "output_type": "stream",
     "text": [
      "Enter a number3\n",
      "Enter a numberq\n",
      "Handle Error == invalid literal for int() with base 10: 'q'\n",
      "HelloWorld\n"
     ]
    }
   ],
   "source": [
    "d = []\n",
    "try:\n",
    "    a =int(input(\"Enter a number\"))\n",
    "    b =int(input(\"Enter a number\"))\n",
    "    '''built in message print karna hy exception ka to {except Exception as e:}\n",
    "    is me jistrah ki acception aegi wo uska message khud he utha k laega or print karega\n",
    "    is code ko khud se run kare or exception raise kar k dekhen'''\n",
    "    c = a/b\n",
    "    ee = d[5]\n",
    "except Exception as e:# handler>>> e >>handler object of exception class\n",
    "    print(\"Handle Error == \" +str(e))\n",
    "else:\n",
    "    print(c)\n",
    "\n",
    "print('HelloWorld')"
   ]
  },
  {
   "cell_type": "code",
   "execution_count": null,
   "id": "227c8b7f",
   "metadata": {
    "id": "227c8b7f",
    "outputId": "ce6934d1-44b6-413b-c1cc-3112f05255a9"
   },
   "outputs": [
    {
     "ename": "SyntaxError",
     "evalue": "invalid syntax (<ipython-input-52-f2cea29677b5>, line 16)",
     "output_type": "error",
     "traceback": [
      "\u001b[1;36m  File \u001b[1;32m\"<ipython-input-52-f2cea29677b5>\"\u001b[1;36m, line \u001b[1;32m16\u001b[0m\n\u001b[1;33m    finally:\u001b[0m\n\u001b[1;37m          ^\u001b[0m\n\u001b[1;31mSyntaxError\u001b[0m\u001b[1;31m:\u001b[0m invalid syntax\n"
     ]
    }
   ],
   "source": [
    "d = []\n",
    "try:\n",
    "    a =int(input(\"Enter a number\"))\n",
    "    b =int(input(\"Enter a number\"))\n",
    "    c = a/b\n",
    "    e = d[5]\n",
    "except ZeroDivisionError:\n",
    "\n",
    "    print(\"Handel ZeroDivisionError\")\n",
    "\n",
    "else:\n",
    "    print(c)\n",
    "\n",
    "\n",
    "finally:\n",
    "    print(\"Finally will always run\")\n",
    "finally:\n",
    "    print(\"I am also finally\")"
   ]
  },
  {
   "cell_type": "code",
   "execution_count": null,
   "id": "e534eafb",
   "metadata": {
    "id": "e534eafb",
    "outputId": "c295c936-5e90-4c38-e7b3-26a21fee93e9"
   },
   "outputs": [
    {
     "name": "stdout",
     "output_type": "stream",
     "text": [
      "Enter num1\n",
      "[1]\n",
      "Enter num2\n",
      "[1, 2]\n",
      "Enter num3\n",
      "[1, 2, 3]\n",
      "Enter num4\n",
      "[1, 2, 3, 4]\n",
      "Enter num10\n",
      "[1, 2, 3, 4, 10]\n",
      "Enter numds\n",
      "Error\n",
      "[1, 2, 3, 4, 10]\n",
      "Enter num\n",
      "Error\n",
      "[1, 2, 3, 4, 10]\n",
      "Enter num\n",
      "Error\n",
      "[1, 2, 3, 4, 10]\n",
      "Enter num\n",
      "Error\n",
      "[1, 2, 3, 4, 10]\n",
      "Enter num\n",
      "Error\n",
      "[1, 2, 3, 4, 10]\n"
     ]
    }
   ],
   "source": [
    "lst = []\n",
    "for a in range(10):\n",
    "    try:\n",
    "        num = int(input(\"Enter num\"))\n",
    "        # 10\n",
    "        lst.append(num)\n",
    "    except:\n",
    "        print(\"Error\")\n",
    "    finally:\n",
    "        print(lst)"
   ]
  },
  {
   "cell_type": "markdown",
   "id": "1dc0e6db",
   "metadata": {
    "id": "1dc0e6db"
   },
   "source": [
    "# Rasing our own exceptions\n",
    "\n",
    "We can rasie exception by ourselves. ony any condition we defined like if a>10 raise exception\n",
    "like if user inputs value 10 raise exception bla bla bla bla......"
   ]
  },
  {
   "cell_type": "code",
   "execution_count": null,
   "id": "4e70a31e",
   "metadata": {
    "id": "4e70a31e"
   },
   "outputs": [],
   "source": [
    "class Student():\n",
    "    def __init__(self,name,age):\n",
    "        if age > 80 or age <16:\n",
    "            raise Exception(\"Age can not be greater then 80 and less then 16\")\n",
    "        self.name = name\n",
    "        self.age = age"
   ]
  },
  {
   "cell_type": "code",
   "execution_count": null,
   "id": "0a528f3d",
   "metadata": {
    "id": "0a528f3d",
    "outputId": "b9576a1a-c897-4fc9-90c5-46ca1acb18cc"
   },
   "outputs": [
    {
     "name": "stdout",
     "output_type": "stream",
     "text": [
      "Enter students age: 100\n"
     ]
    },
    {
     "ename": "Exception",
     "evalue": "Age can not be greater then 80 and less then 16",
     "output_type": "error",
     "traceback": [
      "\u001b[1;31m---------------------------------------\u001b[0m",
      "\u001b[1;31mException\u001b[0mTraceback (most recent call last)",
      "\u001b[1;32m<ipython-input-5-e9489b4176a9>\u001b[0m in \u001b[0;36m<module>\u001b[1;34m\u001b[0m\n\u001b[0;32m      1\u001b[0m \u001b[0mage\u001b[0m \u001b[1;33m=\u001b[0m \u001b[0mint\u001b[0m\u001b[1;33m(\u001b[0m\u001b[0minput\u001b[0m\u001b[1;33m(\u001b[0m\u001b[1;34m\"Enter students age: \"\u001b[0m\u001b[1;33m)\u001b[0m\u001b[1;33m)\u001b[0m\u001b[1;33m\u001b[0m\u001b[1;33m\u001b[0m\u001b[0m\n\u001b[0;32m      2\u001b[0m \u001b[1;33m\u001b[0m\u001b[0m\n\u001b[1;32m----> 3\u001b[1;33m \u001b[0mst\u001b[0m \u001b[1;33m=\u001b[0m \u001b[0mStudent\u001b[0m\u001b[1;33m(\u001b[0m\u001b[1;34m\"Nasir\"\u001b[0m\u001b[1;33m,\u001b[0m\u001b[0mage\u001b[0m\u001b[1;33m)\u001b[0m\u001b[1;33m\u001b[0m\u001b[1;33m\u001b[0m\u001b[0m\n\u001b[0m\u001b[0;32m      4\u001b[0m \u001b[1;33m\u001b[0m\u001b[0m\n\u001b[0;32m      5\u001b[0m \u001b[0mprint\u001b[0m\u001b[1;33m(\u001b[0m\u001b[0mst\u001b[0m\u001b[1;33m.\u001b[0m\u001b[0mage\u001b[0m\u001b[1;33m)\u001b[0m\u001b[1;33m\u001b[0m\u001b[1;33m\u001b[0m\u001b[0m\n",
      "\u001b[1;32m<ipython-input-2-b067c15d8f3e>\u001b[0m in \u001b[0;36m__init__\u001b[1;34m(self, name, age)\u001b[0m\n\u001b[0;32m      2\u001b[0m     \u001b[1;32mdef\u001b[0m \u001b[0m__init__\u001b[0m\u001b[1;33m(\u001b[0m\u001b[0mself\u001b[0m\u001b[1;33m,\u001b[0m\u001b[0mname\u001b[0m\u001b[1;33m,\u001b[0m\u001b[0mage\u001b[0m\u001b[1;33m)\u001b[0m\u001b[1;33m:\u001b[0m\u001b[1;33m\u001b[0m\u001b[1;33m\u001b[0m\u001b[0m\n\u001b[0;32m      3\u001b[0m         \u001b[1;32mif\u001b[0m \u001b[0mage\u001b[0m \u001b[1;33m>\u001b[0m \u001b[1;36m80\u001b[0m \u001b[1;32mor\u001b[0m \u001b[0mage\u001b[0m \u001b[1;33m<\u001b[0m\u001b[1;36m16\u001b[0m\u001b[1;33m:\u001b[0m\u001b[1;33m\u001b[0m\u001b[1;33m\u001b[0m\u001b[0m\n\u001b[1;32m----> 4\u001b[1;33m             \u001b[1;32mraise\u001b[0m \u001b[0mException\u001b[0m\u001b[1;33m(\u001b[0m\u001b[1;34m\"Age can not be greater then 80 and less then 16\"\u001b[0m\u001b[1;33m)\u001b[0m\u001b[1;33m\u001b[0m\u001b[1;33m\u001b[0m\u001b[0m\n\u001b[0m\u001b[0;32m      5\u001b[0m         \u001b[0mself\u001b[0m\u001b[1;33m.\u001b[0m\u001b[0mname\u001b[0m \u001b[1;33m=\u001b[0m \u001b[0mname\u001b[0m\u001b[1;33m\u001b[0m\u001b[1;33m\u001b[0m\u001b[0m\n\u001b[0;32m      6\u001b[0m         \u001b[0mself\u001b[0m\u001b[1;33m.\u001b[0m\u001b[0mage\u001b[0m \u001b[1;33m=\u001b[0m \u001b[0mage\u001b[0m\u001b[1;33m\u001b[0m\u001b[1;33m\u001b[0m\u001b[0m\n",
      "\u001b[1;31mException\u001b[0m: Age can not be greater then 80 and less then 16"
     ]
    }
   ],
   "source": [
    "age = int(input(\"Enter students age: \"))\n",
    "\n",
    "st = Student(\"Nasir\",age)\n",
    "\n",
    "print(st.age)\n"
   ]
  },
  {
   "cell_type": "code",
   "execution_count": null,
   "id": "e16e88ae",
   "metadata": {
    "id": "e16e88ae",
    "outputId": "448f525b-431d-44b0-9f0d-1529d098e5a9"
   },
   "outputs": [
    {
     "name": "stdout",
     "output_type": "stream",
     "text": [
      "Enter students age: 15\n",
      "Exception Age can not be greater then 80 or less than 16\n"
     ]
    }
   ],
   "source": [
    "class Student():\n",
    "    def __init__(self,name,age):\n",
    "        if age > 80 or age<16:\n",
    "            raise Exception(\"Age can not be greater then 80 or less than 16\")\n",
    "        self.name = name\n",
    "        self.age = age\n",
    "\n",
    "\n",
    "'''ab humen try except laga diya hy code crash nahi hoga '''\n",
    "try:\n",
    "    age = int(input(\"Enter students age: \"))\n",
    "    st = Student(\"Hello\",age)   # send different ages and see the result\n",
    "except Exception as e:\n",
    "    print(\"Exception \"+str(e))\n",
    "else :\n",
    "    print(st.age)\n",
    "\n"
   ]
  },
  {
   "cell_type": "markdown",
   "id": "7fb2c99e",
   "metadata": {
    "id": "7fb2c99e"
   },
   "source": [
    "# File Handling"
   ]
  },
  {
   "cell_type": "markdown",
   "id": "fc23430a",
   "metadata": {
    "id": "fc23430a"
   },
   "source": [
    "Read mode: file must be present on the location\n",
    "Open must be closed in every mode"
   ]
  },
  {
   "cell_type": "code",
   "execution_count": 12,
   "id": "97873058",
   "metadata": {
    "id": "97873058",
    "outputId": "027b6f4d-59ab-4e39-d311-047952d38085"
   },
   "outputs": [
    {
     "name": "stdout",
     "output_type": "stream",
     "text": [
      "The file you are looking for is not at location\n"
     ]
    },
    {
     "ename": "NameError",
     "evalue": "name 'f' is not defined",
     "output_type": "error",
     "traceback": [
      "\u001b[1;31m---------------------------------------------------------------------------\u001b[0m",
      "\u001b[1;31mNameError\u001b[0m                                 Traceback (most recent call last)",
      "\u001b[1;32m~\\AppData\\Local\\Temp\\ipykernel_4680\\1245227329.py\u001b[0m in \u001b[0;36m<module>\u001b[1;34m\u001b[0m\n\u001b[0;32m      6\u001b[0m     \u001b[0mprint\u001b[0m\u001b[1;33m(\u001b[0m\u001b[1;34m\"The file you are looking for is not at location\"\u001b[0m\u001b[1;33m)\u001b[0m\u001b[1;33m\u001b[0m\u001b[1;33m\u001b[0m\u001b[0m\n\u001b[0;32m      7\u001b[0m \u001b[1;32mfinally\u001b[0m\u001b[1;33m:\u001b[0m\u001b[1;33m\u001b[0m\u001b[1;33m\u001b[0m\u001b[0m\n\u001b[1;32m----> 8\u001b[1;33m     \u001b[0mf\u001b[0m\u001b[1;33m.\u001b[0m\u001b[0mclose\u001b[0m\u001b[1;33m(\u001b[0m\u001b[1;33m)\u001b[0m\u001b[1;33m\u001b[0m\u001b[1;33m\u001b[0m\u001b[0m\n\u001b[0m",
      "\u001b[1;31mNameError\u001b[0m: name 'f' is not defined"
     ]
    }
   ],
   "source": [
    "\n",
    "try:\n",
    "    f = open(\"questions.txt\",'r')  # f is handler\n",
    "    print(f.read())\n",
    "\n",
    "except FileNotFoundError:\n",
    "    print(\"The file you are looking for is not at location\")\n",
    "finally:\n",
    "    f.close()\n"
   ]
  },
  {
   "cell_type": "markdown",
   "id": "df78005b",
   "metadata": {
    "id": "df78005b"
   },
   "source": [
    "Write mode :\n",
    " if i write in existing file. It will override all prevoius data.\n",
    " if in writing mode i try to write in non existing, it will first create file and then write in it."
   ]
  },
  {
   "cell_type": "code",
   "execution_count": null,
   "id": "d0b4e7e7",
   "metadata": {
    "id": "d0b4e7e7"
   },
   "outputs": [],
   "source": [
    "# context manager\n",
    "with open(\"G:/Misc/myfile.txt\", 'w') as f:\n",
    "    f.write(\"Hello welcome to my file \\n\")\n",
    "    f.write(\"Hello welcome to my file\\n\")\n",
    "    f.write(\"Hello welcome to my file\\n\")\n",
    "    f.write(\"Hello welcome to my file\\n\")\n",
    "    f.write(\"Hello welcome to my file\")\n",
    "\n",
    "# context manager closes file iteself as soon as indent gets out."
   ]
  },
  {
   "cell_type": "code",
   "execution_count": null,
   "id": "194a2cc2",
   "metadata": {
    "id": "194a2cc2",
    "outputId": "55c44c55-ac1c-4b9b-dfa3-61ad2e832ecf"
   },
   "outputs": [
    {
     "name": "stdout",
     "output_type": "stream",
     "text": [
      "Hello welcome to my file \n",
      "Hello welcome to my file\n",
      "Hello welcome to my file\n",
      "Hello welcome to my file\n",
      "Hello welcome to my file\n"
     ]
    }
   ],
   "source": [
    "with open(\"myfile.txt\",'r') as f:\n",
    "    print(f.read())"
   ]
  },
  {
   "cell_type": "code",
   "execution_count": null,
   "id": "d23afde5",
   "metadata": {
    "id": "d23afde5"
   },
   "outputs": [],
   "source": [
    "with open(\"G:/Misc/myfile.txt\", 'w') as f:\n",
    "    f.write(\"Now i have written in existing file \\nso prev data is gone\")\n",
    "\n"
   ]
  },
  {
   "cell_type": "code",
   "execution_count": null,
   "id": "8aa3b9ff",
   "metadata": {
    "id": "8aa3b9ff"
   },
   "outputs": [],
   "source": [
    "with open(\"myfile.txt\", \"a\") as f:\n",
    "    f.write(\"\\nHllo this is append mode  \")"
   ]
  },
  {
   "cell_type": "raw",
   "id": "5979435a",
   "metadata": {
    "id": "5979435a"
   },
   "source": [
    "r+ >>>> read and write both >> file must be needed it will crrate file itself if not present\n",
    "w+ >>>>> read and write both >>file must be present"
   ]
  },
  {
   "cell_type": "code",
   "execution_count": null,
   "id": "fdc84ddc",
   "metadata": {
    "id": "fdc84ddc"
   },
   "outputs": [],
   "source": []
  }
 ],
 "metadata": {
  "colab": {
   "provenance": []
  },
  "kernelspec": {
   "display_name": "Python 3 (ipykernel)",
   "language": "python",
   "name": "python3"
  },
  "language_info": {
   "codemirror_mode": {
    "name": "ipython",
    "version": 3
   },
   "file_extension": ".py",
   "mimetype": "text/x-python",
   "name": "python",
   "nbconvert_exporter": "python",
   "pygments_lexer": "ipython3",
   "version": "3.9.13"
  }
 },
 "nbformat": 4,
 "nbformat_minor": 5
}
