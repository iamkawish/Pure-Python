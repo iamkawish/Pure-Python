{
 "cells": [
  {
   "cell_type": "raw",
   "id": "a2d3c863",
   "metadata": {},
   "source": [
    "# Function\n",
    "built in\n",
    "user defined"
   ]
  },
  {
   "cell_type": "markdown",
   "id": "8ceec7ba",
   "metadata": {},
   "source": [
    "# Built in"
   ]
  },
  {
   "cell_type": "code",
   "execution_count": 3,
   "id": "8d73fddf",
   "metadata": {},
   "outputs": [
    {
     "name": "stdout",
     "output_type": "stream",
     "text": [
      "Hello\n"
     ]
    }
   ],
   "source": [
    "print(\"Hello\")"
   ]
  },
  {
   "cell_type": "code",
   "execution_count": 4,
   "id": "63bb40cd",
   "metadata": {},
   "outputs": [
    {
     "data": {
      "text/plain": [
       "7"
      ]
     },
     "execution_count": 4,
     "metadata": {},
     "output_type": "execute_result"
    }
   ],
   "source": [
    "len(\"Hellwww\")"
   ]
  },
  {
   "cell_type": "raw",
   "id": "b7203352",
   "metadata": {},
   "source": [
    "What is a function?\n",
    " Advantage : ---------> Code Reusability\n",
    "                        code simplicity\n",
    "                        Bug Resolving\n",
    "                        \n",
    " \n"
   ]
  },
  {
   "cell_type": "code",
   "execution_count": 5,
   "id": "6220fb8e",
   "metadata": {},
   "outputs": [],
   "source": [
    "# function defined\n",
    "# function Call\n",
    "# Result\n"
   ]
  },
  {
   "cell_type": "raw",
   "id": "bc14535c",
   "metadata": {},
   "source": [
    "# Defining a function"
   ]
  },
  {
   "cell_type": "code",
   "execution_count": 8,
   "id": "c1603f1c",
   "metadata": {},
   "outputs": [],
   "source": [
    "def function_name():\n",
    "    #function_body\n",
    "    #function_body\n",
    "    #function_body\n",
    "    #function_body\n",
    "    print(\"I am body of my Function\")"
   ]
  },
  {
   "cell_type": "code",
   "execution_count": 10,
   "id": "daed609b",
   "metadata": {},
   "outputs": [
    {
     "name": "stdout",
     "output_type": "stream",
     "text": [
      "I am body of my Function\n"
     ]
    }
   ],
   "source": [
    "function_name()"
   ]
  },
  {
   "cell_type": "code",
   "execution_count": 14,
   "id": "bfe308ac",
   "metadata": {},
   "outputs": [],
   "source": [
    "# parameterLess Function\n",
    "def greetUser():\n",
    "    print(\"Welcome\")"
   ]
  },
  {
   "cell_type": "code",
   "execution_count": 15,
   "id": "98f96cf2",
   "metadata": {},
   "outputs": [
    {
     "name": "stdout",
     "output_type": "stream",
     "text": [
      "Welcome\n"
     ]
    }
   ],
   "source": [
    "greetUser()"
   ]
  },
  {
   "cell_type": "raw",
   "id": "d41f2335",
   "metadata": {},
   "source": [
    "# Parameter & Arguments\n",
    "- Parameter are exoerted values given form user\n",
    "- Argument are values that user supplies to function\n"
   ]
  },
  {
   "cell_type": "code",
   "execution_count": 13,
   "id": "3f1ff746",
   "metadata": {},
   "outputs": [],
   "source": [
    "# parameterize Function\n",
    "def greetUser(userName): # Parameter\n",
    "    print(f\"Welcome {userName}\")"
   ]
  },
  {
   "cell_type": "code",
   "execution_count": 13,
   "id": "0fc2adbc",
   "metadata": {},
   "outputs": [
    {
     "name": "stdout",
     "output_type": "stream",
     "text": [
      "Welcome Mr.Bean\n"
     ]
    }
   ],
   "source": [
    "greetUser(\"Mr.Bean\")"
   ]
  },
  {
   "cell_type": "code",
   "execution_count": 20,
   "id": "0dfe01f7",
   "metadata": {},
   "outputs": [],
   "source": [
    "def bio_data(Name,age,gender,Nationality,emailId,*Contact):\n",
    "    print(f\"\"\"\n",
    "          BIO DATA\n",
    "          _________\n",
    "          Name of Student:{Name}\n",
    "          Age of Student: {age}\n",
    "          Gender:{gender}\n",
    "          Nationality:{Nationality}\n",
    "          Email Address: {emailId}\n",
    "          Contact No: {Contact}\"\"\")"
   ]
  },
  {
   "cell_type": "code",
   "execution_count": 21,
   "id": "a14c08c1",
   "metadata": {},
   "outputs": [
    {
     "name": "stdout",
     "output_type": "stream",
     "text": [
      "\n",
      "          BIO DATA\n",
      "          _________\n",
      "          Name of Student:Kawish\n",
      "          Age of Student: 22\n",
      "          Gender:Male\n",
      "          Nationality:Pakistani\n",
      "          Email Address: iamkawishakber@gmail.com\n",
      "          Contact No: ('03491253236', '0238475737456')\n"
     ]
    }
   ],
   "source": [
    "# Positional Argument\n",
    "bio_data(\"Kawish\",22,\"Male\",\"Pakistani\",\"iamkawishakber@gmail.com\",\"03491253236\",'0238475737456')"
   ]
  },
  {
   "cell_type": "code",
   "execution_count": 19,
   "id": "26807d3a",
   "metadata": {},
   "outputs": [
    {
     "name": "stdout",
     "output_type": "stream",
     "text": [
      "\n",
      "          BIO DATA\n",
      "          _________\n",
      "          Name of Student:Arsal\n",
      "          Age of Student: 22\n",
      "          Gender:Male\n",
      "          Nationality:Afghani\n",
      "          Email Address: imarsaliqal@gmail.com\n",
      "          Contact No: 234566\n"
     ]
    }
   ],
   "source": [
    "bio_data('Arsal',22,'Male','Afghani','imarsaliqal@gmail.com',234566)"
   ]
  },
  {
   "cell_type": "code",
   "execution_count": 43,
   "id": "ac9fc787",
   "metadata": {},
   "outputs": [],
   "source": [
    "def fullName(F_name,L_name,age):\n",
    "    return F_name,L_name,age\n",
    "    #print(f\"{F_name} {L_name} {age}\")"
   ]
  },
  {
   "cell_type": "code",
   "execution_count": 44,
   "id": "dbbfc407",
   "metadata": {},
   "outputs": [],
   "source": [
    "#fullName(\"kawish\" ,\" Akber\")"
   ]
  },
  {
   "cell_type": "code",
   "execution_count": 45,
   "id": "ba4e2639",
   "metadata": {},
   "outputs": [
    {
     "data": {
      "text/plain": [
       "(23, 'Kawish', 'Akber')"
      ]
     },
     "execution_count": 45,
     "metadata": {},
     "output_type": "execute_result"
    }
   ],
   "source": [
    "# keyword Arguments\n",
    "fullName(23,'Kawish','Akber')"
   ]
  },
  {
   "cell_type": "code",
   "execution_count": 46,
   "id": "6ba98d00",
   "metadata": {},
   "outputs": [],
   "source": [
    "def AreaOfTraingle(l,b):\n",
    "    area = 0.5*l*b\n",
    "    print(f\"Area of Triangle is {area} sq.cm\")"
   ]
  },
  {
   "cell_type": "code",
   "execution_count": 47,
   "id": "d812cd5e",
   "metadata": {},
   "outputs": [
    {
     "name": "stdout",
     "output_type": "stream",
     "text": [
      "Area of Triangle is 50.0 sq.cm\n"
     ]
    }
   ],
   "source": [
    "AreaOfTraingle(10,10)"
   ]
  },
  {
   "cell_type": "code",
   "execution_count": 21,
   "id": "06de9305",
   "metadata": {},
   "outputs": [
    {
     "name": "stdout",
     "output_type": "stream",
     "text": [
      "Area of Triangle is 8.0 sq.cm\n"
     ]
    }
   ],
   "source": [
    "AreaOfTraingle(2,8)"
   ]
  },
  {
   "cell_type": "code",
   "execution_count": 78,
   "id": "cdb2f719",
   "metadata": {},
   "outputs": [],
   "source": [
    "def taxCalculator(income):\n",
    "    tax_amount=0\n",
    "    if income >= 1000000:\n",
    "        tax_per=20\n",
    "        tax_amount=income*.20\n",
    "        return tax_amount\n",
    "    elif income >= 500000:\n",
    "        tax_per=10\n",
    "        tax_amount=income*.10\n",
    "        return tax_amount\n",
    "        \n",
    "    elif income >= 250000:\n",
    "        tax_per=5\n",
    "        tax_amount=income*.05\n",
    "        return tax_amount\n",
    "        \n",
    "    else:\n",
    "        tax_amount= income*0\n",
    "        return tax_amount\n",
    "        \n",
    "       \n",
    "         "
   ]
  },
  {
   "cell_type": "code",
   "execution_count": 51,
   "id": "0a4ee200",
   "metadata": {},
   "outputs": [
    {
     "data": {
      "text/plain": [
       "12500.0"
      ]
     },
     "execution_count": 51,
     "metadata": {},
     "output_type": "execute_result"
    }
   ],
   "source": [
    "taxCalculator(250000)"
   ]
  },
  {
   "cell_type": "code",
   "execution_count": 52,
   "id": "6f8b73fd",
   "metadata": {},
   "outputs": [
    {
     "data": {
      "text/plain": [
       "50000.0"
      ]
     },
     "execution_count": 52,
     "metadata": {},
     "output_type": "execute_result"
    }
   ],
   "source": [
    "taxCalculator(500000)"
   ]
  },
  {
   "cell_type": "code",
   "execution_count": 67,
   "id": "5a005e0b",
   "metadata": {},
   "outputs": [
    {
     "data": {
      "text/plain": [
       "400000.0"
      ]
     },
     "execution_count": 67,
     "metadata": {},
     "output_type": "execute_result"
    }
   ],
   "source": [
    "taxCalculator(2000000)\n"
   ]
  },
  {
   "cell_type": "code",
   "execution_count": 79,
   "id": "3bd8b4c5",
   "metadata": {},
   "outputs": [],
   "source": [
    "def grossSalery(salary,tax):\n",
    "    gross= salary-tax\n",
    "    print(f\"Gross Salary is {gross}\")\n",
    "    "
   ]
  },
  {
   "cell_type": "code",
   "execution_count": 85,
   "id": "f2c9ff2c",
   "metadata": {},
   "outputs": [
    {
     "name": "stdout",
     "output_type": "stream",
     "text": [
      "Gross Salary is 630000.0\n"
     ]
    }
   ],
   "source": [
    "grossSalery(700000,taxCalculator(700000))"
   ]
  },
  {
   "cell_type": "markdown",
   "id": "2f5e6e72",
   "metadata": {},
   "source": [
    "### Local Variable and Global Variable \n",
    "- Local variable : All the variables defined inside a function body are local and can not be accessed out side the function\n",
    "- Global Variable: All the variables defined outside a function body are global and can be accessed outside as well as inside the function body"
   ]
  },
  {
   "cell_type": "code",
   "execution_count": 33,
   "id": "6b9f5a1f",
   "metadata": {},
   "outputs": [],
   "source": [
    "def abc():\n",
    "    print(\"i am abc\")\n",
    "    a=1000  # Local variable\n",
    "    print(a) # local variable accessed inside the function body"
   ]
  },
  {
   "cell_type": "code",
   "execution_count": 34,
   "id": "4df4b217",
   "metadata": {},
   "outputs": [
    {
     "name": "stdout",
     "output_type": "stream",
     "text": [
      "i am abc\n",
      "1000\n"
     ]
    }
   ],
   "source": [
    "abc()"
   ]
  },
  {
   "cell_type": "code",
   "execution_count": 35,
   "id": "4b48ec77",
   "metadata": {},
   "outputs": [
    {
     "ename": "NameError",
     "evalue": "name 'a' is not defined",
     "output_type": "error",
     "traceback": [
      "\u001b[1;31m---------------------------------------------------------------------------\u001b[0m",
      "\u001b[1;31mNameError\u001b[0m                                 Traceback (most recent call last)",
      "\u001b[1;32m~\\AppData\\Local\\Temp\\ipykernel_7484\\965566655.py\u001b[0m in \u001b[0;36m<module>\u001b[1;34m\u001b[0m\n\u001b[1;32m----> 1\u001b[1;33m \u001b[0mprint\u001b[0m\u001b[1;33m(\u001b[0m\u001b[0ma\u001b[0m\u001b[1;33m)\u001b[0m \u001b[1;31m# local variable accessed out side the function body  >> error\u001b[0m\u001b[1;33m\u001b[0m\u001b[1;33m\u001b[0m\u001b[0m\n\u001b[0m",
      "\u001b[1;31mNameError\u001b[0m: name 'a' is not defined"
     ]
    }
   ],
   "source": [
    "print(a) # local variable accessed out side the function body  >> error"
   ]
  },
  {
   "cell_type": "code",
   "execution_count": 36,
   "id": "0656f71d",
   "metadata": {},
   "outputs": [],
   "source": [
    "gloabalvariable=\"I am Global \"\n",
    "def abc():\n",
    "    print(\"I am abc\")\n",
    "    print(gloabalvariable)"
   ]
  },
  {
   "cell_type": "code",
   "execution_count": 37,
   "id": "9139c17e",
   "metadata": {},
   "outputs": [
    {
     "name": "stdout",
     "output_type": "stream",
     "text": [
      "I am abc\n",
      "I am Global \n"
     ]
    }
   ],
   "source": [
    "abc()"
   ]
  },
  {
   "cell_type": "code",
   "execution_count": 38,
   "id": "4b6b7379",
   "metadata": {},
   "outputs": [
    {
     "data": {
      "text/plain": [
       "'I am Global '"
      ]
     },
     "execution_count": 38,
     "metadata": {},
     "output_type": "execute_result"
    }
   ],
   "source": [
    "gloabalvariable"
   ]
  },
  {
   "cell_type": "code",
   "execution_count": 2,
   "id": "ab4582c9",
   "metadata": {},
   "outputs": [],
   "source": [
    "h=20\n",
    "def xyz():\n",
    "    global h\n",
    "    h=10\n",
    "    h+=1\n",
    "    print(h)"
   ]
  },
  {
   "cell_type": "code",
   "execution_count": 39,
   "id": "8878de73",
   "metadata": {},
   "outputs": [
    {
     "name": "stdout",
     "output_type": "stream",
     "text": [
      "11\n"
     ]
    }
   ],
   "source": [
    "xyz()"
   ]
  },
  {
   "cell_type": "code",
   "execution_count": 40,
   "id": "6a6e42be",
   "metadata": {},
   "outputs": [
    {
     "data": {
      "text/plain": [
       "11"
      ]
     },
     "execution_count": 40,
     "metadata": {},
     "output_type": "execute_result"
    }
   ],
   "source": [
    "h"
   ]
  },
  {
   "cell_type": "code",
   "execution_count": 41,
   "id": "60118829",
   "metadata": {},
   "outputs": [],
   "source": [
    "def add(num1,num2):\n",
    "    return num1+num2"
   ]
  },
  {
   "cell_type": "code",
   "execution_count": 42,
   "id": "db1188b1",
   "metadata": {},
   "outputs": [
    {
     "data": {
      "text/plain": [
       "5"
      ]
     },
     "execution_count": 42,
     "metadata": {},
     "output_type": "execute_result"
    }
   ],
   "source": [
    "add(2,3)"
   ]
  },
  {
   "cell_type": "code",
   "execution_count": 44,
   "id": "8d1d76ed",
   "metadata": {},
   "outputs": [
    {
     "data": {
      "text/plain": [
       "9"
      ]
     },
     "execution_count": 44,
     "metadata": {},
     "output_type": "execute_result"
    }
   ],
   "source": [
    "res=add(4,5)\n",
    "res"
   ]
  },
  {
   "cell_type": "code",
   "execution_count": 46,
   "id": "f09a660b",
   "metadata": {},
   "outputs": [
    {
     "name": "stdout",
     "output_type": "stream",
     "text": [
      "This is Returned 13\n"
     ]
    }
   ],
   "source": [
    "print(f\"This is Returned {add(4,9)}\")"
   ]
  },
  {
   "cell_type": "code",
   "execution_count": 51,
   "id": "bc06cd09",
   "metadata": {},
   "outputs": [],
   "source": [
    "def Square_Cube(num):\n",
    "    s= num**2\n",
    "    c=num**3\n",
    "    return s,c"
   ]
  },
  {
   "cell_type": "code",
   "execution_count": 60,
   "id": "63aadec2",
   "metadata": {},
   "outputs": [
    {
     "name": "stdout",
     "output_type": "stream",
     "text": [
      "9\n"
     ]
    }
   ],
   "source": [
    "square,cube = Square_Cube(3)\n",
    "\n"
   ]
  },
  {
   "cell_type": "code",
   "execution_count": 53,
   "id": "242af56c",
   "metadata": {},
   "outputs": [],
   "source": [
    "a=(100,200) # packing"
   ]
  },
  {
   "cell_type": "code",
   "execution_count": 61,
   "id": "f741c24c",
   "metadata": {},
   "outputs": [
    {
     "name": "stdout",
     "output_type": "stream",
     "text": [
      "9\n"
     ]
    }
   ],
   "source": [
    "print(square)"
   ]
  },
  {
   "cell_type": "code",
   "execution_count": 62,
   "id": "10ca8c2b",
   "metadata": {},
   "outputs": [
    {
     "name": "stdout",
     "output_type": "stream",
     "text": [
      "27\n"
     ]
    }
   ],
   "source": [
    "print(cube)"
   ]
  },
  {
   "cell_type": "markdown",
   "id": "60a54e77",
   "metadata": {},
   "source": [
    "# Defualt Value"
   ]
  },
  {
   "cell_type": "code",
   "execution_count": 63,
   "id": "69b180c7",
   "metadata": {},
   "outputs": [
    {
     "name": "stdout",
     "output_type": "stream",
     "text": [
      "Nasir\n"
     ]
    }
   ],
   "source": [
    "print(\"Nasir\")"
   ]
  },
  {
   "cell_type": "code",
   "execution_count": 66,
   "id": "1f65affb",
   "metadata": {},
   "outputs": [],
   "source": [
    "def salaryCalc(basic,commision=1200):   # defualt value must be last parameter\n",
    "    total = basic + commision\n",
    "    return total\n",
    "    "
   ]
  },
  {
   "cell_type": "code",
   "execution_count": 67,
   "id": "929dc7c9",
   "metadata": {},
   "outputs": [
    {
     "data": {
      "text/plain": [
       "12300"
      ]
     },
     "execution_count": 67,
     "metadata": {},
     "output_type": "execute_result"
    }
   ],
   "source": [
    "salaryCalc(10000,2300)"
   ]
  },
  {
   "cell_type": "code",
   "execution_count": null,
   "id": "c4a64e37",
   "metadata": {},
   "outputs": [],
   "source": []
  }
 ],
 "metadata": {
  "kernelspec": {
   "display_name": "Python 3 (ipykernel)",
   "language": "python",
   "name": "python3"
  },
  "language_info": {
   "codemirror_mode": {
    "name": "ipython",
    "version": 3
   },
   "file_extension": ".py",
   "mimetype": "text/x-python",
   "name": "python",
   "nbconvert_exporter": "python",
   "pygments_lexer": "ipython3",
   "version": "3.9.13"
  }
 },
 "nbformat": 4,
 "nbformat_minor": 5
}
