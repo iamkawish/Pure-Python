{
 "cells": [
  {
   "cell_type": "markdown",
   "id": "f4f71202",
   "metadata": {},
   "source": [
    "# Function Continue"
   ]
  },
  {
   "cell_type": "raw",
   "id": "3b91ada5",
   "metadata": {},
   "source": [
    "Define\n",
    "Call\n",
    "Parameter\n",
    "Argument \n",
    "Return\n",
    "Keyword Argument\n",
    "Default Parameter"
   ]
  },
  {
   "cell_type": "markdown",
   "id": "fe699d37",
   "metadata": {},
   "source": [
    "### Arbitary Number of Arguments"
   ]
  },
  {
   "cell_type": "code",
   "execution_count": 14,
   "id": "0cc22cb4",
   "metadata": {},
   "outputs": [],
   "source": [
    "def user_details(name,email,*other_details):\n",
    "    print(name)\n",
    "    print(email)\n",
    "#     print(other_details)\n",
    "    for val in other_details:\n",
    "        print(val)"
   ]
  },
  {
   "cell_type": "code",
   "execution_count": 15,
   "id": "55e5dc64",
   "metadata": {},
   "outputs": [
    {
     "name": "stdout",
     "output_type": "stream",
     "text": [
      "Kawish\n",
      "iamkawishakber@gmail.com\n",
      "fname\n",
      "contact\n",
      "designation\n"
     ]
    }
   ],
   "source": [
    "user_details(\"Kawish\",\"iamkawishakber@gmail.com\",\"fname\",\"contact\",\"designation\")"
   ]
  },
  {
   "cell_type": "code",
   "execution_count": 16,
   "id": "4cc8309f",
   "metadata": {},
   "outputs": [
    {
     "name": "stdout",
     "output_type": "stream",
     "text": [
      "kawish\n",
      "iamk\n"
     ]
    }
   ],
   "source": [
    "user_details('kawish',\"iamk\")"
   ]
  },
  {
   "cell_type": "markdown",
   "id": "4f55fec2",
   "metadata": {},
   "source": [
    "#### If we are passing Keyword Arguments"
   ]
  },
  {
   "cell_type": "code",
   "execution_count": 17,
   "id": "5ac6038d",
   "metadata": {},
   "outputs": [],
   "source": [
    "def userProfile(first,last,**otherdetails):\n",
    "    print(first)\n",
    "    print(last)\n",
    "#     print(otherdetails)\n",
    "    for k in otherdetails:\n",
    "        print(otherdetails[k])"
   ]
  },
  {
   "cell_type": "code",
   "execution_count": 18,
   "id": "3a397b9b",
   "metadata": {},
   "outputs": [
    {
     "name": "stdout",
     "output_type": "stream",
     "text": [
      "kawish\n",
      "Akber\n",
      "karachi\n",
      "Superior Collage\n"
     ]
    }
   ],
   "source": [
    "userProfile(first=\"kawish\",last=\"Akber\",city=\"karachi\",collage=\"Superior Collage\")"
   ]
  },
  {
   "cell_type": "markdown",
   "id": "5dd42dbf",
   "metadata": {},
   "source": [
    "##### Returning a Dictionary"
   ]
  },
  {
   "cell_type": "code",
   "execution_count": 19,
   "id": "ad940dcd",
   "metadata": {},
   "outputs": [],
   "source": [
    "def userProfile(first,last,**othersdetails):\n",
    "    profile={}\n",
    "    profile['first']=first\n",
    "    profile['last']=last\n",
    "    return profile\n"
   ]
  },
  {
   "cell_type": "code",
   "execution_count": 20,
   "id": "d0ca348c",
   "metadata": {},
   "outputs": [
    {
     "data": {
      "text/plain": [
       "{'first': 'kawish', 'last': 'Akber'}"
      ]
     },
     "execution_count": 20,
     "metadata": {},
     "output_type": "execute_result"
    }
   ],
   "source": [
    "userProfile(first=\"kawish\",last=\"Akber\",age='30',location='Karachi',subject='AI',Class='Sunday')"
   ]
  },
  {
   "cell_type": "code",
   "execution_count": 21,
   "id": "654acde9",
   "metadata": {},
   "outputs": [],
   "source": [
    "def make_album(artistname, album_title):\n",
    "    album={}\n",
    "    album['artist']=artistname\n",
    "    album['title']=album_title\n",
    "    return album"
   ]
  },
  {
   "cell_type": "code",
   "execution_count": 22,
   "id": "7c542b91",
   "metadata": {},
   "outputs": [
    {
     "name": "stdout",
     "output_type": "stream",
     "text": [
      "{'artist': 'artist1', 'title': 'album1'}\n"
     ]
    }
   ],
   "source": [
    "album1=make_album('artist1','album1')\n",
    "print(album1)"
   ]
  },
  {
   "cell_type": "code",
   "execution_count": 23,
   "id": "e6508092",
   "metadata": {},
   "outputs": [
    {
     "name": "stdout",
     "output_type": "stream",
     "text": [
      "{'artist': 'artist2', 'title': 'album2'}\n"
     ]
    }
   ],
   "source": [
    "album2=make_album('artist2', 'album2')\n",
    "print(album2)"
   ]
  },
  {
   "cell_type": "code",
   "execution_count": 24,
   "id": "5fd23de0",
   "metadata": {},
   "outputs": [
    {
     "name": "stdout",
     "output_type": "stream",
     "text": [
      "{'artist': 'artist3', 'title': 'album3'}\n"
     ]
    }
   ],
   "source": [
    "album3=make_album('artist3', 'album3')\n",
    "print(album3)"
   ]
  },
  {
   "cell_type": "code",
   "execution_count": 25,
   "id": "be94d059",
   "metadata": {},
   "outputs": [
    {
     "name": "stdout",
     "output_type": "stream",
     "text": [
      "Hello\n"
     ]
    }
   ],
   "source": [
    "number=1\n",
    "if number:\n",
    "    print('Hello')\n",
    "else:\n",
    "    print('Bye')"
   ]
  },
  {
   "cell_type": "code",
   "execution_count": 26,
   "id": "dcc58e18",
   "metadata": {},
   "outputs": [],
   "source": [
    "def make_album(artistname, album_title,number_of_tracks=None):\n",
    "    album={}\n",
    "    album['artist']=artistname\n",
    "    album['title']=album_title\n",
    "    if number_of_tracks:\n",
    "        album['track']=number_of_tracks\n",
    "    return album"
   ]
  },
  {
   "cell_type": "code",
   "execution_count": 27,
   "id": "55ef40b9",
   "metadata": {},
   "outputs": [
    {
     "data": {
      "text/plain": [
       "{'artist': 'artist', 'title': 'album3', 'track': 23}"
      ]
     },
     "execution_count": 27,
     "metadata": {},
     "output_type": "execute_result"
    }
   ],
   "source": [
    "album4=make_album('artist','album3',23)\n",
    "album4"
   ]
  },
  {
   "cell_type": "code",
   "execution_count": 28,
   "id": "cf57e15a",
   "metadata": {},
   "outputs": [
    {
     "data": {
      "text/plain": [
       "{'artist': 'artist3', 'title': 'album3'}"
      ]
     },
     "execution_count": 28,
     "metadata": {},
     "output_type": "execute_result"
    }
   ],
   "source": [
    "album5=make_album('artist3','album3')\n",
    "album5"
   ]
  },
  {
   "cell_type": "code",
   "execution_count": 29,
   "id": "f618afa2",
   "metadata": {},
   "outputs": [
    {
     "name": "stdout",
     "output_type": "stream",
     "text": [
      "Enter Artist Name:\n",
      "Enter Album Title\n",
      "Enter Number of Track\n"
     ]
    }
   ],
   "source": [
    "while True:\n",
    "    artist_name=input(\"Enter Artist Name:\")\n",
    "    if artist_name=='q':\n",
    "        break\n",
    "    album_title = input(\"Enter Album Title\")\n",
    "    if album_title=='q':\n",
    "        break\n",
    "    number_of_track=input(\"Enter Number of Track\")\n",
    "    if number_of_track.isdigit()==False or number_of_track=='0':\n",
    "        break\n",
    "    else:\n",
    "        number_of_track=int(number_of_track)\n",
    "        print(make_album(artist_name,album_title,number_of_track))\n",
    "    "
   ]
  },
  {
   "cell_type": "markdown",
   "id": "9d49480c",
   "metadata": {},
   "source": [
    "#### What is Git????"
   ]
  },
  {
   "cell_type": "markdown",
   "id": "295a660c",
   "metadata": {},
   "source": [
    " - Version Control System:\n",
    " Cloud (google drive,\n",
    " github \n",
    "     "
   ]
  },
  {
   "cell_type": "code",
   "execution_count": null,
   "id": "03021cd0",
   "metadata": {},
   "outputs": [],
   "source": []
  },
  {
   "cell_type": "code",
   "execution_count": null,
   "id": "e8b18974",
   "metadata": {},
   "outputs": [],
   "source": []
  }
 ],
 "metadata": {
  "kernelspec": {
   "display_name": "Python 3 (ipykernel)",
   "language": "python",
   "name": "python3"
  },
  "language_info": {
   "codemirror_mode": {
    "name": "ipython",
    "version": 3
   },
   "file_extension": ".py",
   "mimetype": "text/x-python",
   "name": "python",
   "nbconvert_exporter": "python",
   "pygments_lexer": "ipython3",
   "version": "3.9.13"
  }
 },
 "nbformat": 4,
 "nbformat_minor": 5
}
