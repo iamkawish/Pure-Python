{
 "cells": [
  {
   "cell_type": "markdown",
   "id": "ec168cdb",
   "metadata": {},
   "source": [
    "# Inheritance"
   ]
  },
  {
   "cell_type": "raw",
   "id": "50e353ef",
   "metadata": {},
   "source": [
    "- Type of Inheritance\n",
    "- Multiple\n",
    "- Multilevel\n",
    "- Single"
   ]
  },
  {
   "cell_type": "code",
   "execution_count": 1,
   "id": "cebec07d",
   "metadata": {},
   "outputs": [],
   "source": [
    "class Car():\n",
    "    def __init__(self,brand,model,transmission,engine):\n",
    "        self.car_brand=brand\n",
    "        self.car_model=model\n",
    "        self.car_transmission=transmission\n",
    "        self.car_engine=engine\n",
    "    def start(self):\n",
    "        print(f\"{self.car_brand},{self.car_model},{self.car_transmission},{self.car_engine} is start \")\n",
    "    def stop(self):\n",
    "        print(f\"{self.car_brand},{self.car_model},{self.car_transmission},{self.car_engine} is stop \")\n",
    "  \n",
    "    def fueltank(self):\n",
    "        print(f\"{self.car_brand},{self.car_model},{self.car_transmission},{self.car_engine} is fueled \")\n",
    "        "
   ]
  },
  {
   "cell_type": "code",
   "execution_count": 4,
   "id": "0794c2c9",
   "metadata": {},
   "outputs": [],
   "source": [
    "car1=Car(\"Toyota\",\"City\",\"Civic\",\"1300CC\")"
   ]
  },
  {
   "cell_type": "code",
   "execution_count": 5,
   "id": "6bae6866",
   "metadata": {},
   "outputs": [
    {
     "data": {
      "text/plain": [
       "'Toyota'"
      ]
     },
     "execution_count": 5,
     "metadata": {},
     "output_type": "execute_result"
    }
   ],
   "source": [
    "car1.car_brand"
   ]
  },
  {
   "cell_type": "code",
   "execution_count": 6,
   "id": "2a18224d",
   "metadata": {},
   "outputs": [
    {
     "name": "stdout",
     "output_type": "stream",
     "text": [
      "Toyota,City,Civic,1300CC is start \n"
     ]
    }
   ],
   "source": [
    "car1.start()"
   ]
  },
  {
   "cell_type": "code",
   "execution_count": 7,
   "id": "a64995b2",
   "metadata": {},
   "outputs": [
    {
     "name": "stdout",
     "output_type": "stream",
     "text": [
      "Toyota,City,Civic,1300CC is stop \n"
     ]
    }
   ],
   "source": [
    "car1.stop()"
   ]
  },
  {
   "cell_type": "code",
   "execution_count": 8,
   "id": "cf6b5304",
   "metadata": {},
   "outputs": [
    {
     "name": "stdout",
     "output_type": "stream",
     "text": [
      "Toyota,City,Civic,1300CC is fueled \n"
     ]
    }
   ],
   "source": [
    "car1.fueltank()"
   ]
  },
  {
   "cell_type": "code",
   "execution_count": 9,
   "id": "4db03302",
   "metadata": {},
   "outputs": [],
   "source": [
    "class Sportcar():\n",
    "    def __init__(self,brand,model,transmission,engine,top_speed,seat):\n",
    "        self.Sportcar_brand=brand\n",
    "        self.Sportcar_model=model\n",
    "        self.Sportcar_transmission=transmission\n",
    "        self.Sportcar_engine=engine\n",
    "        self.Sportcar_top_speed=top_speed\n",
    "        self.Sportcar_seat=seat\n",
    "    def start(self):\n",
    "        print(f\"{self.Sportcar_brand},{self.Sportcar_model},{self.Sportcar_transmission},{self.Sportcar_engine},{self.Sportcar_top_speed},{self.Sportcar_engine} is start \")\n",
    "    def stop(self):\n",
    "        print(f\"{self.Sportcar_brand},{self.Sportcar_model},{self.Sportcar_transmission},{self.Sportcar_engine},{self.Sportcar_top_speed},{self.Sportcar_engine} is Stop \")\n",
    "    def fueltank(self):\n",
    "        print(f\"{self.Sportcar_brand},{self.Sportcar_model},{self.Sportcar_transmission},{self.Sportcar_engine},{self.Sportcar_top_speed},{self.Sportcar_engine} is Fuel Tank \")\n",
    "    def currentSpeed(self):\n",
    "        print(\"Car is runing at highest speed\")"
   ]
  },
  {
   "cell_type": "code",
   "execution_count": 10,
   "id": "19fa1fa1",
   "metadata": {},
   "outputs": [],
   "source": [
    "Sc1=Sportcar(\"Honda\",\"2022\",\"Auto\",1800,\"500km/h\",2)"
   ]
  },
  {
   "cell_type": "code",
   "execution_count": 11,
   "id": "895848fc",
   "metadata": {
    "scrolled": true
   },
   "outputs": [
    {
     "name": "stdout",
     "output_type": "stream",
     "text": [
      "Honda,2022,Auto,1800,500km/h,1800 is start \n"
     ]
    }
   ],
   "source": [
    "Sc1.start()"
   ]
  },
  {
   "cell_type": "code",
   "execution_count": 12,
   "id": "dc3f3eaf",
   "metadata": {},
   "outputs": [
    {
     "name": "stdout",
     "output_type": "stream",
     "text": [
      "Honda,2022,Auto,1800,500km/h,1800 is Stop \n"
     ]
    }
   ],
   "source": [
    "Sc1.stop()"
   ]
  },
  {
   "cell_type": "code",
   "execution_count": 13,
   "id": "25d0145e",
   "metadata": {},
   "outputs": [
    {
     "name": "stdout",
     "output_type": "stream",
     "text": [
      "Honda,2022,Auto,1800,500km/h,1800 is Fuel Tank \n"
     ]
    }
   ],
   "source": [
    "Sc1.fueltank()"
   ]
  },
  {
   "cell_type": "code",
   "execution_count": 14,
   "id": "00a1872c",
   "metadata": {},
   "outputs": [
    {
     "name": "stdout",
     "output_type": "stream",
     "text": [
      "Car is runing at highest speed\n"
     ]
    }
   ],
   "source": [
    "Sc1.currentSpeed()"
   ]
  },
  {
   "cell_type": "code",
   "execution_count": 17,
   "id": "484f3c54",
   "metadata": {},
   "outputs": [],
   "source": [
    "class Sportcar(Car):\n",
    "    def __init__(self,brand,model,transmission,engine,top_speed,seat):\n",
    "        super().__init__(brand,model,transmission,engine)\n",
    "        self.Sportcar_top_speed=top_speed\n",
    "        self.Sportcar_seat=seat\n",
    "    def currentSpeed(self):\n",
    "        print(\"Car is runing at highest speed\")"
   ]
  },
  {
   "cell_type": "code",
   "execution_count": 15,
   "id": "5ec383dc",
   "metadata": {
    "scrolled": true
   },
   "outputs": [],
   "source": [
    "Sc2=Sportcar('Sporty',2023,'Auto','1800','600km/h','2')"
   ]
  },
  {
   "cell_type": "code",
   "execution_count": 16,
   "id": "4ddf600f",
   "metadata": {},
   "outputs": [
    {
     "data": {
      "text/plain": [
       "'Sporty'"
      ]
     },
     "execution_count": 16,
     "metadata": {},
     "output_type": "execute_result"
    }
   ],
   "source": [
    "Sc2.car_brand"
   ]
  },
  {
   "cell_type": "markdown",
   "id": "3891fd0d",
   "metadata": {},
   "source": [
    "# Polymorphism"
   ]
  },
  {
   "cell_type": "code",
   "execution_count": 17,
   "id": "783bf5d2",
   "metadata": {},
   "outputs": [],
   "source": [
    "def abc():\n",
    "    print(\"ABC\")\n",
    "def abc(value):\n",
    "    print(value)\n",
    "# two method with same name but different parameter in a class called as method overloading\n",
    "# but but but python doesn't support method overloading"
   ]
  },
  {
   "cell_type": "code",
   "execution_count": 18,
   "id": "d9bb6c22",
   "metadata": {},
   "outputs": [
    {
     "ename": "TypeError",
     "evalue": "abc() missing 1 required positional argument: 'value'",
     "output_type": "error",
     "traceback": [
      "\u001b[1;31m---------------------------------------------------------------------------\u001b[0m",
      "\u001b[1;31mTypeError\u001b[0m                                 Traceback (most recent call last)",
      "\u001b[1;32m~\\AppData\\Local\\Temp\\ipykernel_8172\\3611915777.py\u001b[0m in \u001b[0;36m<module>\u001b[1;34m\u001b[0m\n\u001b[1;32m----> 1\u001b[1;33m \u001b[0mabc\u001b[0m\u001b[1;33m(\u001b[0m\u001b[1;33m)\u001b[0m\u001b[1;33m\u001b[0m\u001b[1;33m\u001b[0m\u001b[0m\n\u001b[0m",
      "\u001b[1;31mTypeError\u001b[0m: abc() missing 1 required positional argument: 'value'"
     ]
    }
   ],
   "source": [
    "abc()"
   ]
  },
  {
   "cell_type": "code",
   "execution_count": null,
   "id": "f7a984bf",
   "metadata": {},
   "outputs": [],
   "source": [
    "def abc(value):\n",
    "    print(value)"
   ]
  },
  {
   "cell_type": "code",
   "execution_count": 19,
   "id": "38dc9363",
   "metadata": {},
   "outputs": [
    {
     "name": "stdout",
     "output_type": "stream",
     "text": [
      "kaw\n"
     ]
    }
   ],
   "source": [
    "abc('kaw')"
   ]
  },
  {
   "cell_type": "code",
   "execution_count": 20,
   "id": "e7533439",
   "metadata": {},
   "outputs": [],
   "source": [
    "# Polymorphism ka code haii yeah or is maii def FuelTank haii\n",
    "\n",
    "\n",
    "class ElecricCar(Car):\n",
    "    def __init__(self,brand,model,transmission,engine,battery):\n",
    "        self.battery=battery\n",
    "        super().__init__(brand,model,transmission,engine)\n",
    "    def ChargeBattery(self):\n",
    "        print(f\"battery is Being Charged\")\n",
    "        \n",
    "         # Redefine kar rahe haii\n",
    "    def fueltank(self):\n",
    "        print(\"Electric car has no Fuel Tank\")"
   ]
  },
  {
   "cell_type": "code",
   "execution_count": 21,
   "id": "2b8b7cd8",
   "metadata": {},
   "outputs": [],
   "source": [
    "ec1=ElecricCar('Honda',2022,\"Auto\",'2000CC','Osaka')"
   ]
  },
  {
   "cell_type": "code",
   "execution_count": 22,
   "id": "768bb404",
   "metadata": {},
   "outputs": [
    {
     "data": {
      "text/plain": [
       "'Honda'"
      ]
     },
     "execution_count": 22,
     "metadata": {},
     "output_type": "execute_result"
    }
   ],
   "source": [
    "ec1.car_brand\n"
   ]
  },
  {
   "cell_type": "code",
   "execution_count": 23,
   "id": "e889fa29",
   "metadata": {},
   "outputs": [
    {
     "name": "stdout",
     "output_type": "stream",
     "text": [
      "battery is Being Charged\n"
     ]
    }
   ],
   "source": [
    "ec1.ChargeBattery()"
   ]
  },
  {
   "cell_type": "code",
   "execution_count": 24,
   "id": "5afc25ce",
   "metadata": {},
   "outputs": [
    {
     "name": "stdout",
     "output_type": "stream",
     "text": [
      "Electric car has no Fuel Tank\n"
     ]
    }
   ],
   "source": [
    "ec1.fueltank()"
   ]
  },
  {
   "cell_type": "markdown",
   "id": "411110cb",
   "metadata": {},
   "source": [
    "# Encapsulation "
   ]
  },
  {
   "cell_type": "code",
   "execution_count": 26,
   "id": "111014f3",
   "metadata": {},
   "outputs": [
    {
     "data": {
      "text/plain": [
       "'2000CC'"
      ]
     },
     "execution_count": 26,
     "metadata": {},
     "output_type": "execute_result"
    }
   ],
   "source": [
    "ec1.car_engine"
   ]
  },
  {
   "cell_type": "code",
   "execution_count": 27,
   "id": "cd021bad",
   "metadata": {},
   "outputs": [
    {
     "data": {
      "text/plain": [
       "'Auto'"
      ]
     },
     "execution_count": 27,
     "metadata": {},
     "output_type": "execute_result"
    }
   ],
   "source": [
    "ec1.car_transmission"
   ]
  },
  {
   "cell_type": "code",
   "execution_count": 28,
   "id": "322fede8",
   "metadata": {},
   "outputs": [],
   "source": [
    "ec1.car_engine='5000CC'"
   ]
  },
  {
   "cell_type": "code",
   "execution_count": 30,
   "id": "687ddb94",
   "metadata": {},
   "outputs": [
    {
     "data": {
      "text/plain": [
       "'5000CC'"
      ]
     },
     "execution_count": 30,
     "metadata": {},
     "output_type": "execute_result"
    }
   ],
   "source": [
    "ec1.car_engine"
   ]
  },
  {
   "cell_type": "code",
   "execution_count": 45,
   "id": "641ee0c4",
   "metadata": {},
   "outputs": [],
   "source": [
    "class ElecricCar(Car):\n",
    "    def __init__(self,brand,model,transmission,engine,battery):\n",
    "        self.battery=battery\n",
    "        super().__init__(brand,model,transmission,engine)\n",
    "    def ChargeBattery(self):\n",
    "        print(f\"battery is Being Charged\")\n",
    "        \n",
    "         # Redefine kar rahe haii\n",
    "    def fueltank(self):\n",
    "        print(\"Electric car has no Fuel Tank\")\n",
    "    def getBattery(self):\n",
    "        print(f\"Installed battery in car is:{self.battery}\")\n",
    "    def setBattery(self,newBattery):\n",
    "        self.battery=newBattery\n",
    "        "
   ]
  },
  {
   "cell_type": "code",
   "execution_count": 46,
   "id": "cd45092f",
   "metadata": {},
   "outputs": [],
   "source": [
    "ec2=ElecricCar('volvo',2025,'Auto','1800CC','EXIDE')"
   ]
  },
  {
   "cell_type": "code",
   "execution_count": 47,
   "id": "746f78e9",
   "metadata": {},
   "outputs": [
    {
     "name": "stdout",
     "output_type": "stream",
     "text": [
      "Installed battery in car is:EXIDE\n"
     ]
    }
   ],
   "source": [
    "ec2.getBattery()"
   ]
  },
  {
   "cell_type": "code",
   "execution_count": 48,
   "id": "393e44cf",
   "metadata": {},
   "outputs": [],
   "source": [
    "ec2.setBattery('Osaka')"
   ]
  },
  {
   "cell_type": "code",
   "execution_count": 49,
   "id": "f045fb54",
   "metadata": {},
   "outputs": [
    {
     "name": "stdout",
     "output_type": "stream",
     "text": [
      "Installed battery in car is:Osaka\n"
     ]
    }
   ],
   "source": [
    "ec2.getBattery()"
   ]
  },
  {
   "cell_type": "code",
   "execution_count": 50,
   "id": "2cb59bdd",
   "metadata": {},
   "outputs": [],
   "source": [
    "ec2.battery='Germany Battery'"
   ]
  },
  {
   "cell_type": "code",
   "execution_count": 51,
   "id": "f9dd98dc",
   "metadata": {},
   "outputs": [
    {
     "name": "stdout",
     "output_type": "stream",
     "text": [
      "Installed battery in car is:Germany Battery\n"
     ]
    }
   ],
   "source": [
    "ec2.getBattery()"
   ]
  },
  {
   "cell_type": "code",
   "execution_count": 33,
   "id": "6fdc0975",
   "metadata": {},
   "outputs": [],
   "source": [
    "class Student():\n",
    "    def __init__(self,roll,name,course,institute):\n",
    "        self.roll=roll\n",
    "        self.name=name\n",
    "        self.course=course\n",
    "        self.institute=institute\n",
    "    def getroll(self):\n",
    "        print(f\"Student roll is {self.roll}\")\n",
    "    def setroll(self,newroll):\n",
    "         \n",
    "        print(f\"Roll number can't be Changed\")\n",
    "    \n",
    "    def getname(self):\n",
    "        print(f\"Student roll is {self.name}\")\n",
    "    def setname(self,newname):\n",
    "        \n",
    "        print(f\"Name can't be Changed\")\n",
    "        \n",
    "        \n",
    "    def getinstitute(self):\n",
    "        print(f\"Institute name is {self.institute}\")\n",
    "    def setroll(self,newinstitute):\n",
    "        print(f\"Institute can't be Changed\")\n",
    "        \n",
    "    def getcourse(self):\n",
    "        print(f\"Student Course is {self.course}\")\n",
    "\n",
    "    def setcourse(self,newcourse):\n",
    "        course=['IOT','Metaverse','Blockchain','AIC','CNC']\n",
    "        if newcourse in course:\n",
    "                self.course=newcourse\n",
    "        else:\n",
    "                print('Applied Course is not Available')\n",
    "        \n",
    "    \n",
    "    \n",
    "    \n",
    "        \n",
    "  \n",
    "    \n",
    "    \n",
    "        "
   ]
  },
  {
   "cell_type": "code",
   "execution_count": 45,
   "id": "d20665a2",
   "metadata": {},
   "outputs": [],
   "source": [
    "s1=Student(135500,'Kawish Akber','AI & Web 3.O',\"PIAIC\")"
   ]
  },
  {
   "cell_type": "code",
   "execution_count": 46,
   "id": "ccb63424",
   "metadata": {},
   "outputs": [
    {
     "name": "stdout",
     "output_type": "stream",
     "text": [
      "Student roll is 135500\n"
     ]
    }
   ],
   "source": [
    "s1.getroll()"
   ]
  },
  {
   "cell_type": "code",
   "execution_count": 47,
   "id": "501673cf",
   "metadata": {},
   "outputs": [
    {
     "name": "stdout",
     "output_type": "stream",
     "text": [
      "Institute can't be Changed\n"
     ]
    }
   ],
   "source": [
    "s1.setroll(13457)"
   ]
  },
  {
   "cell_type": "code",
   "execution_count": 48,
   "id": "dcbf9544",
   "metadata": {},
   "outputs": [
    {
     "name": "stdout",
     "output_type": "stream",
     "text": [
      "Student roll is 135500\n"
     ]
    }
   ],
   "source": [
    "s1.getroll()"
   ]
  },
  {
   "cell_type": "code",
   "execution_count": 49,
   "id": "6addaa74",
   "metadata": {},
   "outputs": [
    {
     "name": "stdout",
     "output_type": "stream",
     "text": [
      "Student Course is AI & Web 3.O\n"
     ]
    }
   ],
   "source": [
    "s1.getcourse()"
   ]
  },
  {
   "cell_type": "code",
   "execution_count": 50,
   "id": "4fb0c54e",
   "metadata": {},
   "outputs": [
    {
     "name": "stdout",
     "output_type": "stream",
     "text": [
      "Applied Course is not Available\n"
     ]
    }
   ],
   "source": [
    "s1.setcourse('Dev')"
   ]
  },
  {
   "cell_type": "code",
   "execution_count": 51,
   "id": "e8c50c96",
   "metadata": {},
   "outputs": [
    {
     "name": "stdout",
     "output_type": "stream",
     "text": [
      "Student Course is AI & Web 3.O\n"
     ]
    }
   ],
   "source": [
    "s1.getcourse()"
   ]
  },
  {
   "cell_type": "code",
   "execution_count": null,
   "id": "cebc4368",
   "metadata": {},
   "outputs": [],
   "source": []
  }
 ],
 "metadata": {
  "kernelspec": {
   "display_name": "Python 3 (ipykernel)",
   "language": "python",
   "name": "python3"
  },
  "language_info": {
   "codemirror_mode": {
    "name": "ipython",
    "version": 3
   },
   "file_extension": ".py",
   "mimetype": "text/x-python",
   "name": "python",
   "nbconvert_exporter": "python",
   "pygments_lexer": "ipython3",
   "version": "3.9.13"
  }
 },
 "nbformat": 4,
 "nbformat_minor": 5
}
