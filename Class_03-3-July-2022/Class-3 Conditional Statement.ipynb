{
 "cells": [
  {
   "cell_type": "markdown",
   "id": "a32a5b94",
   "metadata": {},
   "source": [
    "# Conditional Statments\n",
    " - Type Casting\n",
    " - User input\n",
    " - string concatenation\n",
    " - string format using >>(format(), f)\n",
    " - String \n",
    " - if statement\n",
    " - else statement\n"
   ]
  },
  {
   "cell_type": "markdown",
   "id": "c1be6a98",
   "metadata": {},
   "source": [
    "### Type Casting"
   ]
  },
  {
   "cell_type": "code",
   "execution_count": 1,
   "id": "1145ef25",
   "metadata": {},
   "outputs": [],
   "source": [
    "# int, float, bool,str\n",
    "mark=90"
   ]
  },
  {
   "cell_type": "code",
   "execution_count": 2,
   "id": "08defbd1",
   "metadata": {},
   "outputs": [
    {
     "name": "stdout",
     "output_type": "stream",
     "text": [
      "<class 'int'>\n"
     ]
    }
   ],
   "source": [
    "print(type(mark))"
   ]
  },
  {
   "cell_type": "code",
   "execution_count": 3,
   "id": "f467b268",
   "metadata": {},
   "outputs": [
    {
     "name": "stdout",
     "output_type": "stream",
     "text": [
      "90.0\n"
     ]
    },
    {
     "data": {
      "text/plain": [
       "float"
      ]
     },
     "execution_count": 3,
     "metadata": {},
     "output_type": "execute_result"
    }
   ],
   "source": [
    "float_mark=float(mark)\n",
    "print(float_mark)\n",
    "type(float_mark)"
   ]
  },
  {
   "cell_type": "code",
   "execution_count": 4,
   "id": "6e3f3ebb",
   "metadata": {},
   "outputs": [
    {
     "data": {
      "text/plain": [
       "float"
      ]
     },
     "execution_count": 4,
     "metadata": {},
     "output_type": "execute_result"
    }
   ],
   "source": [
    "percentage=98.7\n",
    "type(percentage)"
   ]
  },
  {
   "cell_type": "code",
   "execution_count": 5,
   "id": "f1f0132e",
   "metadata": {},
   "outputs": [],
   "source": [
    "int_percentage=int(percentage)"
   ]
  },
  {
   "cell_type": "code",
   "execution_count": 6,
   "id": "8f33e780",
   "metadata": {},
   "outputs": [
    {
     "name": "stdout",
     "output_type": "stream",
     "text": [
      "98\n"
     ]
    },
    {
     "data": {
      "text/plain": [
       "int"
      ]
     },
     "execution_count": 6,
     "metadata": {},
     "output_type": "execute_result"
    }
   ],
   "source": [
    "print(int_percentage)\n",
    "type(int_percentage)"
   ]
  },
  {
   "cell_type": "code",
   "execution_count": 7,
   "id": "55e9a4cf",
   "metadata": {},
   "outputs": [
    {
     "name": "stdout",
     "output_type": "stream",
     "text": [
      "<class 'str'>\n"
     ]
    },
    {
     "data": {
      "text/plain": [
       "'45'"
      ]
     },
     "execution_count": 7,
     "metadata": {},
     "output_type": "execute_result"
    }
   ],
   "source": [
    "age='45'\n",
    "print(type(age))\n",
    "age"
   ]
  },
  {
   "cell_type": "code",
   "execution_count": 8,
   "id": "6a337c1d",
   "metadata": {},
   "outputs": [
    {
     "name": "stdout",
     "output_type": "stream",
     "text": [
      "45\n"
     ]
    }
   ],
   "source": [
    "int_age=int(age)\n",
    "print(age)"
   ]
  },
  {
   "cell_type": "code",
   "execution_count": 9,
   "id": "37d1c38b",
   "metadata": {},
   "outputs": [
    {
     "name": "stdout",
     "output_type": "stream",
     "text": [
      "45.0\n"
     ]
    }
   ],
   "source": [
    "float_age=float(age)\n",
    "print(float_age)"
   ]
  },
  {
   "cell_type": "code",
   "execution_count": 3,
   "id": "b2f2c533",
   "metadata": {},
   "outputs": [
    {
     "data": {
      "text/plain": [
       "('C', 65)"
      ]
     },
     "execution_count": 3,
     "metadata": {},
     "output_type": "execute_result"
    }
   ],
   "source": [
    "chr(67),ord(\"A\")"
   ]
  },
  {
   "cell_type": "raw",
   "id": "5920719e",
   "metadata": {},
   "source": [
    "User Input\n",
    "    * Console input\n",
    "    * Runtime input\n",
    "    * User input form console will always be an string value"
   ]
  },
  {
   "cell_type": "code",
   "execution_count": 11,
   "id": "71fb259c",
   "metadata": {},
   "outputs": [
    {
     "name": "stdout",
     "output_type": "stream",
     "text": [
      "kawish\n"
     ]
    },
    {
     "data": {
      "text/plain": [
       "'kawish'"
      ]
     },
     "execution_count": 11,
     "metadata": {},
     "output_type": "execute_result"
    }
   ],
   "source": [
    "input()"
   ]
  },
  {
   "cell_type": "raw",
   "id": "67952443",
   "metadata": {},
   "source": [
    "\n"
   ]
  },
  {
   "cell_type": "code",
   "execution_count": 12,
   "id": "454188fb",
   "metadata": {
    "scrolled": true
   },
   "outputs": [
    {
     "name": "stdout",
     "output_type": "stream",
     "text": [
      "Please tell me your good name sir!kawish\n",
      "kawish\n"
     ]
    }
   ],
   "source": [
    "user_name=input(\"Please tell me your good name sir!\")\n",
    "print(user_name)"
   ]
  },
  {
   "cell_type": "code",
   "execution_count": 13,
   "id": "0644d160",
   "metadata": {},
   "outputs": [
    {
     "data": {
      "text/plain": [
       "'kawish'"
      ]
     },
     "execution_count": 13,
     "metadata": {},
     "output_type": "execute_result"
    }
   ],
   "source": [
    "user_name"
   ]
  },
  {
   "cell_type": "code",
   "execution_count": 14,
   "id": "d9d75851",
   "metadata": {},
   "outputs": [
    {
     "name": "stdout",
     "output_type": "stream",
     "text": [
      "Please Enter your age: 12\n"
     ]
    }
   ],
   "source": [
    "user_age=input(\"Please Enter your age: \")"
   ]
  },
  {
   "cell_type": "markdown",
   "id": "6219620a",
   "metadata": {},
   "source": [
    "String Concatenation "
   ]
  },
  {
   "cell_type": "raw",
   "id": "3c641803",
   "metadata": {},
   "source": [
    "- Joining of two string together"
   ]
  },
  {
   "cell_type": "code",
   "execution_count": 15,
   "id": "8a354fe1",
   "metadata": {},
   "outputs": [],
   "source": [
    "fname=\"Kawish\"\n",
    "Lname=\"Akber\""
   ]
  },
  {
   "cell_type": "code",
   "execution_count": 16,
   "id": "d9399ea9",
   "metadata": {},
   "outputs": [
    {
     "name": "stdout",
     "output_type": "stream",
     "text": [
      "Enterkawish\n"
     ]
    },
    {
     "data": {
      "text/plain": [
       "str"
      ]
     },
     "execution_count": 16,
     "metadata": {},
     "output_type": "execute_result"
    }
   ],
   "source": [
    "age1=input(\"Enter\")\n",
    "type(age1)"
   ]
  },
  {
   "cell_type": "code",
   "execution_count": 19,
   "id": "7d97bb05",
   "metadata": {},
   "outputs": [
    {
     "data": {
      "text/plain": [
       "'KawishAkber'"
      ]
     },
     "execution_count": 19,
     "metadata": {},
     "output_type": "execute_result"
    }
   ],
   "source": [
    "fname +  Lname"
   ]
  },
  {
   "cell_type": "code",
   "execution_count": 22,
   "id": "c886eea5",
   "metadata": {},
   "outputs": [
    {
     "data": {
      "text/plain": [
       "'Asad16'"
      ]
     },
     "execution_count": 22,
     "metadata": {},
     "output_type": "execute_result"
    }
   ],
   "source": [
    "\"Asad\"+str(16)"
   ]
  },
  {
   "cell_type": "markdown",
   "id": "d4dfaa0a",
   "metadata": {},
   "source": []
  },
  {
   "cell_type": "code",
   "execution_count": 23,
   "id": "8e3a0ec1",
   "metadata": {},
   "outputs": [
    {
     "name": "stdout",
     "output_type": "stream",
     "text": [
      "Enter your Name:kawish\n",
      "Enter your Birth of year23\n",
      "Your name is kawish and your year of birth is 23\n"
     ]
    }
   ],
   "source": [
    "name=input(\"Enter your Name:\")\n",
    "Year_of_birth=input(\"Enter your Birth of year\")\n",
    "\n",
    "print(\"Your name is \"+ name+\" and your year of birth is \"+Year_of_birth)"
   ]
  },
  {
   "cell_type": "code",
   "execution_count": 24,
   "id": "ea66fa65",
   "metadata": {},
   "outputs": [
    {
     "name": "stdout",
     "output_type": "stream",
     "text": [
      "Enter your namekawi\n",
      "Enter your age12\n"
     ]
    }
   ],
   "source": [
    "student_name=input(\"Enter your name\")\n",
    "student_age = input(\"Enter your age\")"
   ]
  },
  {
   "cell_type": "code",
   "execution_count": 25,
   "id": "9924eeb2",
   "metadata": {},
   "outputs": [
    {
     "ename": "TypeError",
     "evalue": "can only concatenate str (not \"int\") to str",
     "output_type": "error",
     "traceback": [
      "\u001b[1;31m---------------------------------------------------------------------------\u001b[0m",
      "\u001b[1;31mTypeError\u001b[0m                                 Traceback (most recent call last)",
      "\u001b[1;32m~\\AppData\\Local\\Temp\\ipykernel_7764\\3425139390.py\u001b[0m in \u001b[0;36m<module>\u001b[1;34m\u001b[0m\n\u001b[1;32m----> 1\u001b[1;33m \u001b[0mstudent_age\u001b[0m\u001b[1;33m+\u001b[0m\u001b[1;36m10\u001b[0m\u001b[1;33m\u001b[0m\u001b[1;33m\u001b[0m\u001b[0m\n\u001b[0m\u001b[0;32m      2\u001b[0m \u001b[1;31m#  str       int\u001b[0m\u001b[1;33m\u001b[0m\u001b[1;33m\u001b[0m\u001b[0m\n",
      "\u001b[1;31mTypeError\u001b[0m: can only concatenate str (not \"int\") to str"
     ]
    }
   ],
   "source": [
    "student_age+10\n",
    "#  str       int"
   ]
  },
  {
   "cell_type": "code",
   "execution_count": 26,
   "id": "5485220f",
   "metadata": {},
   "outputs": [
    {
     "name": "stdout",
     "output_type": "stream",
     "text": [
      "Enter your namekawis\n",
      "Enter your age23\n"
     ]
    }
   ],
   "source": [
    "student_name=input(\"Enter your name\")\n",
    "student_age = int(input(\"Enter your age\"))"
   ]
  },
  {
   "cell_type": "code",
   "execution_count": 27,
   "id": "65847418",
   "metadata": {},
   "outputs": [
    {
     "data": {
      "text/plain": [
       "33"
      ]
     },
     "execution_count": 27,
     "metadata": {},
     "output_type": "execute_result"
    }
   ],
   "source": [
    "student_age+10\n",
    "# int        int"
   ]
  },
  {
   "cell_type": "code",
   "execution_count": 11,
   "id": "8619ecec",
   "metadata": {},
   "outputs": [
    {
     "name": "stdout",
     "output_type": "stream",
     "text": [
      "Enter your age23.5\n"
     ]
    }
   ],
   "source": [
    "student_age=int(float(input(\"Enter your age\")))\n"
   ]
  },
  {
   "cell_type": "code",
   "execution_count": 12,
   "id": "8a807fb2",
   "metadata": {},
   "outputs": [
    {
     "data": {
      "text/plain": [
       "23"
      ]
     },
     "execution_count": 12,
     "metadata": {},
     "output_type": "execute_result"
    }
   ],
   "source": [
    "student_age"
   ]
  },
  {
   "cell_type": "code",
   "execution_count": 33,
   "id": "a6508c07",
   "metadata": {},
   "outputs": [
    {
     "name": "stdout",
     "output_type": "stream",
     "text": [
      "Enter your namekawis\n",
      "Enter your age23\n",
      "Your name is kawis and your age is 23\n"
     ]
    }
   ],
   "source": [
    "student_name=input(\"Enter your name\")\n",
    "student_age = (input(\"Enter your age\"))\n",
    "print(\"Your name is \"+student_name+\" and your age is \"+student_age)"
   ]
  },
  {
   "cell_type": "raw",
   "id": "af62c302",
   "metadata": {},
   "source": [
    "String Formation\n",
    "    -Format (value1,value2,....)\n",
    "    -It is easier simpler than concatenation\n",
    "    -It doesn't need type casting"
   ]
  },
  {
   "cell_type": "code",
   "execution_count": 26,
   "id": "0250cc10",
   "metadata": {},
   "outputs": [
    {
     "name": "stdout",
     "output_type": "stream",
     "text": [
      "Enter your name: kawish\n",
      "Enter your age: 12\n",
      "Your name is 12 and your age is student Age: 12\n"
     ]
    }
   ],
   "source": [
    "student_name=input(\"Enter your name: \")\n",
    "student_age = int(input(\"Enter your age: \"))\n",
    "print(\"Your name is {} and your age is student Age: {}\".format(student_age,student_age))\n",
    "\n",
    "# Place Holder{}"
   ]
  },
  {
   "cell_type": "code",
   "execution_count": 27,
   "id": "03e91799",
   "metadata": {},
   "outputs": [
    {
     "name": "stdout",
     "output_type": "stream",
     "text": [
      "kawish\n"
     ]
    }
   ],
   "source": [
    "print(\"ka{}is{}\".format(\"w\",\"h\"))"
   ]
  },
  {
   "cell_type": "code",
   "execution_count": 28,
   "id": "aa810187",
   "metadata": {},
   "outputs": [
    {
     "name": "stdout",
     "output_type": "stream",
     "text": [
      "Enter your namekawish\n",
      "Enter your age12\n",
      "Your name is 12and your age is student_age12\n"
     ]
    }
   ],
   "source": [
    "student_name=input(\"Enter your name\")\n",
    "student_age = int(input(\"Enter your age\"))\n",
    "print(\"Your name is {0}and your age is student_age{1}\".format(student_age,student_age))\n",
    "\n",
    "# Place Holder{}"
   ]
  },
  {
   "cell_type": "markdown",
   "id": "185d6ff7",
   "metadata": {},
   "source": [
    "#### String Format by f"
   ]
  },
  {
   "cell_type": "code",
   "execution_count": 38,
   "id": "7ffa7731",
   "metadata": {},
   "outputs": [
    {
     "name": "stdout",
     "output_type": "stream",
     "text": [
      "Enter your namekawish\n",
      "Enter your age23\n",
      "Your name is kawishand your age is student_age23\n"
     ]
    }
   ],
   "source": [
    "student_name=input(\"Enter your name\")\n",
    "student_age = int(input(\"Enter your age\"))\n",
    "print(f\"Your name is {student_name}and your age is student_age{student_age}\")\n",
    "\n"
   ]
  },
  {
   "cell_type": "markdown",
   "id": "18c98921",
   "metadata": {},
   "source": [
    "String\n",
    "       # string is immutable(unchangeable)"
   ]
  },
  {
   "cell_type": "code",
   "execution_count": 4,
   "id": "20b24b7d",
   "metadata": {},
   "outputs": [
    {
     "data": {
      "text/plain": [
       "str"
      ]
     },
     "execution_count": 4,
     "metadata": {},
     "output_type": "execute_result"
    }
   ],
   "source": [
    "institute=\"SOSTTI\"\n",
    "type(institute)\n"
   ]
  },
  {
   "cell_type": "code",
   "execution_count": 5,
   "id": "70872cb1",
   "metadata": {},
   "outputs": [
    {
     "data": {
      "text/plain": [
       "'Sostti'"
      ]
     },
     "execution_count": 5,
     "metadata": {},
     "output_type": "execute_result"
    }
   ],
   "source": [
    "institute.capitalize()"
   ]
  },
  {
   "cell_type": "code",
   "execution_count": 6,
   "id": "e6e20778",
   "metadata": {},
   "outputs": [
    {
     "data": {
      "text/plain": [
       "'sostti'"
      ]
     },
     "execution_count": 6,
     "metadata": {},
     "output_type": "execute_result"
    }
   ],
   "source": [
    "institute.lower()"
   ]
  },
  {
   "cell_type": "code",
   "execution_count": 7,
   "id": "3cf96abb",
   "metadata": {},
   "outputs": [
    {
     "data": {
      "text/plain": [
       "'SOSTTI'"
      ]
     },
     "execution_count": 7,
     "metadata": {},
     "output_type": "execute_result"
    }
   ],
   "source": [
    "institute.upper()"
   ]
  },
  {
   "cell_type": "code",
   "execution_count": 8,
   "id": "abce4000",
   "metadata": {},
   "outputs": [
    {
     "data": {
      "text/plain": [
       "2"
      ]
     },
     "execution_count": 8,
     "metadata": {},
     "output_type": "execute_result"
    }
   ],
   "source": [
    "institute.count(\"S\")"
   ]
  },
  {
   "cell_type": "code",
   "execution_count": 9,
   "id": "d3593ab1",
   "metadata": {},
   "outputs": [],
   "source": [
    "ins=\"Save our SOul Technical Training Institute\""
   ]
  },
  {
   "cell_type": "code",
   "execution_count": 10,
   "id": "f0584d33",
   "metadata": {},
   "outputs": [
    {
     "data": {
      "text/plain": [
       "'o'"
      ]
     },
     "execution_count": 10,
     "metadata": {},
     "output_type": "execute_result"
    }
   ],
   "source": [
    "ins[5]"
   ]
  },
  {
   "cell_type": "code",
   "execution_count": 11,
   "id": "8acbdd77",
   "metadata": {},
   "outputs": [
    {
     "data": {
      "text/plain": [
       "'r'"
      ]
     },
     "execution_count": 11,
     "metadata": {},
     "output_type": "execute_result"
    }
   ],
   "source": [
    "ins[25]"
   ]
  },
  {
   "cell_type": "code",
   "execution_count": 12,
   "id": "7b012ace",
   "metadata": {},
   "outputs": [
    {
     "data": {
      "text/plain": [
       "-1"
      ]
     },
     "execution_count": 12,
     "metadata": {},
     "output_type": "execute_result"
    }
   ],
   "source": [
    "ins.find('z')\n",
    "# -1 means does not Exist"
   ]
  },
  {
   "cell_type": "code",
   "execution_count": 13,
   "id": "bfbf80b0",
   "metadata": {},
   "outputs": [
    {
     "data": {
      "text/plain": [
       "36"
      ]
     },
     "execution_count": 13,
     "metadata": {},
     "output_type": "execute_result"
    }
   ],
   "source": [
    "ins.find('t')"
   ]
  },
  {
   "cell_type": "code",
   "execution_count": 14,
   "id": "9f1df0bc",
   "metadata": {},
   "outputs": [
    {
     "data": {
      "text/plain": [
       "9"
      ]
     },
     "execution_count": 14,
     "metadata": {},
     "output_type": "execute_result"
    }
   ],
   "source": [
    "ins.find('S',8)"
   ]
  },
  {
   "cell_type": "code",
   "execution_count": 16,
   "id": "24b3ff0d",
   "metadata": {},
   "outputs": [
    {
     "data": {
      "text/plain": [
       "True"
      ]
     },
     "execution_count": 16,
     "metadata": {},
     "output_type": "execute_result"
    }
   ],
   "source": [
    "institute.isalnum()"
   ]
  },
  {
   "cell_type": "code",
   "execution_count": 18,
   "id": "d759e1b4",
   "metadata": {},
   "outputs": [
    {
     "data": {
      "text/plain": [
       "True"
      ]
     },
     "execution_count": 18,
     "metadata": {},
     "output_type": "execute_result"
    }
   ],
   "source": [
    "\"3\".isdigit()"
   ]
  },
  {
   "cell_type": "code",
   "execution_count": 24,
   "id": "aeae46b1",
   "metadata": {},
   "outputs": [
    {
     "data": {
      "text/plain": [
       "8"
      ]
     },
     "execution_count": 24,
     "metadata": {},
     "output_type": "execute_result"
    }
   ],
   "source": [
    "len(\"Zindabad\")"
   ]
  },
  {
   "cell_type": "code",
   "execution_count": 61,
   "id": "8b552ba2",
   "metadata": {},
   "outputs": [
    {
     "data": {
      "text/plain": [
       "False"
      ]
     },
     "execution_count": 61,
     "metadata": {},
     "output_type": "execute_result"
    }
   ],
   "source": [
    "\"Pakistan\"==\" Pakistan\""
   ]
  },
  {
   "cell_type": "code",
   "execution_count": 62,
   "id": "efa52157",
   "metadata": {},
   "outputs": [
    {
     "data": {
      "text/plain": [
       "'Pakistan'"
      ]
     },
     "execution_count": 62,
     "metadata": {},
     "output_type": "execute_result"
    }
   ],
   "source": [
    "' Pakistan'.lstrip()"
   ]
  },
  {
   "cell_type": "code",
   "execution_count": 25,
   "id": "71ffc4f8",
   "metadata": {},
   "outputs": [
    {
     "data": {
      "text/plain": [
       "'Pakistan'"
      ]
     },
     "execution_count": 25,
     "metadata": {},
     "output_type": "execute_result"
    }
   ],
   "source": [
    "'Pakistan '.rstrip()"
   ]
  },
  {
   "cell_type": "code",
   "execution_count": 26,
   "id": "facc2314",
   "metadata": {},
   "outputs": [
    {
     "data": {
      "text/plain": [
       "'Pakistan'"
      ]
     },
     "execution_count": 26,
     "metadata": {},
     "output_type": "execute_result"
    }
   ],
   "source": [
    " '     Pakistan     '.strip()"
   ]
  },
  {
   "cell_type": "code",
   "execution_count": 27,
   "id": "7aa8fca6",
   "metadata": {},
   "outputs": [
    {
     "data": {
      "text/plain": [
       "'Save our SOul Technical Training Institute'"
      ]
     },
     "execution_count": 27,
     "metadata": {},
     "output_type": "execute_result"
    }
   ],
   "source": [
    "ins"
   ]
  },
  {
   "cell_type": "code",
   "execution_count": 28,
   "id": "c88c60b4",
   "metadata": {},
   "outputs": [
    {
     "data": {
      "text/plain": [
       "'S'"
      ]
     },
     "execution_count": 28,
     "metadata": {},
     "output_type": "execute_result"
    }
   ],
   "source": [
    "ins[0]"
   ]
  },
  {
   "cell_type": "code",
   "execution_count": 29,
   "id": "672cf753",
   "metadata": {},
   "outputs": [
    {
     "ename": "TypeError",
     "evalue": "'str' object does not support item assignment",
     "output_type": "error",
     "traceback": [
      "\u001b[1;31m---------------------------------------------------------------------------\u001b[0m",
      "\u001b[1;31mTypeError\u001b[0m                                 Traceback (most recent call last)",
      "\u001b[1;32m~\\AppData\\Local\\Temp\\ipykernel_12384\\4087587671.py\u001b[0m in \u001b[0;36m<module>\u001b[1;34m\u001b[0m\n\u001b[1;32m----> 1\u001b[1;33m \u001b[0mins\u001b[0m\u001b[1;33m[\u001b[0m\u001b[1;36m0\u001b[0m\u001b[1;33m]\u001b[0m\u001b[1;33m=\u001b[0m\u001b[1;34m\"S\"\u001b[0m\u001b[1;33m\u001b[0m\u001b[1;33m\u001b[0m\u001b[0m\n\u001b[0m",
      "\u001b[1;31mTypeError\u001b[0m: 'str' object does not support item assignment"
     ]
    }
   ],
   "source": [
    "ins[0]=\"S\""
   ]
  },
  {
   "cell_type": "code",
   "execution_count": 69,
   "id": "56d670e3",
   "metadata": {},
   "outputs": [],
   "source": [
    "designation=\"Minister\""
   ]
  },
  {
   "cell_type": "code",
   "execution_count": 73,
   "id": "119b14f3",
   "metadata": {},
   "outputs": [],
   "source": [
    "designation=designation.upper()"
   ]
  },
  {
   "cell_type": "code",
   "execution_count": 74,
   "id": "44da414c",
   "metadata": {},
   "outputs": [
    {
     "data": {
      "text/plain": [
       "'MINISTER'"
      ]
     },
     "execution_count": 74,
     "metadata": {},
     "output_type": "execute_result"
    }
   ],
   "source": [
    "designation"
   ]
  },
  {
   "cell_type": "markdown",
   "id": "b3fff447",
   "metadata": {},
   "source": [
    "## If Statement\n"
   ]
  },
  {
   "cell_type": "markdown",
   "id": "f589f5fd",
   "metadata": {},
   "source": [
    "Runing a code of block when some specific condition is satisfied"
   ]
  },
  {
   "cell_type": "code",
   "execution_count": 76,
   "id": "c014ebac",
   "metadata": {},
   "outputs": [
    {
     "name": "stdout",
     "output_type": "stream",
     "text": [
      "Enter age :34\n",
      "Your are Youbg\n"
     ]
    }
   ],
   "source": [
    "age=int(input(\"Enter age :\"))\n",
    "if age>18:\n",
    "    print(\"Your are Young: \")\n",
    "    "
   ]
  },
  {
   "cell_type": "code",
   "execution_count": 77,
   "id": "46fb8219",
   "metadata": {},
   "outputs": [
    {
     "name": "stdout",
     "output_type": "stream",
     "text": [
      "Tamater kia hisab hen20\n",
      "Give me 5kg\n"
     ]
    }
   ],
   "source": [
    "tomato_price = int(input(\"Tamater kia hisab hen:\"))\n",
    "if tomato_price < 50:\n",
    "    print(\"Give me 5kg\")"
   ]
  },
  {
   "cell_type": "code",
   "execution_count": 78,
   "id": "8fb4cbcb",
   "metadata": {},
   "outputs": [
    {
     "name": "stdout",
     "output_type": "stream",
     "text": [
      "Tamater kia hisab hen50\n"
     ]
    }
   ],
   "source": [
    "tomato_price = int(input(\"Tamater kia hisab hen\"))\n",
    "if tomato_price < 50:\n",
    "    print(\"Give me 5kg\")"
   ]
  },
  {
   "cell_type": "code",
   "execution_count": 79,
   "id": "417ea613",
   "metadata": {},
   "outputs": [
    {
     "name": "stdout",
     "output_type": "stream",
     "text": [
      "Tamater kia hisab hen50\n",
      "2KG\n"
     ]
    }
   ],
   "source": [
    "tomato_price = int(input(\"Tamater kia hisab hen\"))\n",
    "if tomato_price < 50:\n",
    "    print(\"Give me 5kg.\")\n",
    "else:\n",
    "    print(\"2KG\")"
   ]
  },
  {
   "cell_type": "code",
   "execution_count": null,
   "id": "b743237b",
   "metadata": {},
   "outputs": [],
   "source": []
  }
 ],
 "metadata": {
  "kernelspec": {
   "display_name": "Python 3 (ipykernel)",
   "language": "python",
   "name": "python3"
  },
  "language_info": {
   "codemirror_mode": {
    "name": "ipython",
    "version": 3
   },
   "file_extension": ".py",
   "mimetype": "text/x-python",
   "name": "python",
   "nbconvert_exporter": "python",
   "pygments_lexer": "ipython3",
   "version": "3.9.13"
  }
 },
 "nbformat": 4,
 "nbformat_minor": 5
}
